{
 "cells": [
  {
   "cell_type": "code",
   "execution_count": 1,
   "id": "731cfb9b",
   "metadata": {},
   "outputs": [],
   "source": [
    "import pandas as pd #'version 1.2.4'\n",
    "import numpy as np #'version 1.21.0'\n",
    "from basico import * #'version 0.36'\n",
    "from scipy.optimize import minimize #'version 1.10.0'\n",
    "import random\n",
    "import matplotlib.pyplot as plt #'version 3.3.4'\n",
    "\n",
    "\n",
    "replicates = 100\n",
    "path = !pwd\n",
    "path = path[0]"
   ]
  },
  {
   "cell_type": "code",
   "execution_count": 2,
   "id": "4b1624cf",
   "metadata": {},
   "outputs": [
    {
     "name": "stdout",
     "output_type": "stream",
     "text": [
      "Starting 110 engines with <class 'ipyparallel.cluster.launcher.LocalEngineSetLauncher'>\n"
     ]
    },
    {
     "data": {
      "application/vnd.jupyter.widget-view+json": {
       "model_id": "707abe7839c34e1288685c5d39a7369d",
       "version_major": 2,
       "version_minor": 0
      },
      "text/plain": [
       " 65%|######4   | 71/110 [00:00<?, ?engine/s]"
      ]
     },
     "metadata": {},
     "output_type": "display_data"
    }
   ],
   "source": [
    "# define the number of cores to be used\n",
    "# this code is commented because to prevent overloading and crashing computers. This code was run using AWS cloud computing.\n",
    "\n",
    "# par_cores = 110 \n",
    "# import ipyparallel as ipp # version 8.4.1\n",
    "# cluster = ipp.Cluster(n=par_cores)\n",
    "# cluster.start_cluster_sync()\n",
    "# rc = cluster.connect_client_sync()\n",
    "# rc.wait_for_engines(par_cores)\n",
    "# dview = rc[0:par_cores] # for first tests"
   ]
  },
  {
   "cell_type": "code",
   "execution_count": null,
   "id": "889bd1a1",
   "metadata": {},
   "outputs": [],
   "source": [
    "\n",
    "def gen_random_guess(x): # function for generating a random start position for the parameter search\n",
    "    guess = [0] * len(x) # make a list the same length as the given parameters\n",
    "    for i in range(len(guess)):\n",
    "        guess[i] = random.uniform(-10,-1) # select random value from this distribution\n",
    "        guess[i] = 2**guess[i]\n",
    "    return guess\n"
   ]
  },
  {
   "cell_type": "code",
   "execution_count": 6,
   "id": "c7318e3e",
   "metadata": {},
   "outputs": [],
   "source": [
    "# define the path for the models and the variant names then combine them\n",
    "mod_path =path + \"/Models/\" \n",
    "files =  [\"NMGPL_Model.xml\", \"NPMGL_Model.xml\", \"NMPGL_Model.xml\", \"NGPML_Model.xml\", \"NGMPL_Model.xml\"] # ,\"NMPGL_Model.xml\", \"NGMPL_Model.xml\", \"NGPML_Model.xml\"]\n",
    "models = [mod_path + m for m in files]"
   ]
  },
  {
   "cell_type": "code",
   "execution_count": 7,
   "id": "6a6bf4fa",
   "metadata": {},
   "outputs": [],
   "source": [
    "# define the parameters that will be fit independently. These are the binding rates\n",
    "pars_to_fit = [ \"Virion_Budding\", \"Virion_Assembly\", \"transcriptional_silencing\",  \"negative_strand_l_binding\", \"negative_strand_p_binding\", \"negative_strand_encapsidation\", \"positive_strand_encapsidation\"]\n"
   ]
  },
  {
   "cell_type": "code",
   "execution_count": 8,
   "id": "e1c78432",
   "metadata": {},
   "outputs": [],
   "source": [
    "# load one of the models in and separate reactions based on whether they are transcription reactions\n",
    "# Genome synthesis reactions, or degradation reactions. \n",
    "# degredation reactions are split on whether they are genome, protein, or mRNA degradation reactions\n",
    "mod = load_model(models[0])\n",
    "set_current_model(mod)\n",
    "reactions  = np.array(get_reaction_parameters()[\"reaction\"])\n",
    "transcription_reactions = reactions[[\"transcription_\" in react for react in reactions]]\n",
    "replication_reactions = reactions[[\"synthesis_\" in react for react in reactions]]\n",
    "deg_rs = reactions[[\"degradation\" in react for react in reactions]]\n",
    "genome_deg_rs = deg_rs[[\"sg\" in react for react in deg_rs]]\n",
    "deg_rs = deg_rs[((np.array([\"sg\" in react for react in deg_rs])-1) *-1) == 1]\n",
    "mRNA_deg_rs = deg_rs[[\"m\" in react for react in deg_rs]]\n",
    "deg_rs = deg_rs[((np.array([\"m\" in react for react in deg_rs])-1) *-1) == 1]\n",
    "prot_deg_rs = deg_rs\n"
   ]
  },
  {
   "cell_type": "code",
   "execution_count": 10,
   "id": "17e88459",
   "metadata": {},
   "outputs": [
    {
     "name": "stdout",
     "output_type": "stream",
     "text": [
      "/Users/connorking/Desktop/PhD/Models/VSV/Paper_time/Fit_Parameter_Variants/Models/NMGPL_Model.xml\n",
      "/Users/connorking/Desktop/PhD/Models/VSV/Paper_time/Fit_Parameter_Variants/Models/NPMGL_Model.xml\n",
      "/Users/connorking/Desktop/PhD/Models/VSV/Paper_time/Fit_Parameter_Variants/Models/NMPGL_Model.xml\n",
      "/Users/connorking/Desktop/PhD/Models/VSV/Paper_time/Fit_Parameter_Variants/Models/NGPML_Model.xml\n",
      "/Users/connorking/Desktop/PhD/Models/VSV/Paper_time/Fit_Parameter_Variants/Models/NGMPL_Model.xml\n"
     ]
    }
   ],
   "source": [
    "# load in models\n",
    "models_loaded = []\n",
    "for tmod in models:\n",
    "    print(tmod)\n",
    "    mod = basico.load_model(tmod)\n",
    "    models_loaded.append(mod)"
   ]
  },
  {
   "cell_type": "code",
   "execution_count": 11,
   "id": "e25a480c",
   "metadata": {},
   "outputs": [],
   "source": [
    "# record the current values of the reactions that will be adjusted as a unit\n",
    "# this is important because we will be updating the model reaction rates iteratively\n",
    "# this would be problematic with how we are adjusting the reaction rates.\n",
    "rep_rates = []\n",
    "tran_rates = []\n",
    "genome_deg_rates = []\n",
    "mRNA_deg_rates = []\n",
    "prot_deg_rates = []\n",
    "for i, model in enumerate(models_loaded):\n",
    "    basico.set_current_model(model)\n",
    "    ks = np.array(get_reaction_parameters()[\"value\"])\n",
    "    tr = ks[[react in transcription_reactions for react in reactions]]\n",
    "    rr = ks[[react in replication_reactions for react in reactions]]\n",
    "    gdr = ks[[react in genome_deg_rs for react in reactions]]\n",
    "    mdr = ks[[react in mRNA_deg_rs for react in reactions]]\n",
    "    pdr = ks[[react in prot_deg_rs for react in reactions]]\n",
    "    \n",
    "    \n",
    "    \n",
    "    tran_rates.append( tr )\n",
    "    rep_rates.append( rr)\n",
    "    genome_deg_rates.append( gdr )\n",
    "    mRNA_deg_rates.append( mdr)\n",
    "    prot_deg_rates.append( pdr )\n",
    "    "
   ]
  },
  {
   "cell_type": "code",
   "execution_count": 12,
   "id": "d7f93c74",
   "metadata": {},
   "outputs": [],
   "source": [
    "data = np.array([4347, 2087, 2348, 1304, 3957]) # observed mean virions produced by variants seen in literature"
   ]
  },
  {
   "cell_type": "code",
   "execution_count": 13,
   "id": "5de98586",
   "metadata": {},
   "outputs": [],
   "source": [
    "\n",
    "# define the function that will be parallelized \n",
    "def parallelization(ins):\n",
    "    # import packages\n",
    "    import basico \n",
    "    from scipy.optimize import minimize\n",
    "    import numpy as np\n",
    "    # define the objective function\n",
    "    def obj_func(x):\n",
    "        preds = np.zeros(len(models_loaded))\n",
    "        # iterate through the models\n",
    "        for i, model in enumerate(models_loaded):\n",
    "            \n",
    "            basico.set_current_model(model)\n",
    "            \n",
    "            # adjust the reaction rates that will be asjusted as a unit\n",
    "            tr = tran_rates[i]/x[0]\n",
    "            rr = rep_rates[i]/x[1]\n",
    "            gdr = genome_deg_rates[i]/x[2]\n",
    "            mdr = mRNA_deg_rates[i]/x[3]\n",
    "            pdr = prot_deg_rates[i]/x[4]            \n",
    "            \n",
    "            # make the full list of reaction names and full list of new parameters\n",
    "            reactions = list(genome_deg_rs) + list(mRNA_deg_rs) + list(prot_deg_rs) + list(replication_reactions) + list(transcription_reactions) + pars_to_fit\n",
    "            params = list(gdr) + list(mdr) + list(pdr) + list(rr) + list(tr) + list(x[5:])\n",
    "            # now change the reaction rates\n",
    "            for m, param_name in enumerate(reactions):\n",
    "                basico.set_reaction(param_name, mapping={\"k1\": params[m]})\n",
    "            # simulate the model. If an error occurs set the prediction value to infinity\n",
    "            try:\n",
    "                tc = basico.run_time_course(duration=57000, start_time=0, stepsize=1000, method=\"LSODA\")\n",
    "                preds[i] = tc[\"V\"].loc[57000]\n",
    "            except:\n",
    "                preds[i] = np.inf\n",
    "        # calculate and return the MSE\n",
    "        test = np.mean((preds - data)**2)\n",
    "        print(test)\n",
    "        del m, preds, tc\n",
    "        return test\n",
    "    \n",
    "    # unpack the inputs of the parallelization function\n",
    "    guess, models,  data, path, pars_to_fit, rep_rates, tran_rates, genome_deg_rates ,mRNA_deg_rates, prot_deg_rates ,  replication_reactions, transcription_reactions, genome_deg_rs, mRNA_deg_rs, prot_deg_rs = ins\n",
    "    models_loaded = []\n",
    "    # load models\n",
    "    for tmod in models:\n",
    "        mod = basico.load_model(tmod)\n",
    "        models_loaded.append(mod) # load base model in\n",
    "    del tmod\n",
    "    # fit the model\n",
    "    res = minimize(obj_func, guess, method = 'Nelder-Mead', tol = 10000, options = {\"maxiter\" : 600}) # perform optimization\n",
    "    del models_loaded\n",
    "    \n",
    "    del guess, models,  data, path, pars_to_fit\n",
    "    # return the results of fitting\n",
    "    return res\n"
   ]
  },
  {
   "cell_type": "code",
   "execution_count": 15,
   "id": "a4991c26",
   "metadata": {},
   "outputs": [],
   "source": [
    "# make the list of parallelzation inputs with randomized starting positions for reaction rates\n",
    "parallelization_list = [[models, data, path, pars_to_fit,rep_rates,tran_rates,     \n",
    "    genome_deg_rates,\n",
    "    mRNA_deg_rates,\n",
    "    prot_deg_rates, \n",
    "    replication_reactions,\n",
    "    transcription_reactions,\n",
    "    genome_deg_rs,\n",
    "    mRNA_deg_rs,\n",
    "    prot_deg_rs]] * replicates\n",
    "parallelization_list = [[[1,1,1,1,1] + gen_random_guess(pars_to_fit) ] + par_lst for par_lst in parallelization_list]"
   ]
  },
  {
   "cell_type": "code",
   "execution_count": 16,
   "id": "aff350b7",
   "metadata": {},
   "outputs": [
    {
     "data": {
      "application/vnd.jupyter.widget-view+json": {
       "model_id": "4a8e79efc4264eac8cdf9a9527f077b0",
       "version_major": 2,
       "version_minor": 0
      },
      "text/plain": [
       "parallelization:   0%|          | 0/100 [00:00<?, ?tasks/s]"
      ]
     },
     "metadata": {},
     "output_type": "display_data"
    }
   ],
   "source": [
    "# parallelize the optimizations\n",
    "ar_map = dview.map_async(parallelization, parallelization_list)\n",
    "ar_map.wait_interactive()\n",
    "ar_map = ar_map.get()"
   ]
  },
  {
   "cell_type": "code",
   "execution_count": null,
   "id": "5eeb4896",
   "metadata": {},
   "outputs": [],
   "source": [
    "# update the parameters to include the other parameters fit as a unit.\n",
    "pars_df = [\"Transcription Rates\", \"Genome/Antigenome Synthesis Rates\", \"Genome/Antigenome Degradation Rates\", \"mRNA Degradation Rates\", \"Protein Degradation Rates\"] + pars_to_fit"
   ]
  },
  {
   "cell_type": "code",
   "execution_count": 24,
   "id": "db1f8448",
   "metadata": {},
   "outputs": [],
   "source": [
    "# unpack the results of the optimizations and add to lists\n",
    "functions_outputs = []\n",
    "parameter_values = []\n",
    "parameter_names = []\n",
    "tolerance = []\n",
    "maxiter = []\n",
    "num_iter = []\n",
    "for x in ar_map:\n",
    "    functions_outputs.append(x.fun)\n",
    "    num_iter.append(x.nit)\n",
    "    parameter_values.append(x.x)\n",
    "    parameter_names.append(pars_df)\n",
    "    tolerance.append(10000)\n",
    "    maxiter.append(600)\n"
   ]
  },
  {
   "cell_type": "code",
   "execution_count": 25,
   "id": "346bd1fc",
   "metadata": {},
   "outputs": [],
   "source": [
    "# make datafram and to hold the data\n",
    "\n",
    "df = pd.DataFrame([functions_outputs, parameter_values, parameter_names, tolerance, maxiter, num_iter]).T\n",
    "df.columns = [\"obj function output\", \"parameter values\", \"parameter names\", \"tolerance\", \"maxiter\", \"number of iterations\"]\n"
   ]
  },
  {
   "cell_type": "code",
   "execution_count": 28,
   "id": "5a0b3761",
   "metadata": {},
   "outputs": [],
   "source": [
    "df.to_csv(\"vsv_fits_v1_2023_06_06.csv\") # save data "
   ]
  },
  {
   "cell_type": "code",
   "execution_count": 4,
   "id": "e2fde085",
   "metadata": {},
   "outputs": [],
   "source": [
    "df = pd.read_csv(\"vsv_fits_v1_2023_06_06.csv\", index_col=0) # load"
   ]
  },
  {
   "cell_type": "code",
   "execution_count": 17,
   "id": "cb554ac2",
   "metadata": {},
   "outputs": [],
   "source": [
    "# select the parameters that resulted in the best fit and process the string into a list\n",
    "\n",
    "best_fit = df[df[\"obj function output\"] ==  np.min(df[\"obj function output\"])] \n",
    "best_fit = list(best_fit[\"parameter values\"])[0]\n",
    "best_fit = best_fit.replace(\"[\", \"\").replace(\"]\", \"\").replace(\"\\n\", \"\").replace(\" \", \",\").split(\",\")\n",
    "best_fit = [float(x) for x in best_fit]"
   ]
  },
  {
   "cell_type": "code",
   "execution_count": 22,
   "id": "52c239c4",
   "metadata": {},
   "outputs": [],
   "source": [
    "# define the path for the models and the variant names then combine them\n",
    "mod_path =path + \"/Models/\" \n",
    "files =  [\"NMGPL_Model.xml\", \"NPMGL_Model.xml\", \"NMPGL_Model.xml\", \"NGPML_Model.xml\", \"NGMPL_Model.xml\"] # ,\"NMPGL_Model.xml\", \"NGMPL_Model.xml\", \"NGPML_Model.xml\"]\n",
    "models = [mod_path + m for m in files]"
   ]
  },
  {
   "cell_type": "code",
   "execution_count": 23,
   "id": "fe768b14",
   "metadata": {},
   "outputs": [
    {
     "name": "stdout",
     "output_type": "stream",
     "text": [
      "4190.876394467171\n",
      "2474.5220798240744\n",
      "2688.0154449857528\n",
      "2122.8975434412714\n",
      "3029.918399034962\n"
     ]
    },
    {
     "data": {
      "text/plain": [
       "(0.0, 4500.0)"
      ]
     },
     "execution_count": 23,
     "metadata": {},
     "output_type": "execute_result"
    },
    {
     "data": {
      "image/png": "[encoded data removed]",
      "text/plain": [
       "<Figure size 432x288 with 1 Axes>"
      ]
     },
     "metadata": {
      "needs_background": "light"
     },
     "output_type": "display_data"
    }
   ],
   "source": [
    "# update parameters and save the new models\n",
    "\n",
    "data = np.array([4347, 2087, 2348, 1304, 3957])\n",
    "preds = np.zeros(len(models_loaded))\n",
    "\n",
    "for i, model in enumerate(models_loaded):\n",
    "    basico.set_current_model(model)\n",
    "\n",
    "    tr = tran_rates[i]/best_fit[0]\n",
    "    rr = rep_rates[i]/best_fit[1]\n",
    "    gdr = genome_deg_rates[i]/best_fit[2]\n",
    "    mdr = mRNA_deg_rates[i]/best_fit[3]\n",
    "    pdr = prot_deg_rates[i]/best_fit[4]            \n",
    "\n",
    "    reactions = list(genome_deg_rs) + list(mRNA_deg_rs) + list(prot_deg_rs) + list(replication_reactions) + list(transcription_reactions) + pars_to_fit\n",
    "    params = list(gdr) + list(mdr) + list(pdr) + list(rr) + list(tr) + list(best_fit[5:])\n",
    "\n",
    "    for m, param_name in enumerate(reactions):\n",
    "        basico.set_reaction(param_name, mapping={\"k1\": params[m]})\n",
    "\n",
    "    tc = basico.run_time_course(duration=57000, start_time=0, stepsize=1000, method=\"LSODA\")\n",
    "    print(tc[\"V\"].loc[57000])\n",
    "    preds[i] = tc[\"V\"].loc[57000]\n",
    "    new_mod = models[i].split(\".\")[0] + \"_v2.xml\"\n",
    "    save_model(new_mod)\n",
    "    \n",
    "    \n",
    "plt.scatter(range(len(preds)),preds, color = \"blue\")\n",
    "\n",
    "plt.scatter(range(len(data)),data, color = \"red\")\n",
    "plt.ylim(0,4500)"
   ]
  },
  {
   "cell_type": "code",
   "execution_count": null,
   "id": "c268676d",
   "metadata": {},
   "outputs": [],
   "source": []
  }
 ],
 "metadata": {
  "kernelspec": {
   "display_name": "Python 3",
   "language": "python",
   "name": "python3"
  },
  "language_info": {
   "codemirror_mode": {
    "name": "ipython",
    "version": 3
   },
   "file_extension": ".py",
   "mimetype": "text/x-python",
   "name": "python",
   "nbconvert_exporter": "python",
   "pygments_lexer": "ipython3",
   "version": "3.8.8"
  }
 },
 "nbformat": 4,
 "nbformat_minor": 5
}
