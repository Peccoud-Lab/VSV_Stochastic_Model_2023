{
 "cells": [
  {
   "cell_type": "code",
   "execution_count": 1,
   "id": "a4e12199",
   "metadata": {},
   "outputs": [],
   "source": [
    "import pandas as pd #'version 1.2.4'\n",
    "import numpy as np #'version 1.21.0'\n",
    "from basico import * #'version 0.36'\n",
    "import os\n",
    "import random\n",
    "import matplotlib.pyplot as plt #'version 3.3.4'\n",
    "import seaborn as sns #'version 0.11.1'\n",
    "from itertools import permutations\n"
   ]
  },
  {
   "cell_type": "code",
   "execution_count": 115,
   "id": "2968705c",
   "metadata": {},
   "outputs": [],
   "source": [
    "# define parallelization cores\n",
    "groups = 500\n",
    "par_cores = 525"
   ]
  },
  {
   "cell_type": "code",
   "execution_count": 116,
   "id": "5f35fa22",
   "metadata": {},
   "outputs": [],
   "source": [
    "# generate all possible permutations of the virus.\n",
    "perms = list(permutations([1,.7,.49,.343, .0343]))\n",
    "genes = [\"N\", \"P\", \"M\", \"G\", \"L\"]\n"
   ]
  },
  {
   "cell_type": "code",
   "execution_count": 117,
   "id": "ff0f017f",
   "metadata": {},
   "outputs": [],
   "source": [
    "# function for sorting one list based on another list\n",
    "def sort_list(list1, list2):\n",
    "    zipped_pairs = zip(list2, list1)\n",
    "    z = [x for _, x in sorted(zipped_pairs)]\n",
    "    return z"
   ]
  },
  {
   "cell_type": "code",
   "execution_count": 118,
   "id": "a814236f",
   "metadata": {},
   "outputs": [],
   "source": [
    "# sort genes based on transcription rate and then join together to get the variant name\n",
    "gene_perms = [\"\".join(sort_list(genes, perms[i])[::-1]) for i in range(len(perms))]\n"
   ]
  },
  {
   "cell_type": "code",
   "execution_count": 119,
   "id": "5d8b7872",
   "metadata": {},
   "outputs": [],
   "source": [
    "# define the model names\n",
    "path = !pwd\n",
    "path = path[0] + \"/\"\n",
    "base_model =  path + \"NPMGL_Model_SSA.xml\"\n",
    "mod = load_model(base_model)\n",
    "set_current_model(mod)\n",
    "reactions  = np.array(get_reaction_parameters()[\"reaction\"])\n",
    "\n",
    "# get the transcription reaction names so they can be altered as a unit\n",
    "tran_N = reactions[[\"transcription_N\" in x for x in reactions]]\n",
    "tran_P = reactions[[\"transcription_P\" in x for x in reactions]]\n",
    "tran_M = reactions[[\"transcription_M\" in x for x in reactions]]\n",
    "tran_G = reactions[[\"transcription_G\" in x for x in reactions]]\n",
    "tran_L = reactions[[\"transcription_L\" in x for x in reactions]]\n",
    "\n",
    "rxns = [tran_N, tran_P, tran_M, tran_G, tran_L]"
   ]
  },
  {
   "cell_type": "code",
   "execution_count": 120,
   "id": "d3969df8",
   "metadata": {},
   "outputs": [],
   "source": [
    "# get the actual maximum transcription rate and then multiply the permutations of gene order to be the true transcription rate values\n",
    "base_rate = float(get_reaction_parameters()[get_reaction_parameters()[\"reaction\"] == \"transcription_N_0\"][\"value\"])\n",
    "tr_perms = np.array(perms ) * base_rate\n",
    "\n"
   ]
  },
  {
   "cell_type": "code",
   "execution_count": 121,
   "id": "b1adb44a",
   "metadata": {},
   "outputs": [],
   "source": [
    "# name temporary model for parallelizing stochastic simulations\n",
    "temp_model = path + \"temp_model.xml\"\n",
    "\n"
   ]
  },
  {
   "cell_type": "code",
   "execution_count": 122,
   "id": "e8b6e10b",
   "metadata": {},
   "outputs": [],
   "source": [
    "# function to be parallelized to get the total dataframe\n",
    "def get_data(model):\n",
    "    import basico\n",
    "    import pandas as pd\n",
    "    mod = basico.load_model(model)\n",
    "    basico.set_current_model(mod)\n",
    "    basico.set_model_unit(quantity_unit= \"#\")\n",
    "    res = []\n",
    "    for j in range(10):\n",
    "        tc = basico.run_time_course(duration=57000, start_time=0, stepsize=1000, method=\"DirectMethod\")\n",
    "        tc[\"Time\"] = tc.index\n",
    "        tc.index = range(len(tc))\n",
    "        res.append(tc)\n",
    "    basico.remove_datamodel(mod)\n",
    "    return pd.concat(res)"
   ]
  },
  {
   "cell_type": "code",
   "execution_count": 10,
   "id": "87a7a57f",
   "metadata": {},
   "outputs": [
    {
     "name": "stdout",
     "output_type": "stream",
     "text": [
      "Starting 525 engines with <class 'ipyparallel.cluster.launcher.LocalEngineSetLauncher'>\n"
     ]
    },
    {
     "name": "stderr",
     "output_type": "stream",
     "text": [
      "INFO:ipyparallel.cluster.cluster.1689036913-0y07:Starting 525 engines with <class 'ipyparallel.cluster.launcher.LocalEngineSetLauncher'>\n"
     ]
    },
    {
     "data": {
      "application/vnd.jupyter.widget-view+json": {
       "model_id": "637b84f4d4cf4cd3b11f5e0accb08369",
       "version_major": 2,
       "version_minor": 0
      },
      "text/plain": [
       " 91%|#########1| 478/525 [00:00<?, ?engine/s]"
      ]
     },
     "metadata": {},
     "output_type": "display_data"
    }
   ],
   "source": [
    "# define the number of cores to be used and activate the cluster\n",
    "# this code is commented because to prevent overloading and crashing computers. This code was run using AWS cloud computing.\n",
    "\n",
    "#import ipyparallel as ipp # version 8.4.1\n",
    "#cluster = ipp.Cluster(n=par_cores)\n",
    "#cluster.start_cluster_sync()\n",
    "#rc = cluster.connect_client_sync()\n",
    "#rc.wait_for_engines(par_cores)\n",
    "#dview = rc[0:par_cores]\n"
   ]
  },
  {
   "cell_type": "code",
   "execution_count": 16,
   "id": "0683d314",
   "metadata": {
    "scrolled": true
   },
   "outputs": [
    {
     "data": {
      "application/vnd.jupyter.widget-view+json": {
       "model_id": "d0f9cacfd6a6446ab12404b5ad741d91",
       "version_major": 2,
       "version_minor": 0
      },
      "text/plain": [
       "get_data:   0%|          | 0/500 [00:00<?, ?tasks/s]"
      ]
     },
     "metadata": {},
     "output_type": "display_data"
    },
    {
     "data": {
      "application/vnd.jupyter.widget-view+json": {
       "model_id": "886b82599706476ea172f5f7c86bea2d",
       "version_major": 2,
       "version_minor": 0
      },
      "text/plain": [
       "get_data:   0%|          | 0/500 [00:00<?, ?tasks/s]"
      ]
     },
     "metadata": {},
     "output_type": "display_data"
    },
    {
     "data": {
      "application/vnd.jupyter.widget-view+json": {
       "model_id": "1f15e31459a2432e8ed86965ddc63f92",
       "version_major": 2,
       "version_minor": 0
      },
      "text/plain": [
       "get_data:   0%|          | 0/500 [00:00<?, ?tasks/s]"
      ]
     },
     "metadata": {},
     "output_type": "display_data"
    },
    {
     "data": {
      "application/vnd.jupyter.widget-view+json": {
       "model_id": "cb2ed7afc78e40cb8f116554b0967836",
       "version_major": 2,
       "version_minor": 0
      },
      "text/plain": [
       "get_data:   0%|          | 0/500 [00:00<?, ?tasks/s]"
      ]
     },
     "metadata": {},
     "output_type": "display_data"
    },
    {
     "data": {
      "application/vnd.jupyter.widget-view+json": {
       "model_id": "40c9a767f6464e5f8c28234066eb2d0e",
       "version_major": 2,
       "version_minor": 0
      },
      "text/plain": [
       "get_data:   0%|          | 0/500 [00:00<?, ?tasks/s]"
      ]
     },
     "metadata": {},
     "output_type": "display_data"
    },
    {
     "data": {
      "application/vnd.jupyter.widget-view+json": {
       "model_id": "04e206d84a664e08a1ec028f7665c0db",
       "version_major": 2,
       "version_minor": 0
      },
      "text/plain": [
       "get_data:   0%|          | 0/500 [00:00<?, ?tasks/s]"
      ]
     },
     "metadata": {},
     "output_type": "display_data"
    },
    {
     "data": {
      "application/vnd.jupyter.widget-view+json": {
       "model_id": "ff4021c534f14670a364b8dad614f38f",
       "version_major": 2,
       "version_minor": 0
      },
      "text/plain": [
       "get_data:   0%|          | 0/500 [00:00<?, ?tasks/s]"
      ]
     },
     "metadata": {},
     "output_type": "display_data"
    },
    {
     "data": {
      "application/vnd.jupyter.widget-view+json": {
       "model_id": "792769f333ad42e3bdece11701e1891c",
       "version_major": 2,
       "version_minor": 0
      },
      "text/plain": [
       "get_data:   0%|          | 0/500 [00:00<?, ?tasks/s]"
      ]
     },
     "metadata": {},
     "output_type": "display_data"
    },
    {
     "data": {
      "application/vnd.jupyter.widget-view+json": {
       "model_id": "16ce449ba3d14af68be945253bede33e",
       "version_major": 2,
       "version_minor": 0
      },
      "text/plain": [
       "get_data:   0%|          | 0/500 [00:00<?, ?tasks/s]"
      ]
     },
     "metadata": {},
     "output_type": "display_data"
    },
    {
     "data": {
      "application/vnd.jupyter.widget-view+json": {
       "model_id": "3c0328e5a4fa4291ae9aebd818d76f9c",
       "version_major": 2,
       "version_minor": 0
      },
      "text/plain": [
       "get_data:   0%|          | 0/500 [00:00<?, ?tasks/s]"
      ]
     },
     "metadata": {},
     "output_type": "display_data"
    },
    {
     "data": {
      "application/vnd.jupyter.widget-view+json": {
       "model_id": "b33c682d7bce4601994c91eb731427ec",
       "version_major": 2,
       "version_minor": 0
      },
      "text/plain": [
       "get_data:   0%|          | 0/500 [00:00<?, ?tasks/s]"
      ]
     },
     "metadata": {},
     "output_type": "display_data"
    },
    {
     "data": {
      "application/vnd.jupyter.widget-view+json": {
       "model_id": "1005151588c047d69f608f662b1d3872",
       "version_major": 2,
       "version_minor": 0
      },
      "text/plain": [
       "get_data:   0%|          | 0/500 [00:00<?, ?tasks/s]"
      ]
     },
     "metadata": {},
     "output_type": "display_data"
    },
    {
     "data": {
      "application/vnd.jupyter.widget-view+json": {
       "model_id": "fdacf4f591db426b993e329c0ea31e8a",
       "version_major": 2,
       "version_minor": 0
      },
      "text/plain": [
       "get_data:   0%|          | 0/500 [00:00<?, ?tasks/s]"
      ]
     },
     "metadata": {},
     "output_type": "display_data"
    },
    {
     "data": {
      "application/vnd.jupyter.widget-view+json": {
       "model_id": "b4ed089442e341d1a68574edbfbc5f19",
       "version_major": 2,
       "version_minor": 0
      },
      "text/plain": [
       "get_data:   0%|          | 0/500 [00:00<?, ?tasks/s]"
      ]
     },
     "metadata": {},
     "output_type": "display_data"
    },
    {
     "data": {
      "application/vnd.jupyter.widget-view+json": {
       "model_id": "5e6ab745977b47cf8b30b2b82b0997fd",
       "version_major": 2,
       "version_minor": 0
      },
      "text/plain": [
       "get_data:   0%|          | 0/500 [00:00<?, ?tasks/s]"
      ]
     },
     "metadata": {},
     "output_type": "display_data"
    },
    {
     "data": {
      "application/vnd.jupyter.widget-view+json": {
       "model_id": "28d53226697c418599d128c55667b26a",
       "version_major": 2,
       "version_minor": 0
      },
      "text/plain": [
       "get_data:   0%|          | 0/500 [00:00<?, ?tasks/s]"
      ]
     },
     "metadata": {},
     "output_type": "display_data"
    },
    {
     "data": {
      "application/vnd.jupyter.widget-view+json": {
       "model_id": "7ba3918f0f89441da255eb1a5e31befa",
       "version_major": 2,
       "version_minor": 0
      },
      "text/plain": [
       "get_data:   0%|          | 0/500 [00:00<?, ?tasks/s]"
      ]
     },
     "metadata": {},
     "output_type": "display_data"
    },
    {
     "data": {
      "application/vnd.jupyter.widget-view+json": {
       "model_id": "d0d1a68aa297485f9d6b0fbbb4548f50",
       "version_major": 2,
       "version_minor": 0
      },
      "text/plain": [
       "get_data:   0%|          | 0/500 [00:00<?, ?tasks/s]"
      ]
     },
     "metadata": {},
     "output_type": "display_data"
    },
    {
     "data": {
      "application/vnd.jupyter.widget-view+json": {
       "model_id": "d3a42f5dbf944a6fadb3b0c6fc5dc136",
       "version_major": 2,
       "version_minor": 0
      },
      "text/plain": [
       "get_data:   0%|          | 0/500 [00:00<?, ?tasks/s]"
      ]
     },
     "metadata": {},
     "output_type": "display_data"
    },
    {
     "data": {
      "application/vnd.jupyter.widget-view+json": {
       "model_id": "8d37315463614e9d814e29fcd548d0ee",
       "version_major": 2,
       "version_minor": 0
      },
      "text/plain": [
       "get_data:   0%|          | 0/500 [00:00<?, ?tasks/s]"
      ]
     },
     "metadata": {},
     "output_type": "display_data"
    },
    {
     "data": {
      "application/vnd.jupyter.widget-view+json": {
       "model_id": "9e3306cfc4fe492fb37ebbf98e4720aa",
       "version_major": 2,
       "version_minor": 0
      },
      "text/plain": [
       "get_data:   0%|          | 0/500 [00:00<?, ?tasks/s]"
      ]
     },
     "metadata": {},
     "output_type": "display_data"
    },
    {
     "data": {
      "application/vnd.jupyter.widget-view+json": {
       "model_id": "5fd58d1aad8d4da7adcb6a9f9c21665d",
       "version_major": 2,
       "version_minor": 0
      },
      "text/plain": [
       "get_data:   0%|          | 0/500 [00:00<?, ?tasks/s]"
      ]
     },
     "metadata": {},
     "output_type": "display_data"
    },
    {
     "data": {
      "application/vnd.jupyter.widget-view+json": {
       "model_id": "264cf9e4f06c48eb87c7cb6d39343e4f",
       "version_major": 2,
       "version_minor": 0
      },
      "text/plain": [
       "get_data:   0%|          | 0/500 [00:00<?, ?tasks/s]"
      ]
     },
     "metadata": {},
     "output_type": "display_data"
    },
    {
     "data": {
      "application/vnd.jupyter.widget-view+json": {
       "model_id": "247ac358070346fcacbccd14dbf6bd79",
       "version_major": 2,
       "version_minor": 0
      },
      "text/plain": [
       "get_data:   0%|          | 0/500 [00:00<?, ?tasks/s]"
      ]
     },
     "metadata": {},
     "output_type": "display_data"
    },
    {
     "data": {
      "application/vnd.jupyter.widget-view+json": {
       "model_id": "d93ae20123c74adc8f898852a91d7bf9",
       "version_major": 2,
       "version_minor": 0
      },
      "text/plain": [
       "get_data:   0%|          | 0/500 [00:00<?, ?tasks/s]"
      ]
     },
     "metadata": {},
     "output_type": "display_data"
    },
    {
     "data": {
      "application/vnd.jupyter.widget-view+json": {
       "model_id": "5686f4f8401042a78c16de12ece3cdc4",
       "version_major": 2,
       "version_minor": 0
      },
      "text/plain": [
       "get_data:   0%|          | 0/500 [00:00<?, ?tasks/s]"
      ]
     },
     "metadata": {},
     "output_type": "display_data"
    },
    {
     "data": {
      "application/vnd.jupyter.widget-view+json": {
       "model_id": "91bcca44a6494bf88bdbf4d4512ea225",
       "version_major": 2,
       "version_minor": 0
      },
      "text/plain": [
       "get_data:   0%|          | 0/500 [00:00<?, ?tasks/s]"
      ]
     },
     "metadata": {},
     "output_type": "display_data"
    },
    {
     "data": {
      "application/vnd.jupyter.widget-view+json": {
       "model_id": "a966de53e1fd461984ed825285ecf4ed",
       "version_major": 2,
       "version_minor": 0
      },
      "text/plain": [
       "get_data:   0%|          | 0/500 [00:00<?, ?tasks/s]"
      ]
     },
     "metadata": {},
     "output_type": "display_data"
    },
    {
     "data": {
      "application/vnd.jupyter.widget-view+json": {
       "model_id": "b787900fd9e045a4a3146a8e320de840",
       "version_major": 2,
       "version_minor": 0
      },
      "text/plain": [
       "get_data:   0%|          | 0/500 [00:00<?, ?tasks/s]"
      ]
     },
     "metadata": {},
     "output_type": "display_data"
    },
    {
     "data": {
      "application/vnd.jupyter.widget-view+json": {
       "model_id": "dda8a3efa26b41ba9ac82a320488be1c",
       "version_major": 2,
       "version_minor": 0
      },
      "text/plain": [
       "get_data:   0%|          | 0/500 [00:00<?, ?tasks/s]"
      ]
     },
     "metadata": {},
     "output_type": "display_data"
    },
    {
     "data": {
      "application/vnd.jupyter.widget-view+json": {
       "model_id": "04afda288c2c44c5be1d3f7eba07d45f",
       "version_major": 2,
       "version_minor": 0
      },
      "text/plain": [
       "get_data:   0%|          | 0/500 [00:00<?, ?tasks/s]"
      ]
     },
     "metadata": {},
     "output_type": "display_data"
    },
    {
     "data": {
      "application/vnd.jupyter.widget-view+json": {
       "model_id": "43609e9a61d64863b4dd63b22954a22e",
       "version_major": 2,
       "version_minor": 0
      },
      "text/plain": [
       "get_data:   0%|          | 0/500 [00:00<?, ?tasks/s]"
      ]
     },
     "metadata": {},
     "output_type": "display_data"
    },
    {
     "data": {
      "application/vnd.jupyter.widget-view+json": {
       "model_id": "f684c99468a8484484e82b859e4b9cfa",
       "version_major": 2,
       "version_minor": 0
      },
      "text/plain": [
       "get_data:   0%|          | 0/500 [00:00<?, ?tasks/s]"
      ]
     },
     "metadata": {},
     "output_type": "display_data"
    },
    {
     "data": {
      "application/vnd.jupyter.widget-view+json": {
       "model_id": "e970cb4329cc4dbcb97ed89a78018297",
       "version_major": 2,
       "version_minor": 0
      },
      "text/plain": [
       "get_data:   0%|          | 0/500 [00:00<?, ?tasks/s]"
      ]
     },
     "metadata": {},
     "output_type": "display_data"
    },
    {
     "data": {
      "application/vnd.jupyter.widget-view+json": {
       "model_id": "f19b8427ec574bfe95292b44e3b322bd",
       "version_major": 2,
       "version_minor": 0
      },
      "text/plain": [
       "get_data:   0%|          | 0/500 [00:00<?, ?tasks/s]"
      ]
     },
     "metadata": {},
     "output_type": "display_data"
    },
    {
     "data": {
      "application/vnd.jupyter.widget-view+json": {
       "model_id": "38c8f600b9da41d284fcead8b661ba79",
       "version_major": 2,
       "version_minor": 0
      },
      "text/plain": [
       "get_data:   0%|          | 0/500 [00:00<?, ?tasks/s]"
      ]
     },
     "metadata": {},
     "output_type": "display_data"
    },
    {
     "data": {
      "application/vnd.jupyter.widget-view+json": {
       "model_id": "8138bf19aa3e4e7ab7b98165de59be65",
       "version_major": 2,
       "version_minor": 0
      },
      "text/plain": [
       "get_data:   0%|          | 0/500 [00:00<?, ?tasks/s]"
      ]
     },
     "metadata": {},
     "output_type": "display_data"
    },
    {
     "data": {
      "application/vnd.jupyter.widget-view+json": {
       "model_id": "4285ea2e96504cc2b7a15590c5e1b9a5",
       "version_major": 2,
       "version_minor": 0
      },
      "text/plain": [
       "get_data:   0%|          | 0/500 [00:00<?, ?tasks/s]"
      ]
     },
     "metadata": {},
     "output_type": "display_data"
    },
    {
     "data": {
      "application/vnd.jupyter.widget-view+json": {
       "model_id": "80cdaab2857b4aaebb6558fe13150f22",
       "version_major": 2,
       "version_minor": 0
      },
      "text/plain": [
       "get_data:   0%|          | 0/500 [00:00<?, ?tasks/s]"
      ]
     },
     "metadata": {},
     "output_type": "display_data"
    },
    {
     "data": {
      "application/vnd.jupyter.widget-view+json": {
       "model_id": "a2d158ad5f6a43c9b21835eda460ec04",
       "version_major": 2,
       "version_minor": 0
      },
      "text/plain": [
       "get_data:   0%|          | 0/500 [00:00<?, ?tasks/s]"
      ]
     },
     "metadata": {},
     "output_type": "display_data"
    },
    {
     "data": {
      "application/vnd.jupyter.widget-view+json": {
       "model_id": "80f768ef1a614e5384e32ed41643b077",
       "version_major": 2,
       "version_minor": 0
      },
      "text/plain": [
       "get_data:   0%|          | 0/500 [00:00<?, ?tasks/s]"
      ]
     },
     "metadata": {},
     "output_type": "display_data"
    },
    {
     "data": {
      "application/vnd.jupyter.widget-view+json": {
       "model_id": "a426fdd3f75449069a574e76e806414d",
       "version_major": 2,
       "version_minor": 0
      },
      "text/plain": [
       "get_data:   0%|          | 0/500 [00:00<?, ?tasks/s]"
      ]
     },
     "metadata": {},
     "output_type": "display_data"
    },
    {
     "data": {
      "application/vnd.jupyter.widget-view+json": {
       "model_id": "1fe25861834b4645afa61464fb3996ef",
       "version_major": 2,
       "version_minor": 0
      },
      "text/plain": [
       "get_data:   0%|          | 0/500 [00:00<?, ?tasks/s]"
      ]
     },
     "metadata": {},
     "output_type": "display_data"
    },
    {
     "data": {
      "application/vnd.jupyter.widget-view+json": {
       "model_id": "261a411b6ccd404c92d02933aacba7c2",
       "version_major": 2,
       "version_minor": 0
      },
      "text/plain": [
       "get_data:   0%|          | 0/500 [00:00<?, ?tasks/s]"
      ]
     },
     "metadata": {},
     "output_type": "display_data"
    },
    {
     "data": {
      "application/vnd.jupyter.widget-view+json": {
       "model_id": "6abc003cef2440f88c7be40d547fd4ff",
       "version_major": 2,
       "version_minor": 0
      },
      "text/plain": [
       "get_data:   0%|          | 0/500 [00:00<?, ?tasks/s]"
      ]
     },
     "metadata": {},
     "output_type": "display_data"
    },
    {
     "data": {
      "application/vnd.jupyter.widget-view+json": {
       "model_id": "e9b9aa5bf5824279a4c5eea692fe4196",
       "version_major": 2,
       "version_minor": 0
      },
      "text/plain": [
       "get_data:   0%|          | 0/500 [00:00<?, ?tasks/s]"
      ]
     },
     "metadata": {},
     "output_type": "display_data"
    },
    {
     "data": {
      "application/vnd.jupyter.widget-view+json": {
       "model_id": "d3975ffe88dc48408ee5e94bac7fd263",
       "version_major": 2,
       "version_minor": 0
      },
      "text/plain": [
       "get_data:   0%|          | 0/500 [00:00<?, ?tasks/s]"
      ]
     },
     "metadata": {},
     "output_type": "display_data"
    },
    {
     "data": {
      "application/vnd.jupyter.widget-view+json": {
       "model_id": "7f20372a2f92403386808bc0468b571d",
       "version_major": 2,
       "version_minor": 0
      },
      "text/plain": [
       "get_data:   0%|          | 0/500 [00:00<?, ?tasks/s]"
      ]
     },
     "metadata": {},
     "output_type": "display_data"
    },
    {
     "data": {
      "application/vnd.jupyter.widget-view+json": {
       "model_id": "d5c92f313a6443569be9c1cec8e95908",
       "version_major": 2,
       "version_minor": 0
      },
      "text/plain": [
       "get_data:   0%|          | 0/500 [00:00<?, ?tasks/s]"
      ]
     },
     "metadata": {},
     "output_type": "display_data"
    },
    {
     "data": {
      "application/vnd.jupyter.widget-view+json": {
       "model_id": "4ac6d64c3d5a4c5a9c1685cb5706b281",
       "version_major": 2,
       "version_minor": 0
      },
      "text/plain": [
       "get_data:   0%|          | 0/500 [00:00<?, ?tasks/s]"
      ]
     },
     "metadata": {},
     "output_type": "display_data"
    },
    {
     "data": {
      "application/vnd.jupyter.widget-view+json": {
       "model_id": "1babdceb4751453db536d253c0406059",
       "version_major": 2,
       "version_minor": 0
      },
      "text/plain": [
       "get_data:   0%|          | 0/500 [00:00<?, ?tasks/s]"
      ]
     },
     "metadata": {},
     "output_type": "display_data"
    },
    {
     "data": {
      "application/vnd.jupyter.widget-view+json": {
       "model_id": "64773366a040480e8b6a134e2a2b678b",
       "version_major": 2,
       "version_minor": 0
      },
      "text/plain": [
       "get_data:   0%|          | 0/500 [00:00<?, ?tasks/s]"
      ]
     },
     "metadata": {},
     "output_type": "display_data"
    },
    {
     "data": {
      "application/vnd.jupyter.widget-view+json": {
       "model_id": "6b2cfe8e97ac43b388b8e3ab88351da7",
       "version_major": 2,
       "version_minor": 0
      },
      "text/plain": [
       "get_data:   0%|          | 0/500 [00:00<?, ?tasks/s]"
      ]
     },
     "metadata": {},
     "output_type": "display_data"
    },
    {
     "data": {
      "application/vnd.jupyter.widget-view+json": {
       "model_id": "63e9611a67f541afb28d1f43c2738100",
       "version_major": 2,
       "version_minor": 0
      },
      "text/plain": [
       "get_data:   0%|          | 0/500 [00:00<?, ?tasks/s]"
      ]
     },
     "metadata": {},
     "output_type": "display_data"
    },
    {
     "data": {
      "application/vnd.jupyter.widget-view+json": {
       "model_id": "bf3f57b0ec6047e380a99533a5ae0249",
       "version_major": 2,
       "version_minor": 0
      },
      "text/plain": [
       "get_data:   0%|          | 0/500 [00:00<?, ?tasks/s]"
      ]
     },
     "metadata": {},
     "output_type": "display_data"
    },
    {
     "data": {
      "application/vnd.jupyter.widget-view+json": {
       "model_id": "27f01d17ff2848e0b729c41804adc1b8",
       "version_major": 2,
       "version_minor": 0
      },
      "text/plain": [
       "get_data:   0%|          | 0/500 [00:00<?, ?tasks/s]"
      ]
     },
     "metadata": {},
     "output_type": "display_data"
    },
    {
     "data": {
      "application/vnd.jupyter.widget-view+json": {
       "model_id": "ea4f869ad44b4153baa50d6ac21ec54c",
       "version_major": 2,
       "version_minor": 0
      },
      "text/plain": [
       "get_data:   0%|          | 0/500 [00:00<?, ?tasks/s]"
      ]
     },
     "metadata": {},
     "output_type": "display_data"
    },
    {
     "data": {
      "application/vnd.jupyter.widget-view+json": {
       "model_id": "571c369ac6174a4c8bcb8dcb63628e83",
       "version_major": 2,
       "version_minor": 0
      },
      "text/plain": [
       "get_data:   0%|          | 0/500 [00:00<?, ?tasks/s]"
      ]
     },
     "metadata": {},
     "output_type": "display_data"
    },
    {
     "data": {
      "application/vnd.jupyter.widget-view+json": {
       "model_id": "63995789331f47ab9a6c114b8f742067",
       "version_major": 2,
       "version_minor": 0
      },
      "text/plain": [
       "get_data:   0%|          | 0/500 [00:00<?, ?tasks/s]"
      ]
     },
     "metadata": {},
     "output_type": "display_data"
    },
    {
     "data": {
      "application/vnd.jupyter.widget-view+json": {
       "model_id": "b6fcb97a74a74f92b5a0635a0976a119",
       "version_major": 2,
       "version_minor": 0
      },
      "text/plain": [
       "get_data:   0%|          | 0/500 [00:00<?, ?tasks/s]"
      ]
     },
     "metadata": {},
     "output_type": "display_data"
    },
    {
     "data": {
      "application/vnd.jupyter.widget-view+json": {
       "model_id": "5e3e523cf54e4aaaa02dd268370cab70",
       "version_major": 2,
       "version_minor": 0
      },
      "text/plain": [
       "get_data:   0%|          | 0/500 [00:00<?, ?tasks/s]"
      ]
     },
     "metadata": {},
     "output_type": "display_data"
    },
    {
     "data": {
      "application/vnd.jupyter.widget-view+json": {
       "model_id": "4a6cfb77fd284291b461670c1c80cdab",
       "version_major": 2,
       "version_minor": 0
      },
      "text/plain": [
       "get_data:   0%|          | 0/500 [00:00<?, ?tasks/s]"
      ]
     },
     "metadata": {},
     "output_type": "display_data"
    },
    {
     "data": {
      "application/vnd.jupyter.widget-view+json": {
       "model_id": "954c4f7d296b44ffba5d4cac5860c71c",
       "version_major": 2,
       "version_minor": 0
      },
      "text/plain": [
       "get_data:   0%|          | 0/500 [00:00<?, ?tasks/s]"
      ]
     },
     "metadata": {},
     "output_type": "display_data"
    },
    {
     "data": {
      "application/vnd.jupyter.widget-view+json": {
       "model_id": "08399d361122431db9f4040399818e3e",
       "version_major": 2,
       "version_minor": 0
      },
      "text/plain": [
       "get_data:   0%|          | 0/500 [00:00<?, ?tasks/s]"
      ]
     },
     "metadata": {},
     "output_type": "display_data"
    },
    {
     "data": {
      "application/vnd.jupyter.widget-view+json": {
       "model_id": "a324b44595794c298748daa4ac88236f",
       "version_major": 2,
       "version_minor": 0
      },
      "text/plain": [
       "get_data:   0%|          | 0/500 [00:00<?, ?tasks/s]"
      ]
     },
     "metadata": {},
     "output_type": "display_data"
    },
    {
     "data": {
      "application/vnd.jupyter.widget-view+json": {
       "model_id": "748cdb97e6594b37b3989f112921de71",
       "version_major": 2,
       "version_minor": 0
      },
      "text/plain": [
       "get_data:   0%|          | 0/500 [00:00<?, ?tasks/s]"
      ]
     },
     "metadata": {},
     "output_type": "display_data"
    },
    {
     "data": {
      "application/vnd.jupyter.widget-view+json": {
       "model_id": "fc5b764cbdf84b2784746417f22182bd",
       "version_major": 2,
       "version_minor": 0
      },
      "text/plain": [
       "get_data:   0%|          | 0/500 [00:00<?, ?tasks/s]"
      ]
     },
     "metadata": {},
     "output_type": "display_data"
    },
    {
     "data": {
      "application/vnd.jupyter.widget-view+json": {
       "model_id": "c36c3ee5d9e146f2a77e04210af1b306",
       "version_major": 2,
       "version_minor": 0
      },
      "text/plain": [
       "get_data:   0%|          | 0/500 [00:00<?, ?tasks/s]"
      ]
     },
     "metadata": {},
     "output_type": "display_data"
    },
    {
     "data": {
      "application/vnd.jupyter.widget-view+json": {
       "model_id": "c22f7e288e33473f95111db133c9b92c",
       "version_major": 2,
       "version_minor": 0
      },
      "text/plain": [
       "get_data:   0%|          | 0/500 [00:00<?, ?tasks/s]"
      ]
     },
     "metadata": {},
     "output_type": "display_data"
    },
    {
     "data": {
      "application/vnd.jupyter.widget-view+json": {
       "model_id": "442e899a7a38400db558b242205a3b62",
       "version_major": 2,
       "version_minor": 0
      },
      "text/plain": [
       "get_data:   0%|          | 0/500 [00:00<?, ?tasks/s]"
      ]
     },
     "metadata": {},
     "output_type": "display_data"
    },
    {
     "data": {
      "application/vnd.jupyter.widget-view+json": {
       "model_id": "d8bc78421b404123967a6adad46d55c2",
       "version_major": 2,
       "version_minor": 0
      },
      "text/plain": [
       "get_data:   0%|          | 0/500 [00:00<?, ?tasks/s]"
      ]
     },
     "metadata": {},
     "output_type": "display_data"
    },
    {
     "data": {
      "application/vnd.jupyter.widget-view+json": {
       "model_id": "4e01aa5a55fa4e4b83f5f0105fa57dca",
       "version_major": 2,
       "version_minor": 0
      },
      "text/plain": [
       "get_data:   0%|          | 0/500 [00:00<?, ?tasks/s]"
      ]
     },
     "metadata": {},
     "output_type": "display_data"
    },
    {
     "data": {
      "application/vnd.jupyter.widget-view+json": {
       "model_id": "12b75183a2934ed19ca4a5fce755eb43",
       "version_major": 2,
       "version_minor": 0
      },
      "text/plain": [
       "get_data:   0%|          | 0/500 [00:00<?, ?tasks/s]"
      ]
     },
     "metadata": {},
     "output_type": "display_data"
    },
    {
     "data": {
      "application/vnd.jupyter.widget-view+json": {
       "model_id": "e92794552ea44f18b2ce94cb3c639215",
       "version_major": 2,
       "version_minor": 0
      },
      "text/plain": [
       "get_data:   0%|          | 0/500 [00:00<?, ?tasks/s]"
      ]
     },
     "metadata": {},
     "output_type": "display_data"
    },
    {
     "data": {
      "application/vnd.jupyter.widget-view+json": {
       "model_id": "8247796e659340c68a33e365b542fdae",
       "version_major": 2,
       "version_minor": 0
      },
      "text/plain": [
       "get_data:   0%|          | 0/500 [00:00<?, ?tasks/s]"
      ]
     },
     "metadata": {},
     "output_type": "display_data"
    },
    {
     "data": {
      "application/vnd.jupyter.widget-view+json": {
       "model_id": "1bf9780174864c6dacdc72ad045f809f",
       "version_major": 2,
       "version_minor": 0
      },
      "text/plain": [
       "get_data:   0%|          | 0/500 [00:00<?, ?tasks/s]"
      ]
     },
     "metadata": {},
     "output_type": "display_data"
    },
    {
     "data": {
      "application/vnd.jupyter.widget-view+json": {
       "model_id": "7fb8e1c4b0d043ebbd06d883a78224c9",
       "version_major": 2,
       "version_minor": 0
      },
      "text/plain": [
       "get_data:   0%|          | 0/500 [00:00<?, ?tasks/s]"
      ]
     },
     "metadata": {},
     "output_type": "display_data"
    },
    {
     "data": {
      "application/vnd.jupyter.widget-view+json": {
       "model_id": "4645cba3a01249be807ff9a732d3ea54",
       "version_major": 2,
       "version_minor": 0
      },
      "text/plain": [
       "get_data:   0%|          | 0/500 [00:00<?, ?tasks/s]"
      ]
     },
     "metadata": {},
     "output_type": "display_data"
    },
    {
     "data": {
      "application/vnd.jupyter.widget-view+json": {
       "model_id": "ce005c79772d40759886fde2e1786d31",
       "version_major": 2,
       "version_minor": 0
      },
      "text/plain": [
       "get_data:   0%|          | 0/500 [00:00<?, ?tasks/s]"
      ]
     },
     "metadata": {},
     "output_type": "display_data"
    },
    {
     "data": {
      "application/vnd.jupyter.widget-view+json": {
       "model_id": "0af269210820403d8a340083c3b9914f",
       "version_major": 2,
       "version_minor": 0
      },
      "text/plain": [
       "get_data:   0%|          | 0/500 [00:00<?, ?tasks/s]"
      ]
     },
     "metadata": {},
     "output_type": "display_data"
    },
    {
     "data": {
      "application/vnd.jupyter.widget-view+json": {
       "model_id": "53a428c454fc44d9a330a38de5628c3d",
       "version_major": 2,
       "version_minor": 0
      },
      "text/plain": [
       "get_data:   0%|          | 0/500 [00:00<?, ?tasks/s]"
      ]
     },
     "metadata": {},
     "output_type": "display_data"
    },
    {
     "data": {
      "application/vnd.jupyter.widget-view+json": {
       "model_id": "02a2d51940e34e1291d0491d70ccf30d",
       "version_major": 2,
       "version_minor": 0
      },
      "text/plain": [
       "get_data:   0%|          | 0/500 [00:00<?, ?tasks/s]"
      ]
     },
     "metadata": {},
     "output_type": "display_data"
    },
    {
     "data": {
      "application/vnd.jupyter.widget-view+json": {
       "model_id": "2975495c3446462cbc477956aca9d95f",
       "version_major": 2,
       "version_minor": 0
      },
      "text/plain": [
       "get_data:   0%|          | 0/500 [00:00<?, ?tasks/s]"
      ]
     },
     "metadata": {},
     "output_type": "display_data"
    },
    {
     "data": {
      "application/vnd.jupyter.widget-view+json": {
       "model_id": "525824f2c45641c8892439029281d985",
       "version_major": 2,
       "version_minor": 0
      },
      "text/plain": [
       "get_data:   0%|          | 0/500 [00:00<?, ?tasks/s]"
      ]
     },
     "metadata": {},
     "output_type": "display_data"
    },
    {
     "data": {
      "application/vnd.jupyter.widget-view+json": {
       "model_id": "0ce55c1ee2684bc3bbeb7a6a5ffc4277",
       "version_major": 2,
       "version_minor": 0
      },
      "text/plain": [
       "get_data:   0%|          | 0/500 [00:00<?, ?tasks/s]"
      ]
     },
     "metadata": {},
     "output_type": "display_data"
    },
    {
     "data": {
      "application/vnd.jupyter.widget-view+json": {
       "model_id": "7325c45acdcc4248bd85a05735dee277",
       "version_major": 2,
       "version_minor": 0
      },
      "text/plain": [
       "get_data:   0%|          | 0/500 [00:00<?, ?tasks/s]"
      ]
     },
     "metadata": {},
     "output_type": "display_data"
    },
    {
     "data": {
      "application/vnd.jupyter.widget-view+json": {
       "model_id": "813d613c7e5c4cd68be61bc259888256",
       "version_major": 2,
       "version_minor": 0
      },
      "text/plain": [
       "get_data:   0%|          | 0/500 [00:00<?, ?tasks/s]"
      ]
     },
     "metadata": {},
     "output_type": "display_data"
    },
    {
     "data": {
      "application/vnd.jupyter.widget-view+json": {
       "model_id": "b42db0fdc0824524bf5ac5bd1954b27c",
       "version_major": 2,
       "version_minor": 0
      },
      "text/plain": [
       "get_data:   0%|          | 0/500 [00:00<?, ?tasks/s]"
      ]
     },
     "metadata": {},
     "output_type": "display_data"
    },
    {
     "data": {
      "application/vnd.jupyter.widget-view+json": {
       "model_id": "b83b23bec4cc42399d52eff49617671e",
       "version_major": 2,
       "version_minor": 0
      },
      "text/plain": [
       "get_data:   0%|          | 0/500 [00:00<?, ?tasks/s]"
      ]
     },
     "metadata": {},
     "output_type": "display_data"
    },
    {
     "data": {
      "application/vnd.jupyter.widget-view+json": {
       "model_id": "ba62fb3dcc3b479a8642060eb2595651",
       "version_major": 2,
       "version_minor": 0
      },
      "text/plain": [
       "get_data:   0%|          | 0/500 [00:00<?, ?tasks/s]"
      ]
     },
     "metadata": {},
     "output_type": "display_data"
    },
    {
     "data": {
      "application/vnd.jupyter.widget-view+json": {
       "model_id": "d5b623e1772f476dab676bfdf4b5b920",
       "version_major": 2,
       "version_minor": 0
      },
      "text/plain": [
       "get_data:   0%|          | 0/500 [00:00<?, ?tasks/s]"
      ]
     },
     "metadata": {},
     "output_type": "display_data"
    },
    {
     "data": {
      "application/vnd.jupyter.widget-view+json": {
       "model_id": "e51d131f70a44367bfb840e413a4ed5b",
       "version_major": 2,
       "version_minor": 0
      },
      "text/plain": [
       "get_data:   0%|          | 0/500 [00:00<?, ?tasks/s]"
      ]
     },
     "metadata": {},
     "output_type": "display_data"
    },
    {
     "data": {
      "application/vnd.jupyter.widget-view+json": {
       "model_id": "fc74cb0ed87244a7b00504419161bce9",
       "version_major": 2,
       "version_minor": 0
      },
      "text/plain": [
       "get_data:   0%|          | 0/500 [00:00<?, ?tasks/s]"
      ]
     },
     "metadata": {},
     "output_type": "display_data"
    },
    {
     "data": {
      "application/vnd.jupyter.widget-view+json": {
       "model_id": "8dc121d16e114fdea0693555b62e581e",
       "version_major": 2,
       "version_minor": 0
      },
      "text/plain": [
       "get_data:   0%|          | 0/500 [00:00<?, ?tasks/s]"
      ]
     },
     "metadata": {},
     "output_type": "display_data"
    },
    {
     "data": {
      "application/vnd.jupyter.widget-view+json": {
       "model_id": "19bb8bca50f04be8bff81ea142771749",
       "version_major": 2,
       "version_minor": 0
      },
      "text/plain": [
       "get_data:   0%|          | 0/500 [00:00<?, ?tasks/s]"
      ]
     },
     "metadata": {},
     "output_type": "display_data"
    },
    {
     "data": {
      "application/vnd.jupyter.widget-view+json": {
       "model_id": "831cffb8f74549328085a6703f201f3f",
       "version_major": 2,
       "version_minor": 0
      },
      "text/plain": [
       "get_data:   0%|          | 0/500 [00:00<?, ?tasks/s]"
      ]
     },
     "metadata": {},
     "output_type": "display_data"
    },
    {
     "data": {
      "application/vnd.jupyter.widget-view+json": {
       "model_id": "8671aac17133414391995525dc4a099a",
       "version_major": 2,
       "version_minor": 0
      },
      "text/plain": [
       "get_data:   0%|          | 0/500 [00:00<?, ?tasks/s]"
      ]
     },
     "metadata": {},
     "output_type": "display_data"
    },
    {
     "data": {
      "application/vnd.jupyter.widget-view+json": {
       "model_id": "24671cf4bab24f7990bd5c4bc5a555fd",
       "version_major": 2,
       "version_minor": 0
      },
      "text/plain": [
       "get_data:   0%|          | 0/500 [00:00<?, ?tasks/s]"
      ]
     },
     "metadata": {},
     "output_type": "display_data"
    },
    {
     "data": {
      "application/vnd.jupyter.widget-view+json": {
       "model_id": "38407d59e4824bbfbd074e098393ae8b",
       "version_major": 2,
       "version_minor": 0
      },
      "text/plain": [
       "get_data:   0%|          | 0/500 [00:00<?, ?tasks/s]"
      ]
     },
     "metadata": {},
     "output_type": "display_data"
    },
    {
     "data": {
      "application/vnd.jupyter.widget-view+json": {
       "model_id": "4ae8a59fd6e04fbc8d08d1e22fb7cf86",
       "version_major": 2,
       "version_minor": 0
      },
      "text/plain": [
       "get_data:   0%|          | 0/500 [00:00<?, ?tasks/s]"
      ]
     },
     "metadata": {},
     "output_type": "display_data"
    },
    {
     "data": {
      "application/vnd.jupyter.widget-view+json": {
       "model_id": "34972cebcbdd479091054da33f4e1dfd",
       "version_major": 2,
       "version_minor": 0
      },
      "text/plain": [
       "get_data:   0%|          | 0/500 [00:00<?, ?tasks/s]"
      ]
     },
     "metadata": {},
     "output_type": "display_data"
    },
    {
     "data": {
      "application/vnd.jupyter.widget-view+json": {
       "model_id": "077b66f3acf740f093c69834a39588a3",
       "version_major": 2,
       "version_minor": 0
      },
      "text/plain": [
       "get_data:   0%|          | 0/500 [00:00<?, ?tasks/s]"
      ]
     },
     "metadata": {},
     "output_type": "display_data"
    },
    {
     "data": {
      "application/vnd.jupyter.widget-view+json": {
       "model_id": "3b4cb9c041ae416d9df76a3b92a50443",
       "version_major": 2,
       "version_minor": 0
      },
      "text/plain": [
       "get_data:   0%|          | 0/500 [00:00<?, ?tasks/s]"
      ]
     },
     "metadata": {},
     "output_type": "display_data"
    },
    {
     "data": {
      "application/vnd.jupyter.widget-view+json": {
       "model_id": "fe8a683a44e14e06ba32a227c3ea829d",
       "version_major": 2,
       "version_minor": 0
      },
      "text/plain": [
       "get_data:   0%|          | 0/500 [00:00<?, ?tasks/s]"
      ]
     },
     "metadata": {},
     "output_type": "display_data"
    },
    {
     "data": {
      "application/vnd.jupyter.widget-view+json": {
       "model_id": "351aa4b324f149c2a101916a24ceee8a",
       "version_major": 2,
       "version_minor": 0
      },
      "text/plain": [
       "get_data:   0%|          | 0/500 [00:00<?, ?tasks/s]"
      ]
     },
     "metadata": {},
     "output_type": "display_data"
    },
    {
     "data": {
      "application/vnd.jupyter.widget-view+json": {
       "model_id": "ebdd9a4377524e15a7c95b23de961cbe",
       "version_major": 2,
       "version_minor": 0
      },
      "text/plain": [
       "get_data:   0%|          | 0/500 [00:00<?, ?tasks/s]"
      ]
     },
     "metadata": {},
     "output_type": "display_data"
    },
    {
     "data": {
      "application/vnd.jupyter.widget-view+json": {
       "model_id": "cccc0450d4ea4e4ea32a6e02de77fa2d",
       "version_major": 2,
       "version_minor": 0
      },
      "text/plain": [
       "get_data:   0%|          | 0/500 [00:00<?, ?tasks/s]"
      ]
     },
     "metadata": {},
     "output_type": "display_data"
    },
    {
     "data": {
      "application/vnd.jupyter.widget-view+json": {
       "model_id": "5b3f6a66d59146c8bd4175340a224e87",
       "version_major": 2,
       "version_minor": 0
      },
      "text/plain": [
       "get_data:   0%|          | 0/500 [00:00<?, ?tasks/s]"
      ]
     },
     "metadata": {},
     "output_type": "display_data"
    },
    {
     "data": {
      "application/vnd.jupyter.widget-view+json": {
       "model_id": "01cde65b6cb448498fc071cdb418623a",
       "version_major": 2,
       "version_minor": 0
      },
      "text/plain": [
       "get_data:   0%|          | 0/500 [00:00<?, ?tasks/s]"
      ]
     },
     "metadata": {},
     "output_type": "display_data"
    },
    {
     "data": {
      "application/vnd.jupyter.widget-view+json": {
       "model_id": "a3cefa8f35a041899353b53262776270",
       "version_major": 2,
       "version_minor": 0
      },
      "text/plain": [
       "get_data:   0%|          | 0/500 [00:00<?, ?tasks/s]"
      ]
     },
     "metadata": {},
     "output_type": "display_data"
    },
    {
     "data": {
      "application/vnd.jupyter.widget-view+json": {
       "model_id": "3df141b7bd144485bb5f10b801bc481e",
       "version_major": 2,
       "version_minor": 0
      },
      "text/plain": [
       "get_data:   0%|          | 0/500 [00:00<?, ?tasks/s]"
      ]
     },
     "metadata": {},
     "output_type": "display_data"
    },
    {
     "data": {
      "application/vnd.jupyter.widget-view+json": {
       "model_id": "1bda06cd23924368859086be36eefdbd",
       "version_major": 2,
       "version_minor": 0
      },
      "text/plain": [
       "get_data:   0%|          | 0/500 [00:00<?, ?tasks/s]"
      ]
     },
     "metadata": {},
     "output_type": "display_data"
    },
    {
     "data": {
      "application/vnd.jupyter.widget-view+json": {
       "model_id": "2528543085e04379ba48b33b02582e72",
       "version_major": 2,
       "version_minor": 0
      },
      "text/plain": [
       "get_data:   0%|          | 0/500 [00:00<?, ?tasks/s]"
      ]
     },
     "metadata": {},
     "output_type": "display_data"
    },
    {
     "data": {
      "application/vnd.jupyter.widget-view+json": {
       "model_id": "6517cd70a4f64b30a71e7bb3f8ad6bfb",
       "version_major": 2,
       "version_minor": 0
      },
      "text/plain": [
       "get_data:   0%|          | 0/500 [00:00<?, ?tasks/s]"
      ]
     },
     "metadata": {},
     "output_type": "display_data"
    },
    {
     "data": {
      "application/vnd.jupyter.widget-view+json": {
       "model_id": "99df4a2e2fc34b2396158a694921c5a4",
       "version_major": 2,
       "version_minor": 0
      },
      "text/plain": [
       "get_data:   0%|          | 0/500 [00:00<?, ?tasks/s]"
      ]
     },
     "metadata": {},
     "output_type": "display_data"
    },
    {
     "data": {
      "application/vnd.jupyter.widget-view+json": {
       "model_id": "c99fcb14cb694ae9a71e639242893d2f",
       "version_major": 2,
       "version_minor": 0
      },
      "text/plain": [
       "get_data:   0%|          | 0/500 [00:00<?, ?tasks/s]"
      ]
     },
     "metadata": {},
     "output_type": "display_data"
    },
    {
     "data": {
      "application/vnd.jupyter.widget-view+json": {
       "model_id": "e8d40be70faf478f92286236df241996",
       "version_major": 2,
       "version_minor": 0
      },
      "text/plain": [
       "get_data:   0%|          | 0/500 [00:00<?, ?tasks/s]"
      ]
     },
     "metadata": {},
     "output_type": "display_data"
    },
    {
     "data": {
      "application/vnd.jupyter.widget-view+json": {
       "model_id": "efad646b74b94f368d62f593b157ea06",
       "version_major": 2,
       "version_minor": 0
      },
      "text/plain": [
       "get_data:   0%|          | 0/500 [00:00<?, ?tasks/s]"
      ]
     },
     "metadata": {},
     "output_type": "display_data"
    },
    {
     "data": {
      "application/vnd.jupyter.widget-view+json": {
       "model_id": "5fd2f3a274514d41a9082de73f19cde6",
       "version_major": 2,
       "version_minor": 0
      },
      "text/plain": [
       "get_data:   0%|          | 0/500 [00:00<?, ?tasks/s]"
      ]
     },
     "metadata": {},
     "output_type": "display_data"
    },
    {
     "data": {
      "application/vnd.jupyter.widget-view+json": {
       "model_id": "3849ac6795ec4b26802fc6fc8d5a61f7",
       "version_major": 2,
       "version_minor": 0
      },
      "text/plain": [
       "get_data:   0%|          | 0/500 [00:00<?, ?tasks/s]"
      ]
     },
     "metadata": {},
     "output_type": "display_data"
    }
   ],
   "source": [
    "# go through every possible gene shuffled variant and simulate the model then add it to the prediction datagrame\n",
    "preds = []\n",
    "for perm in tr_perms:\n",
    "    for i in range(len(rxns)):\n",
    "        for r in rxns[i]:\n",
    "            set_reaction(r, mapping={\"k1\": perm[i]})\n",
    "    save_model(temp_model)\n",
    "    sim_list = [temp_model] * groups\n",
    "    ar_map = dview.map_async(get_data, sim_list)\n",
    "    ar_map.wait_interactive()\n",
    "    res = ar_map.get()\n",
    "    res = pd.concat(res)\n",
    "    preds.append(res)\n",
    "    os.remove(temp_model)\n",
    "\n",
    "column_names = preds[0].columns\n"
   ]
  },
  {
   "cell_type": "code",
   "execution_count": 17,
   "id": "05878006",
   "metadata": {},
   "outputs": [],
   "source": []
  },
  {
   "cell_type": "code",
   "execution_count": 18,
   "id": "958bae6f",
   "metadata": {},
   "outputs": [],
   "source": [
    "# save all data associated with these predictions\n",
    "np.save(\"all_possible_variants.npy\", np.array(preds))\n",
    "pd.DataFrame(column_names).T.to_csv(\"colnames.csv\")\n",
    "np.save(\"transcription_rates.npy\", np.array(tr_perms))\n",
    "pd.DataFrame(gene_perms).T.to_csv( \"gene_perms.csv\")\n"
   ]
  },
  {
   "cell_type": "code",
   "execution_count": 123,
   "id": "ea7a9de5",
   "metadata": {},
   "outputs": [],
   "source": [
    "preds = np.load(\"all_possible_variants.npy\")\n",
    "rates = np.load(\"transcription_rates.npy\")\n",
    "column_names = pd.read_csv(\"colnames.csv\",index_col=0)\n",
    "gene_perms = pd.read_csv(\"gene_perms.csv\",index_col=0).T\n"
   ]
  },
  {
   "cell_type": "code",
   "execution_count": 135,
   "id": "a1eb54b7",
   "metadata": {},
   "outputs": [],
   "source": [
    "# get data on number of virions produced and calculate standard deviation and mean. Also get percent of aborted infections\n",
    "pred_v = preds[:,:,18]\n",
    "pred_time = preds[:,:,19]\n",
    "pred_v = pred_v[pred_time == 57000]\n",
    "pred_v = pred_v.reshape(len(pred_time),int(len(pred_v)/len(pred_time)))\n",
    "pred_std = np.std(pred_v, axis = 1)\n",
    "pred_via = (1-(np.sum(pred_v > 1, axis = 1) / len(pred_v[0]) )) * 100\n",
    "pred_v = np.mean(pred_v, axis = 1)\n",
    "\n"
   ]
  },
  {
   "cell_type": "code",
   "execution_count": 141,
   "id": "da588afb",
   "metadata": {},
   "outputs": [],
   "source": [
    "# save in table of variants\n",
    "variant_table = pd.concat([ gene_perms.T, pd.DataFrame(pred_v), pd.DataFrame(pred_std), pd.DataFrame(pred_via)], axis = 1)\n",
    "variant_table.columns  = [\"Variant\", \"Mean Virions Produced\", \"Standard Deviation\", \"Percent Aborted Infections\"]\n",
    "variant_table.to_excel(\"Variant_Table.xlsx\")"
   ]
  },
  {
   "cell_type": "code",
   "execution_count": 143,
   "id": "e7bd7c91",
   "metadata": {},
   "outputs": [
    {
     "data": {
      "text/plain": [
       "'NMGLP'"
      ]
     },
     "execution_count": 143,
     "metadata": {},
     "output_type": "execute_result"
    }
   ],
   "source": [
    "# find the most fruitful gene shuffled variant\n",
    "max_vir = pred_v[np.where(pred_v == np.max(pred_v))]\n",
    "max_var = gene_perms.iloc[:,np.where(pred_v == np.max(pred_v))[0][0]].iloc[0]\n",
    "max_rates = rates[np.where(pred_v == np.max(pred_v))][0]\n",
    "max_var\n",
    "\n"
   ]
  },
  {
   "cell_type": "code",
   "execution_count": 26,
   "id": "73b5dbb8",
   "metadata": {},
   "outputs": [],
   "source": [
    "# define the scan range for adjusting the transcription rates\n",
    "scan = np.linspace(-.25, .25, 11)\n",
    "scan = sort_list(scan, np.abs(scan))[::-1]\n"
   ]
  },
  {
   "cell_type": "code",
   "execution_count": 50,
   "id": "9f45d881",
   "metadata": {
    "scrolled": true
   },
   "outputs": [
    {
     "data": {
      "application/vnd.jupyter.widget-view+json": {
       "model_id": "29503a850a4d4d919f37c353a0e0c4ca",
       "version_major": 2,
       "version_minor": 0
      },
      "text/plain": [
       "get_data:   0%|          | 0/500 [00:00<?, ?tasks/s]"
      ]
     },
     "metadata": {},
     "output_type": "display_data"
    },
    {
     "data": {
      "application/vnd.jupyter.widget-view+json": {
       "model_id": "b24696951f884a308baaa83af84b360f",
       "version_major": 2,
       "version_minor": 0
      },
      "text/plain": [
       "get_data:   0%|          | 0/500 [00:00<?, ?tasks/s]"
      ]
     },
     "metadata": {},
     "output_type": "display_data"
    },
    {
     "data": {
      "application/vnd.jupyter.widget-view+json": {
       "model_id": "9f18a33a03fb44578a0029a7ca9df586",
       "version_major": 2,
       "version_minor": 0
      },
      "text/plain": [
       "get_data:   0%|          | 0/500 [00:00<?, ?tasks/s]"
      ]
     },
     "metadata": {},
     "output_type": "display_data"
    },
    {
     "data": {
      "application/vnd.jupyter.widget-view+json": {
       "model_id": "9608d68fa58944179f239e274e17799a",
       "version_major": 2,
       "version_minor": 0
      },
      "text/plain": [
       "get_data:   0%|          | 0/500 [00:00<?, ?tasks/s]"
      ]
     },
     "metadata": {},
     "output_type": "display_data"
    },
    {
     "data": {
      "application/vnd.jupyter.widget-view+json": {
       "model_id": "eb84afe5a5b94552a14c867c85d258c8",
       "version_major": 2,
       "version_minor": 0
      },
      "text/plain": [
       "get_data:   0%|          | 0/500 [00:00<?, ?tasks/s]"
      ]
     },
     "metadata": {},
     "output_type": "display_data"
    },
    {
     "data": {
      "application/vnd.jupyter.widget-view+json": {
       "model_id": "e3d5f128e18d40f8a92557ceaae2d6a1",
       "version_major": 2,
       "version_minor": 0
      },
      "text/plain": [
       "get_data:   0%|          | 0/500 [00:00<?, ?tasks/s]"
      ]
     },
     "metadata": {},
     "output_type": "display_data"
    },
    {
     "data": {
      "application/vnd.jupyter.widget-view+json": {
       "model_id": "00facb86199647d78bfeb9dd11ab0781",
       "version_major": 2,
       "version_minor": 0
      },
      "text/plain": [
       "get_data:   0%|          | 0/500 [00:00<?, ?tasks/s]"
      ]
     },
     "metadata": {},
     "output_type": "display_data"
    },
    {
     "data": {
      "application/vnd.jupyter.widget-view+json": {
       "model_id": "a37cc8f5e1aa45c68d70b99a39405915",
       "version_major": 2,
       "version_minor": 0
      },
      "text/plain": [
       "get_data:   0%|          | 0/500 [00:00<?, ?tasks/s]"
      ]
     },
     "metadata": {},
     "output_type": "display_data"
    },
    {
     "data": {
      "application/vnd.jupyter.widget-view+json": {
       "model_id": "a82a52e8a8854329846f3b74669c9cd3",
       "version_major": 2,
       "version_minor": 0
      },
      "text/plain": [
       "get_data:   0%|          | 0/500 [00:00<?, ?tasks/s]"
      ]
     },
     "metadata": {},
     "output_type": "display_data"
    },
    {
     "data": {
      "application/vnd.jupyter.widget-view+json": {
       "model_id": "e2e6931c1ab0430ca57286cd61381cf3",
       "version_major": 2,
       "version_minor": 0
      },
      "text/plain": [
       "get_data:   0%|          | 0/500 [00:00<?, ?tasks/s]"
      ]
     },
     "metadata": {},
     "output_type": "display_data"
    },
    {
     "data": {
      "application/vnd.jupyter.widget-view+json": {
       "model_id": "a68fef315cb34f2db581793ef58285c5",
       "version_major": 2,
       "version_minor": 0
      },
      "text/plain": [
       "get_data:   0%|          | 0/500 [00:00<?, ?tasks/s]"
      ]
     },
     "metadata": {},
     "output_type": "display_data"
    },
    {
     "data": {
      "application/vnd.jupyter.widget-view+json": {
       "model_id": "847d0805abca44b6bdba90eb7df62ebf",
       "version_major": 2,
       "version_minor": 0
      },
      "text/plain": [
       "get_data:   0%|          | 0/500 [00:00<?, ?tasks/s]"
      ]
     },
     "metadata": {},
     "output_type": "display_data"
    },
    {
     "data": {
      "application/vnd.jupyter.widget-view+json": {
       "model_id": "c812cb05d9a24bd9850084d0c22cd2b3",
       "version_major": 2,
       "version_minor": 0
      },
      "text/plain": [
       "get_data:   0%|          | 0/500 [00:00<?, ?tasks/s]"
      ]
     },
     "metadata": {},
     "output_type": "display_data"
    },
    {
     "data": {
      "application/vnd.jupyter.widget-view+json": {
       "model_id": "c3769d08c0574565b02cea72d505996d",
       "version_major": 2,
       "version_minor": 0
      },
      "text/plain": [
       "get_data:   0%|          | 0/500 [00:00<?, ?tasks/s]"
      ]
     },
     "metadata": {},
     "output_type": "display_data"
    },
    {
     "data": {
      "application/vnd.jupyter.widget-view+json": {
       "model_id": "d75be43e96af43408a09d84bbc762b9d",
       "version_major": 2,
       "version_minor": 0
      },
      "text/plain": [
       "get_data:   0%|          | 0/500 [00:00<?, ?tasks/s]"
      ]
     },
     "metadata": {},
     "output_type": "display_data"
    },
    {
     "data": {
      "application/vnd.jupyter.widget-view+json": {
       "model_id": "ce8c4dbda33c40bca17921b203019ae7",
       "version_major": 2,
       "version_minor": 0
      },
      "text/plain": [
       "get_data:   0%|          | 0/500 [00:00<?, ?tasks/s]"
      ]
     },
     "metadata": {},
     "output_type": "display_data"
    },
    {
     "data": {
      "application/vnd.jupyter.widget-view+json": {
       "model_id": "da637260c3d242ea83806d760db9028e",
       "version_major": 2,
       "version_minor": 0
      },
      "text/plain": [
       "get_data:   0%|          | 0/500 [00:00<?, ?tasks/s]"
      ]
     },
     "metadata": {},
     "output_type": "display_data"
    },
    {
     "data": {
      "application/vnd.jupyter.widget-view+json": {
       "model_id": "717848879d6442a7aab1c40a108ddbfe",
       "version_major": 2,
       "version_minor": 0
      },
      "text/plain": [
       "get_data:   0%|          | 0/500 [00:00<?, ?tasks/s]"
      ]
     },
     "metadata": {},
     "output_type": "display_data"
    },
    {
     "data": {
      "application/vnd.jupyter.widget-view+json": {
       "model_id": "403681de10d54b48b36623e9c4e7552c",
       "version_major": 2,
       "version_minor": 0
      },
      "text/plain": [
       "get_data:   0%|          | 0/500 [00:00<?, ?tasks/s]"
      ]
     },
     "metadata": {},
     "output_type": "display_data"
    },
    {
     "data": {
      "application/vnd.jupyter.widget-view+json": {
       "model_id": "d09f88a4fff34eef8bdd3d6b0f7740ba",
       "version_major": 2,
       "version_minor": 0
      },
      "text/plain": [
       "get_data:   0%|          | 0/500 [00:00<?, ?tasks/s]"
      ]
     },
     "metadata": {},
     "output_type": "display_data"
    },
    {
     "data": {
      "application/vnd.jupyter.widget-view+json": {
       "model_id": "4fb907fee2934c3dbaa7719c643c96dc",
       "version_major": 2,
       "version_minor": 0
      },
      "text/plain": [
       "get_data:   0%|          | 0/500 [00:00<?, ?tasks/s]"
      ]
     },
     "metadata": {},
     "output_type": "display_data"
    },
    {
     "data": {
      "application/vnd.jupyter.widget-view+json": {
       "model_id": "8fbb89084aa343878d377b53f0eef38d",
       "version_major": 2,
       "version_minor": 0
      },
      "text/plain": [
       "get_data:   0%|          | 0/500 [00:00<?, ?tasks/s]"
      ]
     },
     "metadata": {},
     "output_type": "display_data"
    },
    {
     "data": {
      "application/vnd.jupyter.widget-view+json": {
       "model_id": "ec63f3e2f4fa4371bd9c10941a63b728",
       "version_major": 2,
       "version_minor": 0
      },
      "text/plain": [
       "get_data:   0%|          | 0/500 [00:00<?, ?tasks/s]"
      ]
     },
     "metadata": {},
     "output_type": "display_data"
    },
    {
     "data": {
      "application/vnd.jupyter.widget-view+json": {
       "model_id": "34b883ab55dc404091adf8bd9c1b50a0",
       "version_major": 2,
       "version_minor": 0
      },
      "text/plain": [
       "get_data:   0%|          | 0/500 [00:00<?, ?tasks/s]"
      ]
     },
     "metadata": {},
     "output_type": "display_data"
    },
    {
     "data": {
      "application/vnd.jupyter.widget-view+json": {
       "model_id": "b9aaa52b36454c9d8d5dd499ce23dd6c",
       "version_major": 2,
       "version_minor": 0
      },
      "text/plain": [
       "get_data:   0%|          | 0/500 [00:00<?, ?tasks/s]"
      ]
     },
     "metadata": {},
     "output_type": "display_data"
    },
    {
     "data": {
      "application/vnd.jupyter.widget-view+json": {
       "model_id": "59c92095386646bdb2ea9a461c9b892e",
       "version_major": 2,
       "version_minor": 0
      },
      "text/plain": [
       "get_data:   0%|          | 0/500 [00:00<?, ?tasks/s]"
      ]
     },
     "metadata": {},
     "output_type": "display_data"
    },
    {
     "data": {
      "application/vnd.jupyter.widget-view+json": {
       "model_id": "65856c1c9e7e4284bba75cb9ec405432",
       "version_major": 2,
       "version_minor": 0
      },
      "text/plain": [
       "get_data:   0%|          | 0/500 [00:00<?, ?tasks/s]"
      ]
     },
     "metadata": {},
     "output_type": "display_data"
    },
    {
     "data": {
      "application/vnd.jupyter.widget-view+json": {
       "model_id": "e6851f160c824dc48c6baaa680f9e1ab",
       "version_major": 2,
       "version_minor": 0
      },
      "text/plain": [
       "get_data:   0%|          | 0/500 [00:00<?, ?tasks/s]"
      ]
     },
     "metadata": {},
     "output_type": "display_data"
    },
    {
     "data": {
      "application/vnd.jupyter.widget-view+json": {
       "model_id": "098e3a1c79d64cffae11b325e7e1c5fd",
       "version_major": 2,
       "version_minor": 0
      },
      "text/plain": [
       "get_data:   0%|          | 0/500 [00:00<?, ?tasks/s]"
      ]
     },
     "metadata": {},
     "output_type": "display_data"
    },
    {
     "data": {
      "application/vnd.jupyter.widget-view+json": {
       "model_id": "6a2c36c0a0774917a2cfb6d4da91a36e",
       "version_major": 2,
       "version_minor": 0
      },
      "text/plain": [
       "get_data:   0%|          | 0/500 [00:00<?, ?tasks/s]"
      ]
     },
     "metadata": {},
     "output_type": "display_data"
    },
    {
     "data": {
      "application/vnd.jupyter.widget-view+json": {
       "model_id": "70c63699b078402eb68457ed9e9775e0",
       "version_major": 2,
       "version_minor": 0
      },
      "text/plain": [
       "get_data:   0%|          | 0/500 [00:00<?, ?tasks/s]"
      ]
     },
     "metadata": {},
     "output_type": "display_data"
    },
    {
     "data": {
      "application/vnd.jupyter.widget-view+json": {
       "model_id": "5ad31b36ea5644b6b361d227c9ffe6ef",
       "version_major": 2,
       "version_minor": 0
      },
      "text/plain": [
       "get_data:   0%|          | 0/500 [00:00<?, ?tasks/s]"
      ]
     },
     "metadata": {},
     "output_type": "display_data"
    },
    {
     "data": {
      "application/vnd.jupyter.widget-view+json": {
       "model_id": "7af471c29579454289fb168bb49e7fd0",
       "version_major": 2,
       "version_minor": 0
      },
      "text/plain": [
       "get_data:   0%|          | 0/500 [00:00<?, ?tasks/s]"
      ]
     },
     "metadata": {},
     "output_type": "display_data"
    },
    {
     "data": {
      "application/vnd.jupyter.widget-view+json": {
       "model_id": "4bf8df4d497f4de4807b273af206ec8e",
       "version_major": 2,
       "version_minor": 0
      },
      "text/plain": [
       "get_data:   0%|          | 0/500 [00:00<?, ?tasks/s]"
      ]
     },
     "metadata": {},
     "output_type": "display_data"
    },
    {
     "data": {
      "application/vnd.jupyter.widget-view+json": {
       "model_id": "ed21063409a34ecdab462a8a33490fbf",
       "version_major": 2,
       "version_minor": 0
      },
      "text/plain": [
       "get_data:   0%|          | 0/500 [00:00<?, ?tasks/s]"
      ]
     },
     "metadata": {},
     "output_type": "display_data"
    },
    {
     "data": {
      "application/vnd.jupyter.widget-view+json": {
       "model_id": "198133a691d64427b162dd0c545b787a",
       "version_major": 2,
       "version_minor": 0
      },
      "text/plain": [
       "get_data:   0%|          | 0/500 [00:00<?, ?tasks/s]"
      ]
     },
     "metadata": {},
     "output_type": "display_data"
    },
    {
     "data": {
      "application/vnd.jupyter.widget-view+json": {
       "model_id": "6100dea25028484b806c1ed2c99f30d6",
       "version_major": 2,
       "version_minor": 0
      },
      "text/plain": [
       "get_data:   0%|          | 0/500 [00:00<?, ?tasks/s]"
      ]
     },
     "metadata": {},
     "output_type": "display_data"
    },
    {
     "data": {
      "application/vnd.jupyter.widget-view+json": {
       "model_id": "0d2fd92b114e41d9beac04322a2b9ac2",
       "version_major": 2,
       "version_minor": 0
      },
      "text/plain": [
       "get_data:   0%|          | 0/500 [00:00<?, ?tasks/s]"
      ]
     },
     "metadata": {},
     "output_type": "display_data"
    },
    {
     "data": {
      "application/vnd.jupyter.widget-view+json": {
       "model_id": "73264ca3466b477cabf94f421c4228d2",
       "version_major": 2,
       "version_minor": 0
      },
      "text/plain": [
       "get_data:   0%|          | 0/500 [00:00<?, ?tasks/s]"
      ]
     },
     "metadata": {},
     "output_type": "display_data"
    },
    {
     "data": {
      "application/vnd.jupyter.widget-view+json": {
       "model_id": "6c5bfdc98f4a4bb38694fc9b101c0f9c",
       "version_major": 2,
       "version_minor": 0
      },
      "text/plain": [
       "get_data:   0%|          | 0/500 [00:00<?, ?tasks/s]"
      ]
     },
     "metadata": {},
     "output_type": "display_data"
    },
    {
     "data": {
      "application/vnd.jupyter.widget-view+json": {
       "model_id": "43c773b98e45426892b8866ce1035a34",
       "version_major": 2,
       "version_minor": 0
      },
      "text/plain": [
       "get_data:   0%|          | 0/500 [00:00<?, ?tasks/s]"
      ]
     },
     "metadata": {},
     "output_type": "display_data"
    },
    {
     "data": {
      "application/vnd.jupyter.widget-view+json": {
       "model_id": "afa37a42760c42c39ba8daffe9d679ce",
       "version_major": 2,
       "version_minor": 0
      },
      "text/plain": [
       "get_data:   0%|          | 0/500 [00:00<?, ?tasks/s]"
      ]
     },
     "metadata": {},
     "output_type": "display_data"
    },
    {
     "data": {
      "application/vnd.jupyter.widget-view+json": {
       "model_id": "02c80a7f0f4641f3980504b3856fbce0",
       "version_major": 2,
       "version_minor": 0
      },
      "text/plain": [
       "get_data:   0%|          | 0/500 [00:00<?, ?tasks/s]"
      ]
     },
     "metadata": {},
     "output_type": "display_data"
    },
    {
     "data": {
      "application/vnd.jupyter.widget-view+json": {
       "model_id": "4a00d3300cad4f23a4aed6fc2b17a7e4",
       "version_major": 2,
       "version_minor": 0
      },
      "text/plain": [
       "get_data:   0%|          | 0/500 [00:00<?, ?tasks/s]"
      ]
     },
     "metadata": {},
     "output_type": "display_data"
    },
    {
     "data": {
      "application/vnd.jupyter.widget-view+json": {
       "model_id": "6f1789f4f2384ef6986d06c3619cc281",
       "version_major": 2,
       "version_minor": 0
      },
      "text/plain": [
       "get_data:   0%|          | 0/500 [00:00<?, ?tasks/s]"
      ]
     },
     "metadata": {},
     "output_type": "display_data"
    },
    {
     "data": {
      "application/vnd.jupyter.widget-view+json": {
       "model_id": "32fd0e36617e497fa95e6937225ed3f9",
       "version_major": 2,
       "version_minor": 0
      },
      "text/plain": [
       "get_data:   0%|          | 0/500 [00:00<?, ?tasks/s]"
      ]
     },
     "metadata": {},
     "output_type": "display_data"
    },
    {
     "data": {
      "application/vnd.jupyter.widget-view+json": {
       "model_id": "dcf03e662e10413997580c5a334ac841",
       "version_major": 2,
       "version_minor": 0
      },
      "text/plain": [
       "get_data:   0%|          | 0/500 [00:00<?, ?tasks/s]"
      ]
     },
     "metadata": {},
     "output_type": "display_data"
    },
    {
     "data": {
      "application/vnd.jupyter.widget-view+json": {
       "model_id": "7abef19cc72340f4a4641d5707a675ec",
       "version_major": 2,
       "version_minor": 0
      },
      "text/plain": [
       "get_data:   0%|          | 0/500 [00:00<?, ?tasks/s]"
      ]
     },
     "metadata": {},
     "output_type": "display_data"
    },
    {
     "data": {
      "application/vnd.jupyter.widget-view+json": {
       "model_id": "e7583cbe2d6546cdbb9fc70d4db73571",
       "version_major": 2,
       "version_minor": 0
      },
      "text/plain": [
       "get_data:   0%|          | 0/500 [00:00<?, ?tasks/s]"
      ]
     },
     "metadata": {},
     "output_type": "display_data"
    },
    {
     "data": {
      "application/vnd.jupyter.widget-view+json": {
       "model_id": "82fc48dd5933477aa1d976d61912f568",
       "version_major": 2,
       "version_minor": 0
      },
      "text/plain": [
       "get_data:   0%|          | 0/500 [00:00<?, ?tasks/s]"
      ]
     },
     "metadata": {},
     "output_type": "display_data"
    },
    {
     "data": {
      "application/vnd.jupyter.widget-view+json": {
       "model_id": "587c0706fff045dfade99897bebfd183",
       "version_major": 2,
       "version_minor": 0
      },
      "text/plain": [
       "get_data:   0%|          | 0/500 [00:00<?, ?tasks/s]"
      ]
     },
     "metadata": {},
     "output_type": "display_data"
    },
    {
     "data": {
      "application/vnd.jupyter.widget-view+json": {
       "model_id": "a5a2b491cb184fd19b50807f7259e5bc",
       "version_major": 2,
       "version_minor": 0
      },
      "text/plain": [
       "get_data:   0%|          | 0/500 [00:00<?, ?tasks/s]"
      ]
     },
     "metadata": {},
     "output_type": "display_data"
    },
    {
     "data": {
      "application/vnd.jupyter.widget-view+json": {
       "model_id": "dcb2f3f3fecd404e9a03341bc9ee5f2f",
       "version_major": 2,
       "version_minor": 0
      },
      "text/plain": [
       "get_data:   0%|          | 0/500 [00:00<?, ?tasks/s]"
      ]
     },
     "metadata": {},
     "output_type": "display_data"
    },
    {
     "data": {
      "application/vnd.jupyter.widget-view+json": {
       "model_id": "9c95632c97df471c9189850095744f7d",
       "version_major": 2,
       "version_minor": 0
      },
      "text/plain": [
       "get_data:   0%|          | 0/500 [00:00<?, ?tasks/s]"
      ]
     },
     "metadata": {},
     "output_type": "display_data"
    },
    {
     "data": {
      "application/vnd.jupyter.widget-view+json": {
       "model_id": "3caf2e4c84c3424b812e882eba94ab6b",
       "version_major": 2,
       "version_minor": 0
      },
      "text/plain": [
       "get_data:   0%|          | 0/500 [00:00<?, ?tasks/s]"
      ]
     },
     "metadata": {},
     "output_type": "display_data"
    }
   ],
   "source": [
    "# simulate the model with every possible adjustment in every gene\n",
    "preds_rxns = []\n",
    "for i in range(len(rxns)):\n",
    "    rate = max_rates[i]\n",
    "    preds = []\n",
    "    for adj in scan:\n",
    "        for j in range(len(rxns)):\n",
    "            for r in rxns[j]:\n",
    "                set_reaction(r, mapping={\"k1\": max_rates[j]})\n",
    "        new_rate = rate + rate * adj\n",
    "        for r in rxns[i]:\n",
    "            set_reaction(r, mapping={\"k1\": new_rate})\n",
    "        save_model(temp_model)\n",
    "        sim_list = [temp_model] * groups\n",
    "        ar_map = dview.map_async(get_data, sim_list)\n",
    "        ar_map.wait_interactive()\n",
    "        res = ar_map.get()\n",
    "        res = pd.concat(res)\n",
    "        preds.append(res)\n",
    "        os.remove(temp_model)        \n",
    "    preds_rxns.append(preds)\n",
    "    \n",
    "    "
   ]
  },
  {
   "cell_type": "code",
   "execution_count": 51,
   "id": "5f8f6dd6",
   "metadata": {},
   "outputs": [
    {
     "name": "stderr",
     "output_type": "stream",
     "text": [
      "/tmp/ipykernel_1728/2017451756.py:1: VisibleDeprecationWarning: Creating an ndarray from ragged nested sequences (which is a list-or-tuple of lists-or-tuples-or ndarrays with different lengths or shapes) is deprecated. If you meant to do this, you must specify 'dtype=object' when creating the ndarray.\n",
      "  np.save(\"par_scan_max.npy\",np.array(preds_rxns))\n"
     ]
    }
   ],
   "source": [
    "# save the data\n",
    "np.save(\"par_scan_max.npy\",np.array(preds_rxns))\n"
   ]
  },
  {
   "cell_type": "code",
   "execution_count": 29,
   "id": "1a2130b8",
   "metadata": {},
   "outputs": [
    {
     "data": {
      "text/plain": [
       "array([1.0046800e-03, 7.0327600e-04, 4.9229320e-04, 3.4460524e-04,\n",
       "       3.4460524e-05])"
      ]
     },
     "execution_count": 29,
     "metadata": {},
     "output_type": "execute_result"
    }
   ],
   "source": [
    "# select the wildtype parameters\n",
    "wt_vir = pred_v[0]\n",
    "wt_var = gene_perms.iloc[:,0][0]\n",
    "wt_rates = rates[0]\n",
    "wt_rates\n",
    "\n"
   ]
  },
  {
   "cell_type": "code",
   "execution_count": 28,
   "id": "2c938887",
   "metadata": {},
   "outputs": [
    {
     "data": {
      "application/vnd.jupyter.widget-view+json": {
       "model_id": "17e9546d595142d2a5e442180ecc03d7",
       "version_major": 2,
       "version_minor": 0
      },
      "text/plain": [
       "get_data:   0%|          | 0/500 [00:00<?, ?tasks/s]"
      ]
     },
     "metadata": {},
     "output_type": "display_data"
    },
    {
     "data": {
      "application/vnd.jupyter.widget-view+json": {
       "model_id": "d6406ce61a5c495ab3900ef31633c3b5",
       "version_major": 2,
       "version_minor": 0
      },
      "text/plain": [
       "get_data:   0%|          | 0/500 [00:00<?, ?tasks/s]"
      ]
     },
     "metadata": {},
     "output_type": "display_data"
    },
    {
     "data": {
      "application/vnd.jupyter.widget-view+json": {
       "model_id": "b129f9dab9204ad7966e9f9a39c54f28",
       "version_major": 2,
       "version_minor": 0
      },
      "text/plain": [
       "get_data:   0%|          | 0/500 [00:00<?, ?tasks/s]"
      ]
     },
     "metadata": {},
     "output_type": "display_data"
    },
    {
     "data": {
      "application/vnd.jupyter.widget-view+json": {
       "model_id": "e2b23f1a0c4a41bea54a06ed4fc945db",
       "version_major": 2,
       "version_minor": 0
      },
      "text/plain": [
       "get_data:   0%|          | 0/500 [00:00<?, ?tasks/s]"
      ]
     },
     "metadata": {},
     "output_type": "display_data"
    },
    {
     "data": {
      "application/vnd.jupyter.widget-view+json": {
       "model_id": "0b0aa8176e054bad99f42896b44ae056",
       "version_major": 2,
       "version_minor": 0
      },
      "text/plain": [
       "get_data:   0%|          | 0/500 [00:00<?, ?tasks/s]"
      ]
     },
     "metadata": {},
     "output_type": "display_data"
    },
    {
     "data": {
      "application/vnd.jupyter.widget-view+json": {
       "model_id": "034d4b0267ed44e99135859353e2d4fe",
       "version_major": 2,
       "version_minor": 0
      },
      "text/plain": [
       "get_data:   0%|          | 0/500 [00:00<?, ?tasks/s]"
      ]
     },
     "metadata": {},
     "output_type": "display_data"
    },
    {
     "data": {
      "application/vnd.jupyter.widget-view+json": {
       "model_id": "9e59c246381d49ebb4d3306acd0b2829",
       "version_major": 2,
       "version_minor": 0
      },
      "text/plain": [
       "get_data:   0%|          | 0/500 [00:00<?, ?tasks/s]"
      ]
     },
     "metadata": {},
     "output_type": "display_data"
    },
    {
     "data": {
      "application/vnd.jupyter.widget-view+json": {
       "model_id": "ed2fc41975694ba4bcc81e642d314f48",
       "version_major": 2,
       "version_minor": 0
      },
      "text/plain": [
       "get_data:   0%|          | 0/500 [00:00<?, ?tasks/s]"
      ]
     },
     "metadata": {},
     "output_type": "display_data"
    },
    {
     "data": {
      "application/vnd.jupyter.widget-view+json": {
       "model_id": "8e09d96ccd8241779ce98b3ed6f9771e",
       "version_major": 2,
       "version_minor": 0
      },
      "text/plain": [
       "get_data:   0%|          | 0/500 [00:00<?, ?tasks/s]"
      ]
     },
     "metadata": {},
     "output_type": "display_data"
    },
    {
     "data": {
      "application/vnd.jupyter.widget-view+json": {
       "model_id": "a59c84a36e8e4f11a1c7dabd61b61db7",
       "version_major": 2,
       "version_minor": 0
      },
      "text/plain": [
       "get_data:   0%|          | 0/500 [00:00<?, ?tasks/s]"
      ]
     },
     "metadata": {},
     "output_type": "display_data"
    },
    {
     "data": {
      "application/vnd.jupyter.widget-view+json": {
       "model_id": "d201a3cb7e6344b9aef27262b00038ae",
       "version_major": 2,
       "version_minor": 0
      },
      "text/plain": [
       "get_data:   0%|          | 0/500 [00:00<?, ?tasks/s]"
      ]
     },
     "metadata": {},
     "output_type": "display_data"
    },
    {
     "data": {
      "application/vnd.jupyter.widget-view+json": {
       "model_id": "dbe04ef31d944934a1aa6df277944a48",
       "version_major": 2,
       "version_minor": 0
      },
      "text/plain": [
       "get_data:   0%|          | 0/500 [00:00<?, ?tasks/s]"
      ]
     },
     "metadata": {},
     "output_type": "display_data"
    },
    {
     "data": {
      "application/vnd.jupyter.widget-view+json": {
       "model_id": "d31156378df5436ebf4ac2aeb5a9d60c",
       "version_major": 2,
       "version_minor": 0
      },
      "text/plain": [
       "get_data:   0%|          | 0/500 [00:00<?, ?tasks/s]"
      ]
     },
     "metadata": {},
     "output_type": "display_data"
    },
    {
     "data": {
      "application/vnd.jupyter.widget-view+json": {
       "model_id": "812ba58d8c36482889c3a89f679e44eb",
       "version_major": 2,
       "version_minor": 0
      },
      "text/plain": [
       "get_data:   0%|          | 0/500 [00:00<?, ?tasks/s]"
      ]
     },
     "metadata": {},
     "output_type": "display_data"
    },
    {
     "data": {
      "application/vnd.jupyter.widget-view+json": {
       "model_id": "d54756adb5c64ba5ab6657c2231f58cb",
       "version_major": 2,
       "version_minor": 0
      },
      "text/plain": [
       "get_data:   0%|          | 0/500 [00:00<?, ?tasks/s]"
      ]
     },
     "metadata": {},
     "output_type": "display_data"
    },
    {
     "data": {
      "application/vnd.jupyter.widget-view+json": {
       "model_id": "140275035b7b4ef696965c8d4a6fa8ee",
       "version_major": 2,
       "version_minor": 0
      },
      "text/plain": [
       "get_data:   0%|          | 0/500 [00:00<?, ?tasks/s]"
      ]
     },
     "metadata": {},
     "output_type": "display_data"
    },
    {
     "data": {
      "application/vnd.jupyter.widget-view+json": {
       "model_id": "a5615b94e3e64fcfa3feb4a504a6e6f6",
       "version_major": 2,
       "version_minor": 0
      },
      "text/plain": [
       "get_data:   0%|          | 0/500 [00:00<?, ?tasks/s]"
      ]
     },
     "metadata": {},
     "output_type": "display_data"
    },
    {
     "data": {
      "application/vnd.jupyter.widget-view+json": {
       "model_id": "e784cb97afc24ad08ea9c95a09c652c6",
       "version_major": 2,
       "version_minor": 0
      },
      "text/plain": [
       "get_data:   0%|          | 0/500 [00:00<?, ?tasks/s]"
      ]
     },
     "metadata": {},
     "output_type": "display_data"
    },
    {
     "data": {
      "application/vnd.jupyter.widget-view+json": {
       "model_id": "9e2d14bff2de4b9ca1fb6ee536d4f047",
       "version_major": 2,
       "version_minor": 0
      },
      "text/plain": [
       "get_data:   0%|          | 0/500 [00:00<?, ?tasks/s]"
      ]
     },
     "metadata": {},
     "output_type": "display_data"
    },
    {
     "data": {
      "application/vnd.jupyter.widget-view+json": {
       "model_id": "a64857b8aa584d158a737ba615946c5f",
       "version_major": 2,
       "version_minor": 0
      },
      "text/plain": [
       "get_data:   0%|          | 0/500 [00:00<?, ?tasks/s]"
      ]
     },
     "metadata": {},
     "output_type": "display_data"
    },
    {
     "data": {
      "application/vnd.jupyter.widget-view+json": {
       "model_id": "8f1c93e14e33455aae9ec8fc1fd6df0e",
       "version_major": 2,
       "version_minor": 0
      },
      "text/plain": [
       "get_data:   0%|          | 0/500 [00:00<?, ?tasks/s]"
      ]
     },
     "metadata": {},
     "output_type": "display_data"
    },
    {
     "data": {
      "application/vnd.jupyter.widget-view+json": {
       "model_id": "63808f6561d346f7aef44ee031610736",
       "version_major": 2,
       "version_minor": 0
      },
      "text/plain": [
       "get_data:   0%|          | 0/500 [00:00<?, ?tasks/s]"
      ]
     },
     "metadata": {},
     "output_type": "display_data"
    },
    {
     "data": {
      "application/vnd.jupyter.widget-view+json": {
       "model_id": "d703a8d1a85e449f93b0baac3234f661",
       "version_major": 2,
       "version_minor": 0
      },
      "text/plain": [
       "get_data:   0%|          | 0/500 [00:00<?, ?tasks/s]"
      ]
     },
     "metadata": {},
     "output_type": "display_data"
    },
    {
     "data": {
      "application/vnd.jupyter.widget-view+json": {
       "model_id": "018098b0c10a4ae2a56488d932385cd1",
       "version_major": 2,
       "version_minor": 0
      },
      "text/plain": [
       "get_data:   0%|          | 0/500 [00:00<?, ?tasks/s]"
      ]
     },
     "metadata": {},
     "output_type": "display_data"
    },
    {
     "data": {
      "application/vnd.jupyter.widget-view+json": {
       "model_id": "95a1a91fabb44e539eefb107388371e8",
       "version_major": 2,
       "version_minor": 0
      },
      "text/plain": [
       "get_data:   0%|          | 0/500 [00:00<?, ?tasks/s]"
      ]
     },
     "metadata": {},
     "output_type": "display_data"
    },
    {
     "data": {
      "application/vnd.jupyter.widget-view+json": {
       "model_id": "c458f764a96441db817cd0712851936f",
       "version_major": 2,
       "version_minor": 0
      },
      "text/plain": [
       "get_data:   0%|          | 0/500 [00:00<?, ?tasks/s]"
      ]
     },
     "metadata": {},
     "output_type": "display_data"
    },
    {
     "data": {
      "application/vnd.jupyter.widget-view+json": {
       "model_id": "7789dd6f64bf4dc1bfcab0fe3a95f2c7",
       "version_major": 2,
       "version_minor": 0
      },
      "text/plain": [
       "get_data:   0%|          | 0/500 [00:00<?, ?tasks/s]"
      ]
     },
     "metadata": {},
     "output_type": "display_data"
    },
    {
     "data": {
      "application/vnd.jupyter.widget-view+json": {
       "model_id": "e18ae0f6bfd34f6b8d4481562ae83e05",
       "version_major": 2,
       "version_minor": 0
      },
      "text/plain": [
       "get_data:   0%|          | 0/500 [00:00<?, ?tasks/s]"
      ]
     },
     "metadata": {},
     "output_type": "display_data"
    },
    {
     "data": {
      "application/vnd.jupyter.widget-view+json": {
       "model_id": "ce891f320d9e43b68eb0f484187a5a98",
       "version_major": 2,
       "version_minor": 0
      },
      "text/plain": [
       "get_data:   0%|          | 0/500 [00:00<?, ?tasks/s]"
      ]
     },
     "metadata": {},
     "output_type": "display_data"
    },
    {
     "data": {
      "application/vnd.jupyter.widget-view+json": {
       "model_id": "8df68bd0b5534862a9ee6f0ebdbc6887",
       "version_major": 2,
       "version_minor": 0
      },
      "text/plain": [
       "get_data:   0%|          | 0/500 [00:00<?, ?tasks/s]"
      ]
     },
     "metadata": {},
     "output_type": "display_data"
    },
    {
     "data": {
      "application/vnd.jupyter.widget-view+json": {
       "model_id": "c7aeca6432dd45e09369c2e648611ea9",
       "version_major": 2,
       "version_minor": 0
      },
      "text/plain": [
       "get_data:   0%|          | 0/500 [00:00<?, ?tasks/s]"
      ]
     },
     "metadata": {},
     "output_type": "display_data"
    },
    {
     "data": {
      "application/vnd.jupyter.widget-view+json": {
       "model_id": "441f1402bd1a4abfa43139846e4f1d44",
       "version_major": 2,
       "version_minor": 0
      },
      "text/plain": [
       "get_data:   0%|          | 0/500 [00:00<?, ?tasks/s]"
      ]
     },
     "metadata": {},
     "output_type": "display_data"
    },
    {
     "data": {
      "application/vnd.jupyter.widget-view+json": {
       "model_id": "f8a6d83773e04940bc99085258d89657",
       "version_major": 2,
       "version_minor": 0
      },
      "text/plain": [
       "get_data:   0%|          | 0/500 [00:00<?, ?tasks/s]"
      ]
     },
     "metadata": {},
     "output_type": "display_data"
    },
    {
     "data": {
      "application/vnd.jupyter.widget-view+json": {
       "model_id": "ce0017a414b745f9b3089a1c5f41f1d2",
       "version_major": 2,
       "version_minor": 0
      },
      "text/plain": [
       "get_data:   0%|          | 0/500 [00:00<?, ?tasks/s]"
      ]
     },
     "metadata": {},
     "output_type": "display_data"
    },
    {
     "data": {
      "application/vnd.jupyter.widget-view+json": {
       "model_id": "3079c99477394cbbb5a9a2d2b701e7eb",
       "version_major": 2,
       "version_minor": 0
      },
      "text/plain": [
       "get_data:   0%|          | 0/500 [00:00<?, ?tasks/s]"
      ]
     },
     "metadata": {},
     "output_type": "display_data"
    },
    {
     "data": {
      "application/vnd.jupyter.widget-view+json": {
       "model_id": "e5f198e21b2843febde5df8a10d53d87",
       "version_major": 2,
       "version_minor": 0
      },
      "text/plain": [
       "get_data:   0%|          | 0/500 [00:00<?, ?tasks/s]"
      ]
     },
     "metadata": {},
     "output_type": "display_data"
    },
    {
     "data": {
      "application/vnd.jupyter.widget-view+json": {
       "model_id": "9a75cf2d259a4975ab94aa1175f60b5f",
       "version_major": 2,
       "version_minor": 0
      },
      "text/plain": [
       "get_data:   0%|          | 0/500 [00:00<?, ?tasks/s]"
      ]
     },
     "metadata": {},
     "output_type": "display_data"
    },
    {
     "data": {
      "application/vnd.jupyter.widget-view+json": {
       "model_id": "5eb76af3c665456993741ead9e5a53cd",
       "version_major": 2,
       "version_minor": 0
      },
      "text/plain": [
       "get_data:   0%|          | 0/500 [00:00<?, ?tasks/s]"
      ]
     },
     "metadata": {},
     "output_type": "display_data"
    },
    {
     "data": {
      "application/vnd.jupyter.widget-view+json": {
       "model_id": "04978ed5745c46d4a2e7dbcd430f9031",
       "version_major": 2,
       "version_minor": 0
      },
      "text/plain": [
       "get_data:   0%|          | 0/500 [00:00<?, ?tasks/s]"
      ]
     },
     "metadata": {},
     "output_type": "display_data"
    },
    {
     "data": {
      "application/vnd.jupyter.widget-view+json": {
       "model_id": "3a7f2fdf321e4117bbb1cc439e369535",
       "version_major": 2,
       "version_minor": 0
      },
      "text/plain": [
       "get_data:   0%|          | 0/500 [00:00<?, ?tasks/s]"
      ]
     },
     "metadata": {},
     "output_type": "display_data"
    },
    {
     "data": {
      "application/vnd.jupyter.widget-view+json": {
       "model_id": "69f5b1775c0b469393b47b4b7e5d18d7",
       "version_major": 2,
       "version_minor": 0
      },
      "text/plain": [
       "get_data:   0%|          | 0/500 [00:00<?, ?tasks/s]"
      ]
     },
     "metadata": {},
     "output_type": "display_data"
    },
    {
     "data": {
      "application/vnd.jupyter.widget-view+json": {
       "model_id": "8a0ee97cb7174526afcaefef72615af3",
       "version_major": 2,
       "version_minor": 0
      },
      "text/plain": [
       "get_data:   0%|          | 0/500 [00:00<?, ?tasks/s]"
      ]
     },
     "metadata": {},
     "output_type": "display_data"
    },
    {
     "data": {
      "application/vnd.jupyter.widget-view+json": {
       "model_id": "21f622054b9e4f7780e1be5c68eed44d",
       "version_major": 2,
       "version_minor": 0
      },
      "text/plain": [
       "get_data:   0%|          | 0/500 [00:00<?, ?tasks/s]"
      ]
     },
     "metadata": {},
     "output_type": "display_data"
    },
    {
     "data": {
      "application/vnd.jupyter.widget-view+json": {
       "model_id": "f48279c70d044196a0022900c649e67d",
       "version_major": 2,
       "version_minor": 0
      },
      "text/plain": [
       "get_data:   0%|          | 0/500 [00:00<?, ?tasks/s]"
      ]
     },
     "metadata": {},
     "output_type": "display_data"
    },
    {
     "data": {
      "application/vnd.jupyter.widget-view+json": {
       "model_id": "8b67b635b2134dc7a3a0fb9af9ae02fc",
       "version_major": 2,
       "version_minor": 0
      },
      "text/plain": [
       "get_data:   0%|          | 0/500 [00:00<?, ?tasks/s]"
      ]
     },
     "metadata": {},
     "output_type": "display_data"
    },
    {
     "data": {
      "application/vnd.jupyter.widget-view+json": {
       "model_id": "5f702dc27d0e4e7a8a8940805bc3dd1c",
       "version_major": 2,
       "version_minor": 0
      },
      "text/plain": [
       "get_data:   0%|          | 0/500 [00:00<?, ?tasks/s]"
      ]
     },
     "metadata": {},
     "output_type": "display_data"
    },
    {
     "data": {
      "application/vnd.jupyter.widget-view+json": {
       "model_id": "228d463b0d22421f9794a2ebfe0b7b6b",
       "version_major": 2,
       "version_minor": 0
      },
      "text/plain": [
       "get_data:   0%|          | 0/500 [00:00<?, ?tasks/s]"
      ]
     },
     "metadata": {},
     "output_type": "display_data"
    },
    {
     "data": {
      "application/vnd.jupyter.widget-view+json": {
       "model_id": "a384a4a576d44ad38a33109172d2fbef",
       "version_major": 2,
       "version_minor": 0
      },
      "text/plain": [
       "get_data:   0%|          | 0/500 [00:00<?, ?tasks/s]"
      ]
     },
     "metadata": {},
     "output_type": "display_data"
    },
    {
     "data": {
      "application/vnd.jupyter.widget-view+json": {
       "model_id": "59e124bea345473581f436ec683ae129",
       "version_major": 2,
       "version_minor": 0
      },
      "text/plain": [
       "get_data:   0%|          | 0/500 [00:00<?, ?tasks/s]"
      ]
     },
     "metadata": {},
     "output_type": "display_data"
    },
    {
     "data": {
      "application/vnd.jupyter.widget-view+json": {
       "model_id": "17f20837d4934e60873504a0306ab664",
       "version_major": 2,
       "version_minor": 0
      },
      "text/plain": [
       "get_data:   0%|          | 0/500 [00:00<?, ?tasks/s]"
      ]
     },
     "metadata": {},
     "output_type": "display_data"
    },
    {
     "data": {
      "application/vnd.jupyter.widget-view+json": {
       "model_id": "cf30ab10e8a04981b2a37f3e82ada5cb",
       "version_major": 2,
       "version_minor": 0
      },
      "text/plain": [
       "get_data:   0%|          | 0/500 [00:00<?, ?tasks/s]"
      ]
     },
     "metadata": {},
     "output_type": "display_data"
    },
    {
     "data": {
      "application/vnd.jupyter.widget-view+json": {
       "model_id": "a81f2758e4c845cfb516d16ffc580953",
       "version_major": 2,
       "version_minor": 0
      },
      "text/plain": [
       "get_data:   0%|          | 0/500 [00:00<?, ?tasks/s]"
      ]
     },
     "metadata": {},
     "output_type": "display_data"
    },
    {
     "data": {
      "application/vnd.jupyter.widget-view+json": {
       "model_id": "a6b41c12d3ea42edb20d94e679730f9f",
       "version_major": 2,
       "version_minor": 0
      },
      "text/plain": [
       "get_data:   0%|          | 0/500 [00:00<?, ?tasks/s]"
      ]
     },
     "metadata": {},
     "output_type": "display_data"
    },
    {
     "data": {
      "application/vnd.jupyter.widget-view+json": {
       "model_id": "461009d4253345d592066a12a8728ca9",
       "version_major": 2,
       "version_minor": 0
      },
      "text/plain": [
       "get_data:   0%|          | 0/500 [00:00<?, ?tasks/s]"
      ]
     },
     "metadata": {},
     "output_type": "display_data"
    },
    {
     "data": {
      "application/vnd.jupyter.widget-view+json": {
       "model_id": "17bee01320b84273bf3a980274b01a6a",
       "version_major": 2,
       "version_minor": 0
      },
      "text/plain": [
       "get_data:   0%|          | 0/500 [00:00<?, ?tasks/s]"
      ]
     },
     "metadata": {},
     "output_type": "display_data"
    }
   ],
   "source": [
    "# simulate the model with every possible adjustment in every gene\n",
    "preds_rxns = []\n",
    "for i in range(len(rxns)):\n",
    "    rate = wt_rates[i]\n",
    "    preds = []\n",
    "    for adj in scan:\n",
    "        for j in range(len(rxns)):\n",
    "            for r in rxns[j]:\n",
    "                set_reaction(r, mapping={\"k1\": wt_rates[j]})\n",
    "        new_rate = rate + rate * adj\n",
    "        for r in rxns[i]:\n",
    "            set_reaction(r, mapping={\"k1\": new_rate})\n",
    "        save_model(temp_model)\n",
    "        sim_list = [temp_model] * groups\n",
    "        ar_map = dview.map_async(get_data, sim_list)\n",
    "        ar_map.wait_interactive()\n",
    "        res = ar_map.get()\n",
    "        res = pd.concat(res)\n",
    "        preds.append(res)\n",
    "        os.remove(temp_model)        \n",
    "    preds_rxns.append(preds)\n",
    "    \n",
    "    "
   ]
  },
  {
   "cell_type": "code",
   "execution_count": 31,
   "id": "90c6518f",
   "metadata": {},
   "outputs": [],
   "source": [
    "# save the data\n",
    "np.save(\"par_scan_wt.npy\",np.array(preds_rxns))\n"
   ]
  },
  {
   "cell_type": "code",
   "execution_count": 68,
   "id": "949f3286",
   "metadata": {},
   "outputs": [],
   "source": [
    "# load best variant parameter scan data in\n",
    "scan = np.linspace(-.25, .25, 11)\n",
    "scan = sort_list(scan, np.abs(scan))[::-1]\n",
    "max_scan = np.load(\"par_scan_max.npy\",allow_pickle =  True)\n",
    "\n"
   ]
  },
  {
   "cell_type": "code",
   "execution_count": 70,
   "id": "e426a75c",
   "metadata": {},
   "outputs": [],
   "source": [
    "# get means and 95 percent CI for the parameter scan models\n",
    "max_means = []\n",
    "max_95CI = []\n",
    "for i in range(len(max_scan)):\n",
    "    means = []\n",
    "    CI = []\n",
    "    for j in range(len(max_scan[i])):\n",
    "        means.append(np.mean(max_scan[i][j][max_scan[i][j][\"Time\"] == 57000][\"V\"]))\n",
    "        CI.append((np.std(max_scan[i][j][max_scan[i][j][\"Time\"] == 57000][\"V\"]) * 1.96)/np.sqrt(len(max_scan[i][j][max_scan[i][j][\"Time\"] == 57000][\"V\"]))   )\n",
    "    max_means.append(means)\n",
    "    max_95CI.append(CI)"
   ]
  },
  {
   "cell_type": "code",
   "execution_count": 191,
   "id": "077cf2d0",
   "metadata": {},
   "outputs": [],
   "source": [
    "# load wildtype parameter scan data in\n",
    "wt_scan = np.load(\"par_scan_wt.npy\", allow_pickle = True)"
   ]
  },
  {
   "cell_type": "code",
   "execution_count": 202,
   "id": "5e8e25b7",
   "metadata": {},
   "outputs": [],
   "source": [
    "# get means and 95 percent CI for the parameter scan models\n",
    "wt_means = []\n",
    "wt_95CI = []\n",
    "for i in range(len(wt_scan)):\n",
    "    means = []\n",
    "    CI = []\n",
    "    for j in range(len(wt_scan[i])):\n",
    "        means.append(np.mean(wt_scan[i][j][wt_scan[i][j][:,19] == 57000][:,18]))\n",
    "        CI.append((np.std(wt_scan[i][j][wt_scan[i][j][:,19] == 57000][:,18]) * 1.96)/np.sqrt(len(wt_scan[i][j][wt_scan[i][j][:,19] == 57000][:,18]))   )\n",
    "    wt_means.append(means)\n",
    "    wt_95CI.append(CI)"
   ]
  },
  {
   "cell_type": "code",
   "execution_count": 2,
   "id": "7e4058a2",
   "metadata": {},
   "outputs": [],
   "source": [
    "# load data in\n",
    "preds = np.load(\"all_possible_variants.npy\")\n",
    "rates = np.load(\"transcription_rates.npy\")\n",
    "column_names = pd.read_csv(\"colnames.csv\",index_col=0)\n",
    "gene_perms = pd.read_csv(\"gene_perms.csv\",index_col=0).T\n"
   ]
  },
  {
   "cell_type": "code",
   "execution_count": 3,
   "id": "b8f5011f",
   "metadata": {},
   "outputs": [],
   "source": [
    "# get average virion production and time for each gene shuffled variant\n",
    "pred_v = preds[:,:,18].reshape(120,5000,58)\n",
    "pred_time = preds[:,:,19].reshape(120,5000,58)\n",
    "pred_v = np.mean(pred_v, axis = 1)\n",
    "pred_time = np.mean(pred_time, axis = 1)"
   ]
  },
  {
   "cell_type": "code",
   "execution_count": 5,
   "id": "ba155690",
   "metadata": {},
   "outputs": [
    {
     "data": {
      "image/png": "[encoded data removed]",
      "text/plain": [
       "<Figure size 432x288 with 1 Axes>"
      ]
     },
     "metadata": {
      "needs_background": "light"
     },
     "output_type": "display_data"
    }
   ],
   "source": [
    "# plot average virion count over time for every gene shuffled variant\n",
    "for i in range(120):\n",
    "    plt.plot(pred_time[i]/3600, pred_v[i], color = \"black\", linewidth=.3)\n",
    "    plt.ylim(0, 14000)\n",
    "    plt.grid(True, linestyle='--', alpha=0.5)\n",
    "    plt.xlabel(\"Time (hours)\", fontsize=14)\n",
    "    plt.ylabel(\"Average Number of Virions Produced\", fontsize=14)\n",
    "plt.plot(pred_time[0]/3600, pred_v[0], color = \"red\")\n",
    "plt.savefig(f'VSV_vir_prod.svg', dpi=600, bbox_inches='tight')\n"
   ]
  },
  {
   "cell_type": "code",
   "execution_count": 187,
   "id": "1a5cd946",
   "metadata": {},
   "outputs": [
    {
     "data": {
      "text/plain": [
       "6"
      ]
     },
     "execution_count": 187,
     "metadata": {},
     "output_type": "execute_result"
    }
   ],
   "source": [
    "print(np.sum(pred_v[:,57] > 1))\n",
    "print(np.sum(pred_v[:,57] > 1000))\n",
    "print(np.sum(pred_v[:,57] > 2000))\n",
    "print(np.sum(pred_v[:,57] > 8000))"
   ]
  },
  {
   "cell_type": "code",
   "execution_count": 105,
   "id": "aecadb8f",
   "metadata": {},
   "outputs": [
    {
     "data": {
      "image/png": "[encoded data removed]",
      "text/plain": [
       "<Figure size 432x288 with 1 Axes>"
      ]
     },
     "metadata": {
      "needs_background": "light"
     },
     "output_type": "display_data"
    }
   ],
   "source": [
    "# visualize the parameter scan data\n",
    "mRNA = [\"N\", \"P\", \"M\", \"G\", \"L\"]\n",
    "colors = sns.color_palette(\"colorblind\", 5)\n",
    "\n",
    "for i in range(5):\n",
    "    plt.errorbar(np.array(scan) * 100,(wt_means[i]/wt_vir - 1) * 100 , yerr = (wt_95CI[i]/wt_vir) * 100, fmt=\"o\", label = mRNA[i], color = colors[i],capsize=5)\n",
    "    plt.ylim(-100,200)\n",
    "    plt.xlim(-30,30)\n",
    "    plt.xlabel(\"Percent Change in Transcription Rate Constant\", fontsize=14)\n",
    "    plt.ylabel(\"Percent Change in Virions Produced\", fontsize=14)\n",
    "    plt.grid(True, linestyle='--', alpha=0.5)\n",
    "    plt.hlines(1, xmin = -30, xmax = 30, linestyle='--', color = \"black\")\n",
    "plt.legend()\n",
    "plt.savefig(f'wt_vsv_parameterscan.svg', dpi=600, bbox_inches='tight')\n",
    "plt.show()\n"
   ]
  },
  {
   "cell_type": "code",
   "execution_count": 104,
   "id": "d0c2bba7",
   "metadata": {},
   "outputs": [
    {
     "data": {
      "image/png": "[encoded data removed]",
      "text/plain": [
       "<Figure size 432x288 with 1 Axes>"
      ]
     },
     "metadata": {
      "needs_background": "light"
     },
     "output_type": "display_data"
    }
   ],
   "source": [
    "# visualize the parameter scan data\n",
    "\n",
    "mRNA = [\"N\", \"P\", \"M\", \"G\", \"L\"]\n",
    "colors = sns.color_palette(\"colorblind\", 5)\n",
    "\n",
    "for i in range(5):\n",
    "    plt.errorbar(np.array(scan) * 100, (max_means[i]/max_vir - 1) * 100, yerr = ( max_95CI[i]/max_vir) * 100, fmt=\"o\", label = mRNA[i], color = colors[i],capsize=5)\n",
    "    plt.ylim(-100,200)\n",
    "    plt.xlim(-30,30)\n",
    "    plt.xlabel(\"Percent Change in Transcription Rate Constant\", fontsize=14)\n",
    "    plt.ylabel(\"Percent Change in Virions Produced\", fontsize=14)\n",
    "    plt.grid(True, linestyle='--', alpha=0.5)\n",
    "    plt.hlines(0, xmin = -30, xmax = 30, linestyle='--', color = \"black\")\n",
    "plt.legend()\n",
    "plt.savefig(f'best_vsv_parameterscan.svg', dpi=600, bbox_inches='tight')\n",
    "plt.show()\n"
   ]
  },
  {
   "cell_type": "code",
   "execution_count": 145,
   "id": "2d590bfe",
   "metadata": {},
   "outputs": [],
   "source": [
    "# Load in the variant table data\n",
    "variant_table = pd.read_excel(\"Variant_Table.xlsx\")"
   ]
  },
  {
   "cell_type": "code",
   "execution_count": 146,
   "id": "7145e56f",
   "metadata": {},
   "outputs": [
    {
     "data": {
      "text/html": [
       "<div>\n",
       "<style scoped>\n",
       "    .dataframe tbody tr th:only-of-type {\n",
       "        vertical-align: middle;\n",
       "    }\n",
       "\n",
       "    .dataframe tbody tr th {\n",
       "        vertical-align: top;\n",
       "    }\n",
       "\n",
       "    .dataframe thead th {\n",
       "        text-align: right;\n",
       "    }\n",
       "</style>\n",
       "<table border=\"1\" class=\"dataframe\">\n",
       "  <thead>\n",
       "    <tr style=\"text-align: right;\">\n",
       "      <th></th>\n",
       "      <th>Unnamed: 0</th>\n",
       "      <th>Variant</th>\n",
       "      <th>Mean Virions Produced</th>\n",
       "      <th>Standard Deviation</th>\n",
       "      <th>Percent Aborted Infections</th>\n",
       "      <th>Mean/Standard Deviation</th>\n",
       "    </tr>\n",
       "  </thead>\n",
       "  <tbody>\n",
       "    <tr>\n",
       "      <th>0</th>\n",
       "      <td>18</td>\n",
       "      <td>NMGLP</td>\n",
       "      <td>12365.2262</td>\n",
       "      <td>11777.918360</td>\n",
       "      <td>0.16</td>\n",
       "      <td>1.049865</td>\n",
       "    </tr>\n",
       "    <tr>\n",
       "      <th>1</th>\n",
       "      <td>20</td>\n",
       "      <td>NGMLP</td>\n",
       "      <td>12355.2344</td>\n",
       "      <td>11534.642061</td>\n",
       "      <td>0.10</td>\n",
       "      <td>1.071142</td>\n",
       "    </tr>\n",
       "    <tr>\n",
       "      <th>2</th>\n",
       "      <td>19</td>\n",
       "      <td>NMLGP</td>\n",
       "      <td>10742.4638</td>\n",
       "      <td>9275.012844</td>\n",
       "      <td>0.08</td>\n",
       "      <td>1.158216</td>\n",
       "    </tr>\n",
       "    <tr>\n",
       "      <th>3</th>\n",
       "      <td>21</td>\n",
       "      <td>NLMGP</td>\n",
       "      <td>10673.8204</td>\n",
       "      <td>9092.712928</td>\n",
       "      <td>0.08</td>\n",
       "      <td>1.173887</td>\n",
       "    </tr>\n",
       "    <tr>\n",
       "      <th>4</th>\n",
       "      <td>22</td>\n",
       "      <td>NGLMP</td>\n",
       "      <td>10629.2652</td>\n",
       "      <td>8462.586475</td>\n",
       "      <td>0.06</td>\n",
       "      <td>1.256030</td>\n",
       "    </tr>\n",
       "    <tr>\n",
       "      <th>...</th>\n",
       "      <td>...</td>\n",
       "      <td>...</td>\n",
       "      <td>...</td>\n",
       "      <td>...</td>\n",
       "      <td>...</td>\n",
       "      <td>...</td>\n",
       "    </tr>\n",
       "    <tr>\n",
       "      <th>115</th>\n",
       "      <td>117</td>\n",
       "      <td>LMGPN</td>\n",
       "      <td>0.6280</td>\n",
       "      <td>1.066216</td>\n",
       "      <td>91.34</td>\n",
       "      <td>0.588999</td>\n",
       "    </tr>\n",
       "    <tr>\n",
       "      <th>116</th>\n",
       "      <td>115</td>\n",
       "      <td>MLGPN</td>\n",
       "      <td>0.6176</td>\n",
       "      <td>1.139724</td>\n",
       "      <td>91.68</td>\n",
       "      <td>0.541886</td>\n",
       "    </tr>\n",
       "    <tr>\n",
       "      <th>117</th>\n",
       "      <td>116</td>\n",
       "      <td>GMLPN</td>\n",
       "      <td>0.6144</td>\n",
       "      <td>1.024945</td>\n",
       "      <td>91.04</td>\n",
       "      <td>0.599447</td>\n",
       "    </tr>\n",
       "    <tr>\n",
       "      <th>118</th>\n",
       "      <td>118</td>\n",
       "      <td>GLMPN</td>\n",
       "      <td>0.6144</td>\n",
       "      <td>1.087434</td>\n",
       "      <td>91.38</td>\n",
       "      <td>0.565000</td>\n",
       "    </tr>\n",
       "    <tr>\n",
       "      <th>119</th>\n",
       "      <td>119</td>\n",
       "      <td>LGMPN</td>\n",
       "      <td>0.5950</td>\n",
       "      <td>1.009245</td>\n",
       "      <td>91.68</td>\n",
       "      <td>0.589550</td>\n",
       "    </tr>\n",
       "  </tbody>\n",
       "</table>\n",
       "<p>120 rows × 6 columns</p>\n",
       "</div>"
      ],
      "text/plain": [
       "     Unnamed: 0 Variant  Mean Virions Produced  Standard Deviation  \\\n",
       "0            18   NMGLP             12365.2262        11777.918360   \n",
       "1            20   NGMLP             12355.2344        11534.642061   \n",
       "2            19   NMLGP             10742.4638         9275.012844   \n",
       "3            21   NLMGP             10673.8204         9092.712928   \n",
       "4            22   NGLMP             10629.2652         8462.586475   \n",
       "..          ...     ...                    ...                 ...   \n",
       "115         117   LMGPN                 0.6280            1.066216   \n",
       "116         115   MLGPN                 0.6176            1.139724   \n",
       "117         116   GMLPN                 0.6144            1.024945   \n",
       "118         118   GLMPN                 0.6144            1.087434   \n",
       "119         119   LGMPN                 0.5950            1.009245   \n",
       "\n",
       "     Percent Aborted Infections  Mean/Standard Deviation  \n",
       "0                          0.16                 1.049865  \n",
       "1                          0.10                 1.071142  \n",
       "2                          0.08                 1.158216  \n",
       "3                          0.08                 1.173887  \n",
       "4                          0.06                 1.256030  \n",
       "..                          ...                      ...  \n",
       "115                       91.34                 0.588999  \n",
       "116                       91.68                 0.541886  \n",
       "117                       91.04                 0.599447  \n",
       "118                       91.38                 0.565000  \n",
       "119                       91.68                 0.589550  \n",
       "\n",
       "[120 rows x 6 columns]"
      ]
     },
     "execution_count": 146,
     "metadata": {},
     "output_type": "execute_result"
    }
   ],
   "source": [
    "variant_table"
   ]
  },
  {
   "cell_type": "code",
   "execution_count": null,
   "id": "552176e5",
   "metadata": {},
   "outputs": [],
   "source": [
    "mean_virs = variant_table[\"Mean Virions Produced\"]\n",
    "viability = variant_table[\"Percent Aborted Infections\"]\n",
    "\n"
   ]
  },
  {
   "cell_type": "code",
   "execution_count": 224,
   "id": "3f228803",
   "metadata": {
    "scrolled": true
   },
   "outputs": [
    {
     "name": "stderr",
     "output_type": "stream",
     "text": [
      "<ipython-input-224-5cb416739bf6>:14: UserWarning: FixedFormatter should only be used together with FixedLocator\n",
      "  ax.set_xticklabels(range(1,6), fontsize=10)\n"
     ]
    },
    {
     "data": {
      "image/png": "[encoded data removed]",
      "text/plain": [
       "<Figure size 432x288 with 1 Axes>"
      ]
     },
     "metadata": {
      "needs_background": "light"
     },
     "output_type": "display_data"
    },
    {
     "data": {
      "image/png": "[encoded data removed]",
      "text/plain": [
       "<Figure size 432x288 with 1 Axes>"
      ]
     },
     "metadata": {
      "needs_background": "light"
     },
     "output_type": "display_data"
    },
    {
     "data": {
      "image/png": "[encoded data removed]",
      "text/plain": [
       "<Figure size 432x288 with 1 Axes>"
      ]
     },
     "metadata": {
      "needs_background": "light"
     },
     "output_type": "display_data"
    },
    {
     "data": {
      "image/png": "[encoded data removed]",
      "text/plain": [
       "<Figure size 432x288 with 1 Axes>"
      ]
     },
     "metadata": {
      "needs_background": "light"
     },
     "output_type": "display_data"
    },
    {
     "data": {
      "image/png": "[encoded data removed]",
      "text/plain": [
       "<Figure size 432x288 with 1 Axes>"
      ]
     },
     "metadata": {
      "needs_background": "light"
     },
     "output_type": "display_data"
    }
   ],
   "source": [
    "# plot virion production as a function of gene position\n",
    "mRNA = [\"N\", \"P\", \"M\", \"G\", \"L\"]\n",
    "\n",
    "for i in range(5):\n",
    "    fig, ax = plt.subplots()\n",
    "    rs = [np.where(np.array(list(j)) == mRNA[i])[0][0] for j in list(variant_table[\"Variant\"])]\n",
    "    mean_vir = []\n",
    "    std_vir = []\n",
    "    for k in range(5):\n",
    "        mean_vir.append(np.mean(mean_virs[np.where(np.array(rs) == k)[0]]))\n",
    "        std_vir.append(np.std(mean_virs[np.where(np.array(rs) == k)[0]]))\n",
    "    plt.errorbar([0,1,2,3,4],mean_vir, (np.array(std_vir)/np.sqrt(24)), fmt = \"o\",capsize=5)\n",
    "    plt.scatter(rs, mean_virs, alpha=.2, color = \"orange\")\n",
    "    plt.ylim(0,14000)\n",
    "    ax.set_xticklabels(range(1,6), fontsize=10)\n",
    "    plt.xticks([0,1,2,3,4])\n",
    "    plt.grid(True, linestyle='--', alpha=0.5)\n",
    "    plt.xlabel(f\"Position of Gene {mRNA[i]} on Genome\", fontsize=14)\n",
    "    plt.ylabel(\"Average Number of Virions Produced\", fontsize=14)\n",
    "    plt.savefig(f'{mRNA[i]}_dist.svg', dpi=600, bbox_inches='tight')\n",
    "    plt.show()\n",
    "    \n"
   ]
  },
  {
   "cell_type": "code",
   "execution_count": 227,
   "id": "9349d2fd",
   "metadata": {
    "scrolled": true
   },
   "outputs": [
    {
     "name": "stderr",
     "output_type": "stream",
     "text": [
      "<ipython-input-227-7f0fdd1a55a7>:14: UserWarning: FixedFormatter should only be used together with FixedLocator\n",
      "  ax.set_xticklabels(range(1,6), fontsize=10)\n"
     ]
    },
    {
     "data": {
      "image/png": "[encoded data removed]",
      "text/plain": [
       "<Figure size 432x288 with 1 Axes>"
      ]
     },
     "metadata": {
      "needs_background": "light"
     },
     "output_type": "display_data"
    },
    {
     "data": {
      "image/png": "[encoded data removed]",
      "text/plain": [
       "<Figure size 432x288 with 1 Axes>"
      ]
     },
     "metadata": {
      "needs_background": "light"
     },
     "output_type": "display_data"
    },
    {
     "data": {
      "image/png": "[encoded data removed]",
      "text/plain": [
       "<Figure size 432x288 with 1 Axes>"
      ]
     },
     "metadata": {
      "needs_background": "light"
     },
     "output_type": "display_data"
    },
    {
     "data": {
      "image/png": "[encoded data removed]",
      "text/plain": [
       "<Figure size 432x288 with 1 Axes>"
      ]
     },
     "metadata": {
      "needs_background": "light"
     },
     "output_type": "display_data"
    },
    {
     "data": {
      "image/png": "[encoded data removed]",
      "text/plain": [
       "<Figure size 432x288 with 1 Axes>"
      ]
     },
     "metadata": {
      "needs_background": "light"
     },
     "output_type": "display_data"
    }
   ],
   "source": [
    "# plot percent of aborted infections as a function of gene position\n",
    "\n",
    "mRNA = [\"N\", \"P\", \"M\", \"G\", \"L\"]\n",
    "\n",
    "for i in range(5):\n",
    "    fig, ax = plt.subplots()\n",
    "    rs = [np.where(np.array(list(j)) == mRNA[i])[0][0] for j in list(variant_table[\"Variant\"])]\n",
    "    mean_via = []\n",
    "    std_via = []\n",
    "    for k in range(5):\n",
    "        mean_via.append(np.mean(viability[np.where(np.array(rs) == k)[0]]))\n",
    "        std_via.append(np.std(viability[np.where(np.array(rs) == k)[0]]))\n",
    "    plt.errorbar([0,1,2,3,4],mean_via, (np.array(std_via)/np.sqrt(24)), fmt = \"o\",capsize=5)\n",
    "    plt.scatter(rs, viability, alpha=.2, color = \"orange\")\n",
    "    plt.ylim(0,100)\n",
    "    ax.set_xticklabels(range(1,6), fontsize=10)\n",
    "    plt.xticks([0,1,2,3,4])\n",
    "    plt.grid(True, linestyle='--', alpha=0.5)\n",
    "    plt.xlabel(f\"Position of Gene {mRNA[i]} on Genome\", fontsize=14)\n",
    "    plt.ylabel(\"Percent of Infections Aborted\", fontsize=14)\n",
    "    plt.savefig(f'{mRNA[i]}_via.svg', dpi=600, bbox_inches='tight')\n",
    "    plt.show()\n",
    "    \n"
   ]
  }
 ],
 "metadata": {
  "kernelspec": {
   "display_name": "Python 3",
   "language": "python",
   "name": "python3"
  },
  "language_info": {
   "codemirror_mode": {
    "name": "ipython",
    "version": 3
   },
   "file_extension": ".py",
   "mimetype": "text/x-python",
   "name": "python",
   "nbconvert_exporter": "python",
   "pygments_lexer": "ipython3",
   "version": "3.8.8"
  }
 },
 "nbformat": 4,
 "nbformat_minor": 5
}
