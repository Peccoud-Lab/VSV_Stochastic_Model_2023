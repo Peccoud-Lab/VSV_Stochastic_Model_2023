{
 "cells": [
  {
   "cell_type": "code",
   "execution_count": 1,
   "id": "731cfb9b",
   "metadata": {},
   "outputs": [],
   "source": [
    "import pandas as pd #'version 1.2.4'\n",
    "import numpy as np #'version 1.21.0'\n",
    "from basico import * #'version 0.36'\n",
    "from scipy.optimize import minimize #'version 1.10.0'\n",
    "import random\n",
    "import matplotlib.pyplot as plt #'version 3.3.4'\n",
    "import os \n",
    "\n",
    "path = !pwd\n",
    "path = path[0]\n"
   ]
  },
  {
   "cell_type": "code",
   "execution_count": 2,
   "id": "7f4c7350",
   "metadata": {},
   "outputs": [],
   "source": [
    "groups = 500\n",
    "par_cores = 525"
   ]
  },
  {
   "cell_type": "code",
   "execution_count": 3,
   "id": "4b1624cf",
   "metadata": {},
   "outputs": [
    {
     "name": "stdout",
     "output_type": "stream",
     "text": [
      "Starting 525 engines with <class 'ipyparallel.cluster.launcher.LocalEngineSetLauncher'>\n"
     ]
    },
    {
     "data": {
      "application/vnd.jupyter.widget-view+json": {
       "model_id": "6ac88cea6782410baca0e7a2aebfeb61",
       "version_major": 2,
       "version_minor": 0
      },
      "text/plain": [
       " 92%|#########1| 482/525 [00:00<?, ?engine/s]"
      ]
     },
     "metadata": {},
     "output_type": "display_data"
    }
   ],
   "source": [
    "# define the number of cores to be used\n",
    "# this code is commented because to prevent overloading and crashing computers. This code was run using AWS cloud computing.\n",
    "\n",
    "# import ipyparallel as ipp # version 8.4.1\n",
    "# cluster = ipp.Cluster(n=par_cores)\n",
    "# cluster.start_cluster_sync()\n",
    "# rc = cluster.connect_client_sync()\n",
    "# rc.wait_for_engines(par_cores)\n",
    "# dview = rc[0:par_cores]"
   ]
  },
  {
   "cell_type": "code",
   "execution_count": 4,
   "id": "c7318e3e",
   "metadata": {},
   "outputs": [],
   "source": [
    "# define the path for the models and the variant names then combine them\n",
    "mod_path =path + \"/Models/\"\n",
    "files =  [\"NMGPL_Model_v3.xml\", \"NPMGL_Model_v3.xml\", \"NMPGL_Model_v3.xml\", \"NGPML_Model_v3.xml\", \"NGMPL_Model_v3.xml\"] # ,\"NMPGL_Model.xml\", \"NGMPL_Model.xml\", \"NGPML_Model.xml\"]\n",
    "models = [mod_path + m for m in files]"
   ]
  },
  {
   "cell_type": "code",
   "execution_count": 6,
   "id": "ca979673",
   "metadata": {},
   "outputs": [],
   "source": [
    "# define the parameters that will be fit independently. These are the binding rates\n",
    "pars_to_fit = [ \"Virion_Budding\", \"Virion_Assembly\", \"transcriptional_silencing\",  \"negative_strand_l_binding\", \"negative_strand_p_binding\", \"negative_strand_encapsidation\", \"positive_strand_encapsidation\"]"
   ]
  },
  {
   "cell_type": "code",
   "execution_count": 5,
   "id": "e1c78432",
   "metadata": {},
   "outputs": [],
   "source": [
    "# load one of the models in and separate reactions based on whether they are transcription reactions\n",
    "# Genome synthesis reactions, or degradation reactions. \n",
    "# degredation reactions are split on whether they are genome, protein, or mRNA degradation reactions\n",
    "mod = load_model(models[0])\n",
    "set_current_model(mod)\n",
    "reactions  = np.array(get_reaction_parameters()[\"reaction\"])\n",
    "transcription_reactions = reactions[[\"transcription_\" in react for react in reactions]]\n",
    "replication_reactions = reactions[[\"synthesis_\" in react for react in reactions]]\n",
    "deg_rs = reactions[[\"degradation\" in react for react in reactions]]\n",
    "genome_deg_rs = deg_rs[[\"sg\" in react for react in deg_rs]]\n",
    "deg_rs = deg_rs[((np.array([\"sg\" in react for react in deg_rs])-1) *-1) == 1]\n",
    "mRNA_deg_rs = deg_rs[[\"m\" in react for react in deg_rs]]\n",
    "deg_rs = deg_rs[((np.array([\"m\" in react for react in deg_rs])-1) *-1) == 1]\n",
    "prot_deg_rs = deg_rs"
   ]
  },
  {
   "cell_type": "code",
   "execution_count": 7,
   "id": "17e88459",
   "metadata": {},
   "outputs": [
    {
     "name": "stdout",
     "output_type": "stream",
     "text": [
      "/home/ubuntu/Paper_time/Fit_Parameter_Variants_SSA/Models/NMGPL_Model_v3.xml\n",
      "/home/ubuntu/Paper_time/Fit_Parameter_Variants_SSA/Models/NPMGL_Model_v3.xml\n",
      "/home/ubuntu/Paper_time/Fit_Parameter_Variants_SSA/Models/NMPGL_Model_v3.xml\n",
      "/home/ubuntu/Paper_time/Fit_Parameter_Variants_SSA/Models/NGPML_Model_v3.xml\n",
      "/home/ubuntu/Paper_time/Fit_Parameter_Variants_SSA/Models/NGMPL_Model_v3.xml\n"
     ]
    }
   ],
   "source": [
    "# load in models\n",
    "models_loaded = []\n",
    "for tmod in models:\n",
    "    print(tmod)\n",
    "    mod = basico.load_model(tmod)\n",
    "    models_loaded.append(mod) # load base model in"
   ]
  },
  {
   "cell_type": "code",
   "execution_count": 8,
   "id": "e25a480c",
   "metadata": {},
   "outputs": [],
   "source": [
    "# record the current values of the reactions that will be adjusted as a unit\n",
    "# this is important because we will be updating the model reaction rates iteratively\n",
    "# this would be problematic with how we are adjusting the reaction rates.\n",
    "rep_rates = []\n",
    "tran_rates = []\n",
    "genome_deg_rates = []\n",
    "mRNA_deg_rates = []\n",
    "prot_deg_rates = []\n",
    "for i, model in enumerate(models_loaded):\n",
    "    basico.set_current_model(model)\n",
    "    ks = np.array(get_reaction_parameters()[\"value\"])\n",
    "    tr = ks[[react in transcription_reactions for react in reactions]]\n",
    "    rr = ks[[react in replication_reactions for react in reactions]]\n",
    "    gdr = ks[[react in genome_deg_rs for react in reactions]]\n",
    "    mdr = ks[[react in mRNA_deg_rs for react in reactions]]\n",
    "    pdr = ks[[react in prot_deg_rs for react in reactions]]\n",
    "    \n",
    "    \n",
    "    \n",
    "    tran_rates.append( tr )\n",
    "    rep_rates.append( rr)\n",
    "    genome_deg_rates.append( gdr )\n",
    "    mRNA_deg_rates.append( mdr)\n",
    "    prot_deg_rates.append( pdr )\n",
    "    "
   ]
  },
  {
   "cell_type": "code",
   "execution_count": 9,
   "id": "d7f93c74",
   "metadata": {},
   "outputs": [],
   "source": [
    "data = np.array([4347, 2087, 2348, 1304, 3957]) # observed mean virions produced by variants seen in literature"
   ]
  },
  {
   "cell_type": "code",
   "execution_count": 36,
   "id": "ff8ad824",
   "metadata": {},
   "outputs": [],
   "source": [
    "# function that will be parallelized to simulate the model. \n",
    "# Runs 10 simulations and returns the number of viruses produced by them\n",
    "\n",
    "def sim_data(model):\n",
    "    import basico\n",
    "    mod = basico.load_model(model)\n",
    "    basico.set_current_model(mod)\n",
    "    basico.set_model_unit(quantity_unit= \"#\")\n",
    "    res = []\n",
    "    for j in range(10):\n",
    "        tc = basico.run_time_course(duration=57000, start_time=0, stepsize=1000, method=\"DirectMethod\")\n",
    "        res.append(tc[\"V\"].loc[57000])\n",
    "    basico.remove_datamodel(mod)\n",
    "    return res"
   ]
  },
  {
   "cell_type": "code",
   "execution_count": 37,
   "id": "e14d964e",
   "metadata": {},
   "outputs": [],
   "source": [
    "# make one list of all the reaction names\n",
    "reactions = list(genome_deg_rs) + list(mRNA_deg_rs) + list(prot_deg_rs) + list(replication_reactions) + list(transcription_reactions) + pars_to_fit\n"
   ]
  },
  {
   "cell_type": "code",
   "execution_count": 38,
   "id": "144b1c50",
   "metadata": {},
   "outputs": [],
   "source": [
    "# define temporary file names that will be made and then opened by the parallelized simulation function\n",
    "model_temp = []\n",
    "for i in range(5):\n",
    "    model_temp.append(models[i].split(\".\")[0]+\"_temp.xml\")\n"
   ]
  },
  {
   "cell_type": "code",
   "execution_count": 39,
   "id": "5de98586",
   "metadata": {},
   "outputs": [],
   "source": [
    "# import the time package and set the varialbe track to zero. This will be used to track how many evaluations have passed.\n",
    "import time\n",
    "track = 0\n",
    "\n",
    "# define the objective function\n",
    "def obj_func(x):\n",
    "    preds = np.zeros(len(models_loaded))\n",
    "    # iterate through the models\n",
    "    for i, model in enumerate(models_loaded):\n",
    "        name = models[i].split(\"/\")[-1]\n",
    "        print(f\"Simulating Model {name}\")\n",
    "        basico.set_current_model(model)\n",
    "        # adjust the reaction rates that will be asjusted as a unit\n",
    "        tr = tran_rates[i]/x[0]\n",
    "        rr = rep_rates[i]/x[1]\n",
    "        gdr = genome_deg_rates[i]/x[2]\n",
    "        mdr = mRNA_deg_rates[i]/x[3]\n",
    "        pdr = prot_deg_rates[i]/x[4]\n",
    "        # make the full list of reaction names and full list of new parameters\n",
    "        params = list(gdr) + list(mdr) + list(pdr) + list(rr) + list(tr) + list(x[5:])\n",
    "        # now change the reaction rates\n",
    "        for m, param_name in enumerate(reactions):\n",
    "            basico.set_reaction(param_name, mapping={\"k1\": params[m]})\n",
    "        # save the temporary model\n",
    "        save_model(model_temp[i])\n",
    "        # simulate the model. If an error occurs set the prediction value to infinity\n",
    "        try:\n",
    "            # this objective function parallelizes the simulations\n",
    "            tc = []\n",
    "            ar_map = dview.map_async(sim_data, [model_temp[i]] * groups)\n",
    "            ar_map.wait_interactive()\n",
    "            res = ar_map.get()\n",
    "            tc += res\n",
    "            preds[i] = np.mean(tc)\n",
    "        except:\n",
    "            preds[i] = np.inf\n",
    "        finally:\n",
    "            os.remove(model_temp[i])\n",
    "    # calculate and return MSE\n",
    "    test = np.mean((preds - data)**2)\n",
    "    global track\n",
    "    global start\n",
    "    track += 1\n",
    "    # these are for the sake of being able to track the optimization and see how long it is taking\n",
    "    print(\"------------------------------------------------------------------\")\n",
    "    print()\n",
    "    print(f\"evaluation:{track}\")\n",
    "    print(f\"Time Since Starting (s):{time.time() - start}\")\n",
    "    print(f\"predictions: {preds}\")\n",
    "    print(f\"test statistic: {test}\")\n",
    "    print()\n",
    "    print(\"------------------------------------------------------------------\")\n",
    "    del m, preds, tc\n",
    "    return test\n",
    "\n"
   ]
  },
  {
   "cell_type": "code",
   "execution_count": 15,
   "id": "1d3d8668",
   "metadata": {},
   "outputs": [],
   "source": [
    "# load in and parsearbitrary starting point\n",
    "start_guess = pd.read_csv(\"vsv_fits_v1_2023_06_06.csv\")\n",
    "start_guess = start_guess[start_guess[\"obj function output\"] == np.min(start_guess[\"obj function output\"])]\n",
    "start_guess = list(start_guess[\"parameter values\"])[0].replace(\"[\", \"\").replace(\"]\", \"\").replace(\"\\n\", \"\").split(\" \")\n",
    "start_guess = [float(x) for x in start_guess]\n",
    "start_guess = [1] * 5 + start_guess[5:]"
   ]
  },
  {
   "cell_type": "code",
   "execution_count": 19,
   "id": "079f7c6f",
   "metadata": {
    "scrolled": true
   },
   "outputs": [
    {
     "name": "stdout",
     "output_type": "stream",
     "text": [
      "Simulating Model NMGPL_Model_v3.xml\n"
     ]
    },
    {
     "data": {
      "application/vnd.jupyter.widget-view+json": {
       "model_id": "8ebe2bd4962d4a75b381f3be7b24fa91",
       "version_major": 2,
       "version_minor": 0
      },
      "text/plain": [
       "sim_data:   0%|          | 0/500 [00:00<?, ?tasks/s]"
      ]
     },
     "metadata": {},
     "output_type": "display_data"
    },
    {
     "name": "stdout",
     "output_type": "stream",
     "text": [
      "Simulating Model NPMGL_Model_v3.xml\n"
     ]
    },
    {
     "data": {
      "application/vnd.jupyter.widget-view+json": {
       "model_id": "dff7ca55e1804fd983a271589612cfb1",
       "version_major": 2,
       "version_minor": 0
      },
      "text/plain": [
       "sim_data:   0%|          | 0/500 [00:00<?, ?tasks/s]"
      ]
     },
     "metadata": {},
     "output_type": "display_data"
    },
    {
     "name": "stdout",
     "output_type": "stream",
     "text": [
      "Simulating Model NMPGL_Model_v3.xml\n"
     ]
    },
    {
     "data": {
      "application/vnd.jupyter.widget-view+json": {
       "model_id": "18748f375fbd4a3bb0f87140e010dfc1",
       "version_major": 2,
       "version_minor": 0
      },
      "text/plain": [
       "sim_data:   0%|          | 0/500 [00:00<?, ?tasks/s]"
      ]
     },
     "metadata": {},
     "output_type": "display_data"
    },
    {
     "name": "stdout",
     "output_type": "stream",
     "text": [
      "Simulating Model NGPML_Model_v3.xml\n"
     ]
    },
    {
     "data": {
      "application/vnd.jupyter.widget-view+json": {
       "model_id": "30b652b53e1a49efb19a03dc12c754b3",
       "version_major": 2,
       "version_minor": 0
      },
      "text/plain": [
       "sim_data:   0%|          | 0/500 [00:00<?, ?tasks/s]"
      ]
     },
     "metadata": {},
     "output_type": "display_data"
    },
    {
     "name": "stdout",
     "output_type": "stream",
     "text": [
      "Simulating Model NGMPL_Model_v3.xml\n"
     ]
    },
    {
     "data": {
      "application/vnd.jupyter.widget-view+json": {
       "model_id": "5f511cc26f684c9b9b125d1c89adebb7",
       "version_major": 2,
       "version_minor": 0
      },
      "text/plain": [
       "sim_data:   0%|          | 0/500 [00:00<?, ?tasks/s]"
      ]
     },
     "metadata": {},
     "output_type": "display_data"
    },
    {
     "name": "stdout",
     "output_type": "stream",
     "text": [
      "------------------------------------------------------------------\n",
      "\n",
      "evaluation:1\n",
      "Time Since Starting (s):62.721394062042236\n",
      "predictions: [4049.3948 1767.4798 2436.6046 1245.8496 3751.011 ]\n",
      "test statistic: 48865.14511148\n",
      "\n",
      "------------------------------------------------------------------\n",
      "Simulating Model NMGPL_Model_v3.xml\n"
     ]
    },
    {
     "data": {
      "application/vnd.jupyter.widget-view+json": {
       "model_id": "c738177b1a7842aeb7b8c868a4bf7814",
       "version_major": 2,
       "version_minor": 0
      },
      "text/plain": [
       "sim_data:   0%|          | 0/500 [00:00<?, ?tasks/s]"
      ]
     },
     "metadata": {},
     "output_type": "display_data"
    },
    {
     "name": "stdout",
     "output_type": "stream",
     "text": [
      "Simulating Model NPMGL_Model_v3.xml\n"
     ]
    },
    {
     "data": {
      "application/vnd.jupyter.widget-view+json": {
       "model_id": "5ef67056999c45e28cdc623d1320d0b0",
       "version_major": 2,
       "version_minor": 0
      },
      "text/plain": [
       "sim_data:   0%|          | 0/500 [00:00<?, ?tasks/s]"
      ]
     },
     "metadata": {},
     "output_type": "display_data"
    },
    {
     "name": "stdout",
     "output_type": "stream",
     "text": [
      "Simulating Model NMPGL_Model_v3.xml\n"
     ]
    },
    {
     "data": {
      "application/vnd.jupyter.widget-view+json": {
       "model_id": "aba74c6ae2a148d6a46105051e4852a1",
       "version_major": 2,
       "version_minor": 0
      },
      "text/plain": [
       "sim_data:   0%|          | 0/500 [00:00<?, ?tasks/s]"
      ]
     },
     "metadata": {},
     "output_type": "display_data"
    },
    {
     "name": "stdout",
     "output_type": "stream",
     "text": [
      "Simulating Model NGPML_Model_v3.xml\n"
     ]
    },
    {
     "data": {
      "application/vnd.jupyter.widget-view+json": {
       "model_id": "188c5cde6ca04923b09816501588b699",
       "version_major": 2,
       "version_minor": 0
      },
      "text/plain": [
       "sim_data:   0%|          | 0/500 [00:00<?, ?tasks/s]"
      ]
     },
     "metadata": {},
     "output_type": "display_data"
    },
    {
     "name": "stdout",
     "output_type": "stream",
     "text": [
      "Simulating Model NGMPL_Model_v3.xml\n"
     ]
    },
    {
     "data": {
      "application/vnd.jupyter.widget-view+json": {
       "model_id": "6b112449aedf41da90f876a8a792d45d",
       "version_major": 2,
       "version_minor": 0
      },
      "text/plain": [
       "sim_data:   0%|          | 0/500 [00:00<?, ?tasks/s]"
      ]
     },
     "metadata": {},
     "output_type": "display_data"
    },
    {
     "name": "stdout",
     "output_type": "stream",
     "text": [
      "------------------------------------------------------------------\n",
      "\n",
      "evaluation:2\n",
      "Time Since Starting (s):105.93915152549744\n",
      "predictions: [3425.543  1494.2788 2038.0614 1088.8432 3134.2638]\n",
      "test statistic: 403930.1325850159\n",
      "\n",
      "------------------------------------------------------------------\n",
      "Simulating Model NMGPL_Model_v3.xml\n"
     ]
    },
    {
     "data": {
      "application/vnd.jupyter.widget-view+json": {
       "model_id": "1ee8b07b059f4082ba8908d13818262f",
       "version_major": 2,
       "version_minor": 0
      },
      "text/plain": [
       "sim_data:   0%|          | 0/500 [00:00<?, ?tasks/s]"
      ]
     },
     "metadata": {},
     "output_type": "display_data"
    },
    {
     "name": "stdout",
     "output_type": "stream",
     "text": [
      "Simulating Model NPMGL_Model_v3.xml\n"
     ]
    },
    {
     "data": {
      "application/vnd.jupyter.widget-view+json": {
       "model_id": "7136bb23fbb34c8c8f3655e1f3638687",
       "version_major": 2,
       "version_minor": 0
      },
      "text/plain": [
       "sim_data:   0%|          | 0/500 [00:00<?, ?tasks/s]"
      ]
     },
     "metadata": {},
     "output_type": "display_data"
    },
    {
     "name": "stdout",
     "output_type": "stream",
     "text": [
      "Simulating Model NMPGL_Model_v3.xml\n"
     ]
    },
    {
     "data": {
      "application/vnd.jupyter.widget-view+json": {
       "model_id": "5a8af065b4da44409c56e069abd1e928",
       "version_major": 2,
       "version_minor": 0
      },
      "text/plain": [
       "sim_data:   0%|          | 0/500 [00:00<?, ?tasks/s]"
      ]
     },
     "metadata": {},
     "output_type": "display_data"
    },
    {
     "name": "stdout",
     "output_type": "stream",
     "text": [
      "Simulating Model NGPML_Model_v3.xml\n"
     ]
    },
    {
     "data": {
      "application/vnd.jupyter.widget-view+json": {
       "model_id": "f719cc9a994240f28458510af54a971f",
       "version_major": 2,
       "version_minor": 0
      },
      "text/plain": [
       "sim_data:   0%|          | 0/500 [00:00<?, ?tasks/s]"
      ]
     },
     "metadata": {},
     "output_type": "display_data"
    },
    {
     "name": "stdout",
     "output_type": "stream",
     "text": [
      "Simulating Model NGMPL_Model_v3.xml\n"
     ]
    },
    {
     "data": {
      "application/vnd.jupyter.widget-view+json": {
       "model_id": "346890e435ea4786a9f1b61bbe3e481a",
       "version_major": 2,
       "version_minor": 0
      },
      "text/plain": [
       "sim_data:   0%|          | 0/500 [00:00<?, ?tasks/s]"
      ]
     },
     "metadata": {},
     "output_type": "display_data"
    },
    {
     "name": "stdout",
     "output_type": "stream",
     "text": [
      "------------------------------------------------------------------\n",
      "\n",
      "evaluation:3\n",
      "Time Since Starting (s):153.0857207775116\n",
      "predictions: [4007.041  1743.2732 2376.984  1241.5848 3705.7622]\n",
      "test statistic: 60315.27926302395\n",
      "\n",
      "------------------------------------------------------------------\n",
      "Simulating Model NMGPL_Model_v3.xml\n"
     ]
    },
    {
     "data": {
      "application/vnd.jupyter.widget-view+json": {
       "model_id": "e8edb8ccfe214419ad8a615975e56be0",
       "version_major": 2,
       "version_minor": 0
      },
      "text/plain": [
       "sim_data:   0%|          | 0/500 [00:00<?, ?tasks/s]"
      ]
     },
     "metadata": {},
     "output_type": "display_data"
    },
    {
     "name": "stdout",
     "output_type": "stream",
     "text": [
      "Simulating Model NPMGL_Model_v3.xml\n"
     ]
    },
    {
     "data": {
      "application/vnd.jupyter.widget-view+json": {
       "model_id": "5bf63559063543c38eb8d548f74266ed",
       "version_major": 2,
       "version_minor": 0
      },
      "text/plain": [
       "sim_data:   0%|          | 0/500 [00:00<?, ?tasks/s]"
      ]
     },
     "metadata": {},
     "output_type": "display_data"
    },
    {
     "name": "stdout",
     "output_type": "stream",
     "text": [
      "Simulating Model NMPGL_Model_v3.xml\n"
     ]
    },
    {
     "data": {
      "application/vnd.jupyter.widget-view+json": {
       "model_id": "2873ea02648d4776af6bd3059b70e726",
       "version_major": 2,
       "version_minor": 0
      },
      "text/plain": [
       "sim_data:   0%|          | 0/500 [00:00<?, ?tasks/s]"
      ]
     },
     "metadata": {},
     "output_type": "display_data"
    },
    {
     "name": "stdout",
     "output_type": "stream",
     "text": [
      "Simulating Model NGPML_Model_v3.xml\n"
     ]
    },
    {
     "data": {
      "application/vnd.jupyter.widget-view+json": {
       "model_id": "a866e566511e4396bedbe76298b86000",
       "version_major": 2,
       "version_minor": 0
      },
      "text/plain": [
       "sim_data:   0%|          | 0/500 [00:00<?, ?tasks/s]"
      ]
     },
     "metadata": {},
     "output_type": "display_data"
    },
    {
     "name": "stdout",
     "output_type": "stream",
     "text": [
      "Simulating Model NGMPL_Model_v3.xml\n"
     ]
    },
    {
     "data": {
      "application/vnd.jupyter.widget-view+json": {
       "model_id": "c22ea9f332894b49987321116bb373e0",
       "version_major": 2,
       "version_minor": 0
      },
      "text/plain": [
       "sim_data:   0%|          | 0/500 [00:00<?, ?tasks/s]"
      ]
     },
     "metadata": {},
     "output_type": "display_data"
    },
    {
     "name": "stdout",
     "output_type": "stream",
     "text": [
      "------------------------------------------------------------------\n",
      "\n",
      "evaluation:4\n",
      "Time Since Starting (s):200.65999484062195\n",
      "predictions: [4089.2986 1785.4946 2399.5412 1231.454  3747.2952]\n",
      "test statistic: 41842.207669519994\n",
      "\n",
      "------------------------------------------------------------------\n",
      "Simulating Model NMGPL_Model_v3.xml\n"
     ]
    },
    {
     "data": {
      "application/vnd.jupyter.widget-view+json": {
       "model_id": "c67e7854ccc74bd38ac9728d235ede65",
       "version_major": 2,
       "version_minor": 0
      },
      "text/plain": [
       "sim_data:   0%|          | 0/500 [00:00<?, ?tasks/s]"
      ]
     },
     "metadata": {},
     "output_type": "display_data"
    },
    {
     "name": "stdout",
     "output_type": "stream",
     "text": [
      "Simulating Model NPMGL_Model_v3.xml\n"
     ]
    },
    {
     "data": {
      "application/vnd.jupyter.widget-view+json": {
       "model_id": "ae3057ae57c1468f84ac5b9bda8ff7f6",
       "version_major": 2,
       "version_minor": 0
      },
      "text/plain": [
       "sim_data:   0%|          | 0/500 [00:00<?, ?tasks/s]"
      ]
     },
     "metadata": {},
     "output_type": "display_data"
    },
    {
     "name": "stdout",
     "output_type": "stream",
     "text": [
      "Simulating Model NMPGL_Model_v3.xml\n"
     ]
    },
    {
     "data": {
      "application/vnd.jupyter.widget-view+json": {
       "model_id": "e8df2ed6c9c444ba9a370b0703ef4933",
       "version_major": 2,
       "version_minor": 0
      },
      "text/plain": [
       "sim_data:   0%|          | 0/500 [00:00<?, ?tasks/s]"
      ]
     },
     "metadata": {},
     "output_type": "display_data"
    },
    {
     "name": "stdout",
     "output_type": "stream",
     "text": [
      "Simulating Model NGPML_Model_v3.xml\n"
     ]
    },
    {
     "data": {
      "application/vnd.jupyter.widget-view+json": {
       "model_id": "e315f9cfb6d341b4bef71bdb03b9edfe",
       "version_major": 2,
       "version_minor": 0
      },
      "text/plain": [
       "sim_data:   0%|          | 0/500 [00:00<?, ?tasks/s]"
      ]
     },
     "metadata": {},
     "output_type": "display_data"
    },
    {
     "name": "stdout",
     "output_type": "stream",
     "text": [
      "Simulating Model NGMPL_Model_v3.xml\n"
     ]
    },
    {
     "data": {
      "application/vnd.jupyter.widget-view+json": {
       "model_id": "7e1d821858c04e549b3ff0e68ff35ded",
       "version_major": 2,
       "version_minor": 0
      },
      "text/plain": [
       "sim_data:   0%|          | 0/500 [00:00<?, ?tasks/s]"
      ]
     },
     "metadata": {},
     "output_type": "display_data"
    },
    {
     "name": "stdout",
     "output_type": "stream",
     "text": [
      "------------------------------------------------------------------\n",
      "\n",
      "evaluation:5\n",
      "Time Since Starting (s):250.3934268951416\n",
      "predictions: [4246.721  1927.6998 2565.3616 1340.3786 4000.4792]\n",
      "test statistic: 17178.468017240033\n",
      "\n",
      "------------------------------------------------------------------\n",
      "Simulating Model NMGPL_Model_v3.xml\n"
     ]
    },
    {
     "data": {
      "application/vnd.jupyter.widget-view+json": {
       "model_id": "c653246fb82f4ca8b7e4ed4da6e0ee25",
       "version_major": 2,
       "version_minor": 0
      },
      "text/plain": [
       "sim_data:   0%|          | 0/500 [00:00<?, ?tasks/s]"
      ]
     },
     "metadata": {},
     "output_type": "display_data"
    },
    {
     "name": "stdout",
     "output_type": "stream",
     "text": [
      "Simulating Model NPMGL_Model_v3.xml\n"
     ]
    },
    {
     "data": {
      "application/vnd.jupyter.widget-view+json": {
       "model_id": "50f79aceca344e60bd5d5f15b3cd2b07",
       "version_major": 2,
       "version_minor": 0
      },
      "text/plain": [
       "sim_data:   0%|          | 0/500 [00:00<?, ?tasks/s]"
      ]
     },
     "metadata": {},
     "output_type": "display_data"
    },
    {
     "name": "stdout",
     "output_type": "stream",
     "text": [
      "Simulating Model NMPGL_Model_v3.xml\n"
     ]
    },
    {
     "data": {
      "application/vnd.jupyter.widget-view+json": {
       "model_id": "0a8c06738c854c1f89cacd231aa01f2f",
       "version_major": 2,
       "version_minor": 0
      },
      "text/plain": [
       "sim_data:   0%|          | 0/500 [00:00<?, ?tasks/s]"
      ]
     },
     "metadata": {},
     "output_type": "display_data"
    },
    {
     "name": "stdout",
     "output_type": "stream",
     "text": [
      "Simulating Model NGPML_Model_v3.xml\n"
     ]
    },
    {
     "data": {
      "application/vnd.jupyter.widget-view+json": {
       "model_id": "f8e7600d0b374b84bd2211c01731d56c",
       "version_major": 2,
       "version_minor": 0
      },
      "text/plain": [
       "sim_data:   0%|          | 0/500 [00:00<?, ?tasks/s]"
      ]
     },
     "metadata": {},
     "output_type": "display_data"
    },
    {
     "name": "stdout",
     "output_type": "stream",
     "text": [
      "Simulating Model NGMPL_Model_v3.xml\n"
     ]
    },
    {
     "data": {
      "application/vnd.jupyter.widget-view+json": {
       "model_id": "de32be4d7b404a5ea317870e0145eba1",
       "version_major": 2,
       "version_minor": 0
      },
      "text/plain": [
       "sim_data:   0%|          | 0/500 [00:00<?, ?tasks/s]"
      ]
     },
     "metadata": {},
     "output_type": "display_data"
    },
    {
     "name": "stdout",
     "output_type": "stream",
     "text": [
      "------------------------------------------------------------------\n",
      "\n",
      "evaluation:6\n",
      "Time Since Starting (s):298.79514598846436\n",
      "predictions: [4131.1564 1779.6094 2393.7686 1235.5914 3728.9066]\n",
      "test statistic: 39975.70821056002\n",
      "\n",
      "------------------------------------------------------------------\n",
      "Simulating Model NMGPL_Model_v3.xml\n"
     ]
    },
    {
     "data": {
      "application/vnd.jupyter.widget-view+json": {
       "model_id": "3c9c960afa9c416e896f5c66ba7ee2f3",
       "version_major": 2,
       "version_minor": 0
      },
      "text/plain": [
       "sim_data:   0%|          | 0/500 [00:00<?, ?tasks/s]"
      ]
     },
     "metadata": {},
     "output_type": "display_data"
    },
    {
     "name": "stdout",
     "output_type": "stream",
     "text": [
      "Simulating Model NPMGL_Model_v3.xml\n"
     ]
    },
    {
     "data": {
      "application/vnd.jupyter.widget-view+json": {
       "model_id": "10ef631d84754cd887569b62216cb698",
       "version_major": 2,
       "version_minor": 0
      },
      "text/plain": [
       "sim_data:   0%|          | 0/500 [00:00<?, ?tasks/s]"
      ]
     },
     "metadata": {},
     "output_type": "display_data"
    },
    {
     "name": "stdout",
     "output_type": "stream",
     "text": [
      "Simulating Model NMPGL_Model_v3.xml\n"
     ]
    },
    {
     "data": {
      "application/vnd.jupyter.widget-view+json": {
       "model_id": "b568d60711cf4f4094bccc0ec1cc6784",
       "version_major": 2,
       "version_minor": 0
      },
      "text/plain": [
       "sim_data:   0%|          | 0/500 [00:00<?, ?tasks/s]"
      ]
     },
     "metadata": {},
     "output_type": "display_data"
    },
    {
     "name": "stdout",
     "output_type": "stream",
     "text": [
      "Simulating Model NGPML_Model_v3.xml\n"
     ]
    },
    {
     "data": {
      "application/vnd.jupyter.widget-view+json": {
       "model_id": "68b16daca25b436c9bbb5afa32fc1c16",
       "version_major": 2,
       "version_minor": 0
      },
      "text/plain": [
       "sim_data:   0%|          | 0/500 [00:00<?, ?tasks/s]"
      ]
     },
     "metadata": {},
     "output_type": "display_data"
    },
    {
     "name": "stdout",
     "output_type": "stream",
     "text": [
      "Simulating Model NGMPL_Model_v3.xml\n"
     ]
    },
    {
     "data": {
      "application/vnd.jupyter.widget-view+json": {
       "model_id": "d0dbc97ce9b141149985e263cc8829af",
       "version_major": 2,
       "version_minor": 0
      },
      "text/plain": [
       "sim_data:   0%|          | 0/500 [00:00<?, ?tasks/s]"
      ]
     },
     "metadata": {},
     "output_type": "display_data"
    },
    {
     "name": "stdout",
     "output_type": "stream",
     "text": [
      "------------------------------------------------------------------\n",
      "\n",
      "evaluation:7\n",
      "Time Since Starting (s):346.1885185241699\n",
      "predictions: [4131.0328 1795.9878 2372.88   1255.075  3712.2184]\n",
      "test statistic: 38852.12674964797\n",
      "\n",
      "------------------------------------------------------------------\n",
      "Simulating Model NMGPL_Model_v3.xml\n"
     ]
    },
    {
     "data": {
      "application/vnd.jupyter.widget-view+json": {
       "model_id": "e6999642f7254ea4ad7cbb2226f74b4b",
       "version_major": 2,
       "version_minor": 0
      },
      "text/plain": [
       "sim_data:   0%|          | 0/500 [00:00<?, ?tasks/s]"
      ]
     },
     "metadata": {},
     "output_type": "display_data"
    },
    {
     "name": "stdout",
     "output_type": "stream",
     "text": [
      "Simulating Model NPMGL_Model_v3.xml\n"
     ]
    },
    {
     "data": {
      "application/vnd.jupyter.widget-view+json": {
       "model_id": "3525c5c7f834486796cd92ba347583ea",
       "version_major": 2,
       "version_minor": 0
      },
      "text/plain": [
       "sim_data:   0%|          | 0/500 [00:00<?, ?tasks/s]"
      ]
     },
     "metadata": {},
     "output_type": "display_data"
    },
    {
     "name": "stdout",
     "output_type": "stream",
     "text": [
      "Simulating Model NMPGL_Model_v3.xml\n"
     ]
    },
    {
     "data": {
      "application/vnd.jupyter.widget-view+json": {
       "model_id": "3cd1e1befee1410aa4432278a53d2c85",
       "version_major": 2,
       "version_minor": 0
      },
      "text/plain": [
       "sim_data:   0%|          | 0/500 [00:00<?, ?tasks/s]"
      ]
     },
     "metadata": {},
     "output_type": "display_data"
    },
    {
     "name": "stdout",
     "output_type": "stream",
     "text": [
      "Simulating Model NGPML_Model_v3.xml\n"
     ]
    },
    {
     "data": {
      "application/vnd.jupyter.widget-view+json": {
       "model_id": "8abb874574e3406781cbf68f46094732",
       "version_major": 2,
       "version_minor": 0
      },
      "text/plain": [
       "sim_data:   0%|          | 0/500 [00:00<?, ?tasks/s]"
      ]
     },
     "metadata": {},
     "output_type": "display_data"
    },
    {
     "name": "stdout",
     "output_type": "stream",
     "text": [
      "Simulating Model NGMPL_Model_v3.xml\n"
     ]
    },
    {
     "data": {
      "application/vnd.jupyter.widget-view+json": {
       "model_id": "a70416ac6d3c46bda1acc318c91ecbe9",
       "version_major": 2,
       "version_minor": 0
      },
      "text/plain": [
       "sim_data:   0%|          | 0/500 [00:00<?, ?tasks/s]"
      ]
     },
     "metadata": {},
     "output_type": "display_data"
    },
    {
     "name": "stdout",
     "output_type": "stream",
     "text": [
      "------------------------------------------------------------------\n",
      "\n",
      "evaluation:8\n",
      "Time Since Starting (s):394.9348428249359\n",
      "predictions: [4153.1808 1775.7818 2394.5404 1257.396  3770.787 ]\n",
      "test statistic: 34687.174663408005\n",
      "\n",
      "------------------------------------------------------------------\n",
      "Simulating Model NMGPL_Model_v3.xml\n"
     ]
    },
    {
     "data": {
      "application/vnd.jupyter.widget-view+json": {
       "model_id": "870afb0a68b5417e92c00888df7c2eac",
       "version_major": 2,
       "version_minor": 0
      },
      "text/plain": [
       "sim_data:   0%|          | 0/500 [00:00<?, ?tasks/s]"
      ]
     },
     "metadata": {},
     "output_type": "display_data"
    },
    {
     "name": "stdout",
     "output_type": "stream",
     "text": [
      "Simulating Model NPMGL_Model_v3.xml\n"
     ]
    },
    {
     "data": {
      "application/vnd.jupyter.widget-view+json": {
       "model_id": "9091b037a9434115a0408af34e0b5b50",
       "version_major": 2,
       "version_minor": 0
      },
      "text/plain": [
       "sim_data:   0%|          | 0/500 [00:00<?, ?tasks/s]"
      ]
     },
     "metadata": {},
     "output_type": "display_data"
    },
    {
     "name": "stdout",
     "output_type": "stream",
     "text": [
      "Simulating Model NMPGL_Model_v3.xml\n"
     ]
    },
    {
     "data": {
      "application/vnd.jupyter.widget-view+json": {
       "model_id": "4b444651023c47f2a18a0085bd242ab3",
       "version_major": 2,
       "version_minor": 0
      },
      "text/plain": [
       "sim_data:   0%|          | 0/500 [00:00<?, ?tasks/s]"
      ]
     },
     "metadata": {},
     "output_type": "display_data"
    },
    {
     "name": "stdout",
     "output_type": "stream",
     "text": [
      "Simulating Model NGPML_Model_v3.xml\n"
     ]
    },
    {
     "data": {
      "application/vnd.jupyter.widget-view+json": {
       "model_id": "c3501d181d3b44f996f4852b3aae45bf",
       "version_major": 2,
       "version_minor": 0
      },
      "text/plain": [
       "sim_data:   0%|          | 0/500 [00:00<?, ?tasks/s]"
      ]
     },
     "metadata": {},
     "output_type": "display_data"
    },
    {
     "name": "stdout",
     "output_type": "stream",
     "text": [
      "Simulating Model NGMPL_Model_v3.xml\n"
     ]
    },
    {
     "data": {
      "application/vnd.jupyter.widget-view+json": {
       "model_id": "10913b3447b54f1781df810fbd7eff3f",
       "version_major": 2,
       "version_minor": 0
      },
      "text/plain": [
       "sim_data:   0%|          | 0/500 [00:00<?, ?tasks/s]"
      ]
     },
     "metadata": {},
     "output_type": "display_data"
    },
    {
     "name": "stdout",
     "output_type": "stream",
     "text": [
      "------------------------------------------------------------------\n",
      "\n",
      "evaluation:9\n",
      "Time Since Starting (s):444.0213882923126\n",
      "predictions: [4078.8356 1790.5912 2441.5668 1258.6188 3713.5466]\n",
      "test statistic: 45970.81589840799\n",
      "\n",
      "------------------------------------------------------------------\n",
      "Simulating Model NMGPL_Model_v3.xml\n"
     ]
    },
    {
     "data": {
      "application/vnd.jupyter.widget-view+json": {
       "model_id": "f1ce49ac17ba490697ae9a257e78af7b",
       "version_major": 2,
       "version_minor": 0
      },
      "text/plain": [
       "sim_data:   0%|          | 0/500 [00:00<?, ?tasks/s]"
      ]
     },
     "metadata": {},
     "output_type": "display_data"
    },
    {
     "name": "stdout",
     "output_type": "stream",
     "text": [
      "Simulating Model NPMGL_Model_v3.xml\n"
     ]
    },
    {
     "data": {
      "application/vnd.jupyter.widget-view+json": {
       "model_id": "77d2b213fb044ccd9fbe6829317d635b",
       "version_major": 2,
       "version_minor": 0
      },
      "text/plain": [
       "sim_data:   0%|          | 0/500 [00:00<?, ?tasks/s]"
      ]
     },
     "metadata": {},
     "output_type": "display_data"
    },
    {
     "name": "stdout",
     "output_type": "stream",
     "text": [
      "Simulating Model NMPGL_Model_v3.xml\n"
     ]
    },
    {
     "data": {
      "application/vnd.jupyter.widget-view+json": {
       "model_id": "679a4c5d9fac461e9c6ba93d4efd3440",
       "version_major": 2,
       "version_minor": 0
      },
      "text/plain": [
       "sim_data:   0%|          | 0/500 [00:00<?, ?tasks/s]"
      ]
     },
     "metadata": {},
     "output_type": "display_data"
    },
    {
     "name": "stdout",
     "output_type": "stream",
     "text": [
      "Simulating Model NGPML_Model_v3.xml\n"
     ]
    },
    {
     "data": {
      "application/vnd.jupyter.widget-view+json": {
       "model_id": "9368444d189e4199a313b6adbf03df73",
       "version_major": 2,
       "version_minor": 0
      },
      "text/plain": [
       "sim_data:   0%|          | 0/500 [00:00<?, ?tasks/s]"
      ]
     },
     "metadata": {},
     "output_type": "display_data"
    },
    {
     "name": "stdout",
     "output_type": "stream",
     "text": [
      "Simulating Model NGMPL_Model_v3.xml\n"
     ]
    },
    {
     "data": {
      "application/vnd.jupyter.widget-view+json": {
       "model_id": "f32b5c191b3d4c9e86b4fb889c17e75a",
       "version_major": 2,
       "version_minor": 0
      },
      "text/plain": [
       "sim_data:   0%|          | 0/500 [00:00<?, ?tasks/s]"
      ]
     },
     "metadata": {},
     "output_type": "display_data"
    },
    {
     "name": "stdout",
     "output_type": "stream",
     "text": [
      "------------------------------------------------------------------\n",
      "\n",
      "evaluation:10\n",
      "Time Since Starting (s):491.01853036880493\n",
      "predictions: [4085.2518 1782.0616 2392.0346 1247.2182 3770.599 ]\n",
      "test statistic: 40281.61992143998\n",
      "\n",
      "------------------------------------------------------------------\n",
      "Simulating Model NMGPL_Model_v3.xml\n"
     ]
    },
    {
     "data": {
      "application/vnd.jupyter.widget-view+json": {
       "model_id": "fce2e719baa144208d853e83df064bb9",
       "version_major": 2,
       "version_minor": 0
      },
      "text/plain": [
       "sim_data:   0%|          | 0/500 [00:00<?, ?tasks/s]"
      ]
     },
     "metadata": {},
     "output_type": "display_data"
    },
    {
     "name": "stdout",
     "output_type": "stream",
     "text": [
      "Simulating Model NPMGL_Model_v3.xml\n"
     ]
    },
    {
     "data": {
      "application/vnd.jupyter.widget-view+json": {
       "model_id": "284f416a7b9c4e1aac3e59f2048f937a",
       "version_major": 2,
       "version_minor": 0
      },
      "text/plain": [
       "sim_data:   0%|          | 0/500 [00:00<?, ?tasks/s]"
      ]
     },
     "metadata": {},
     "output_type": "display_data"
    },
    {
     "name": "stdout",
     "output_type": "stream",
     "text": [
      "Simulating Model NMPGL_Model_v3.xml\n"
     ]
    },
    {
     "data": {
      "application/vnd.jupyter.widget-view+json": {
       "model_id": "ca5645bde8c94deeb26d1ec445d3d145",
       "version_major": 2,
       "version_minor": 0
      },
      "text/plain": [
       "sim_data:   0%|          | 0/500 [00:00<?, ?tasks/s]"
      ]
     },
     "metadata": {},
     "output_type": "display_data"
    },
    {
     "name": "stdout",
     "output_type": "stream",
     "text": [
      "Simulating Model NGPML_Model_v3.xml\n"
     ]
    },
    {
     "data": {
      "application/vnd.jupyter.widget-view+json": {
       "model_id": "cd4e655a46854685ab0f24a0b3caaca5",
       "version_major": 2,
       "version_minor": 0
      },
      "text/plain": [
       "sim_data:   0%|          | 0/500 [00:00<?, ?tasks/s]"
      ]
     },
     "metadata": {},
     "output_type": "display_data"
    },
    {
     "name": "stdout",
     "output_type": "stream",
     "text": [
      "Simulating Model NGMPL_Model_v3.xml\n"
     ]
    },
    {
     "data": {
      "application/vnd.jupyter.widget-view+json": {
       "model_id": "6ed17c81217446058e0c2242d0879a2e",
       "version_major": 2,
       "version_minor": 0
      },
      "text/plain": [
       "sim_data:   0%|          | 0/500 [00:00<?, ?tasks/s]"
      ]
     },
     "metadata": {},
     "output_type": "display_data"
    },
    {
     "name": "stdout",
     "output_type": "stream",
     "text": [
      "------------------------------------------------------------------\n",
      "\n",
      "evaluation:11\n",
      "Time Since Starting (s):537.3150928020477\n",
      "predictions: [4004.1434 1707.546  2358.06   1199.4708 3550.4078]\n",
      "test statistic: 87576.15212660802\n",
      "\n",
      "------------------------------------------------------------------\n",
      "Simulating Model NMGPL_Model_v3.xml\n"
     ]
    },
    {
     "data": {
      "application/vnd.jupyter.widget-view+json": {
       "model_id": "d62b2a5c60c74d2cb15f0dc8633fca1b",
       "version_major": 2,
       "version_minor": 0
      },
      "text/plain": [
       "sim_data:   0%|          | 0/500 [00:00<?, ?tasks/s]"
      ]
     },
     "metadata": {},
     "output_type": "display_data"
    },
    {
     "name": "stdout",
     "output_type": "stream",
     "text": [
      "Simulating Model NPMGL_Model_v3.xml\n"
     ]
    },
    {
     "data": {
      "application/vnd.jupyter.widget-view+json": {
       "model_id": "0fbee845bc084afc824f6677dca6c478",
       "version_major": 2,
       "version_minor": 0
      },
      "text/plain": [
       "sim_data:   0%|          | 0/500 [00:00<?, ?tasks/s]"
      ]
     },
     "metadata": {},
     "output_type": "display_data"
    },
    {
     "name": "stdout",
     "output_type": "stream",
     "text": [
      "Simulating Model NMPGL_Model_v3.xml\n"
     ]
    },
    {
     "data": {
      "application/vnd.jupyter.widget-view+json": {
       "model_id": "3659e07293274559943c7a439e2a72b9",
       "version_major": 2,
       "version_minor": 0
      },
      "text/plain": [
       "sim_data:   0%|          | 0/500 [00:00<?, ?tasks/s]"
      ]
     },
     "metadata": {},
     "output_type": "display_data"
    },
    {
     "name": "stdout",
     "output_type": "stream",
     "text": [
      "Simulating Model NGPML_Model_v3.xml\n"
     ]
    },
    {
     "data": {
      "application/vnd.jupyter.widget-view+json": {
       "model_id": "3c14a18384c74cee80a5bea52cd7948a",
       "version_major": 2,
       "version_minor": 0
      },
      "text/plain": [
       "sim_data:   0%|          | 0/500 [00:00<?, ?tasks/s]"
      ]
     },
     "metadata": {},
     "output_type": "display_data"
    },
    {
     "name": "stdout",
     "output_type": "stream",
     "text": [
      "Simulating Model NGMPL_Model_v3.xml\n"
     ]
    },
    {
     "data": {
      "application/vnd.jupyter.widget-view+json": {
       "model_id": "c3c64c8e6ef146cc8abf3a5f24bc5cb4",
       "version_major": 2,
       "version_minor": 0
      },
      "text/plain": [
       "sim_data:   0%|          | 0/500 [00:00<?, ?tasks/s]"
      ]
     },
     "metadata": {},
     "output_type": "display_data"
    },
    {
     "name": "stdout",
     "output_type": "stream",
     "text": [
      "------------------------------------------------------------------\n",
      "\n",
      "evaluation:12\n",
      "Time Since Starting (s):587.4737682342529\n",
      "predictions: [4123.7972 1766.1532 2401.6134 1239.1276 3712.5032]\n",
      "test statistic: 43924.733829927995\n",
      "\n",
      "------------------------------------------------------------------\n",
      "Simulating Model NMGPL_Model_v3.xml\n"
     ]
    },
    {
     "data": {
      "application/vnd.jupyter.widget-view+json": {
       "model_id": "6afbc33a602b452a890f23f8d4f40884",
       "version_major": 2,
       "version_minor": 0
      },
      "text/plain": [
       "sim_data:   0%|          | 0/500 [00:00<?, ?tasks/s]"
      ]
     },
     "metadata": {},
     "output_type": "display_data"
    },
    {
     "name": "stdout",
     "output_type": "stream",
     "text": [
      "Simulating Model NPMGL_Model_v3.xml\n"
     ]
    },
    {
     "data": {
      "application/vnd.jupyter.widget-view+json": {
       "model_id": "0f11ce756bee4a0c8c44bdf9d196cee9",
       "version_major": 2,
       "version_minor": 0
      },
      "text/plain": [
       "sim_data:   0%|          | 0/500 [00:00<?, ?tasks/s]"
      ]
     },
     "metadata": {},
     "output_type": "display_data"
    },
    {
     "name": "stdout",
     "output_type": "stream",
     "text": [
      "Simulating Model NMPGL_Model_v3.xml\n"
     ]
    },
    {
     "data": {
      "application/vnd.jupyter.widget-view+json": {
       "model_id": "f966a8a3ad5e4c019a86ed105f33f06b",
       "version_major": 2,
       "version_minor": 0
      },
      "text/plain": [
       "sim_data:   0%|          | 0/500 [00:00<?, ?tasks/s]"
      ]
     },
     "metadata": {},
     "output_type": "display_data"
    },
    {
     "name": "stdout",
     "output_type": "stream",
     "text": [
      "Simulating Model NGPML_Model_v3.xml\n"
     ]
    },
    {
     "data": {
      "application/vnd.jupyter.widget-view+json": {
       "model_id": "18b2e5b5bc944a1281c45b0b93d57a66",
       "version_major": 2,
       "version_minor": 0
      },
      "text/plain": [
       "sim_data:   0%|          | 0/500 [00:00<?, ?tasks/s]"
      ]
     },
     "metadata": {},
     "output_type": "display_data"
    },
    {
     "name": "stdout",
     "output_type": "stream",
     "text": [
      "Simulating Model NGMPL_Model_v3.xml\n"
     ]
    },
    {
     "data": {
      "application/vnd.jupyter.widget-view+json": {
       "model_id": "03d76aca55c84e32b32ae5fba59605ac",
       "version_major": 2,
       "version_minor": 0
      },
      "text/plain": [
       "sim_data:   0%|          | 0/500 [00:00<?, ?tasks/s]"
      ]
     },
     "metadata": {},
     "output_type": "display_data"
    },
    {
     "name": "stdout",
     "output_type": "stream",
     "text": [
      "------------------------------------------------------------------\n",
      "\n",
      "evaluation:13\n",
      "Time Since Starting (s):634.3809225559235\n",
      "predictions: [4093.4718 1763.1222 2418.5116 1247.6344 3751.0324]\n",
      "test statistic: 43948.999275152004\n",
      "\n",
      "------------------------------------------------------------------\n",
      "Simulating Model NMGPL_Model_v3.xml\n"
     ]
    },
    {
     "data": {
      "application/vnd.jupyter.widget-view+json": {
       "model_id": "4d5c511137694aff8d62ec2e2f2019c9",
       "version_major": 2,
       "version_minor": 0
      },
      "text/plain": [
       "sim_data:   0%|          | 0/500 [00:00<?, ?tasks/s]"
      ]
     },
     "metadata": {},
     "output_type": "display_data"
    },
    {
     "name": "stdout",
     "output_type": "stream",
     "text": [
      "Simulating Model NPMGL_Model_v3.xml\n"
     ]
    },
    {
     "data": {
      "application/vnd.jupyter.widget-view+json": {
       "model_id": "4e30192942fc49a1bfeffe634e1efedd",
       "version_major": 2,
       "version_minor": 0
      },
      "text/plain": [
       "sim_data:   0%|          | 0/500 [00:00<?, ?tasks/s]"
      ]
     },
     "metadata": {},
     "output_type": "display_data"
    },
    {
     "name": "stdout",
     "output_type": "stream",
     "text": [
      "Simulating Model NMPGL_Model_v3.xml\n"
     ]
    },
    {
     "data": {
      "application/vnd.jupyter.widget-view+json": {
       "model_id": "01fc5686c1ae45c1b9ce904bff76af6f",
       "version_major": 2,
       "version_minor": 0
      },
      "text/plain": [
       "sim_data:   0%|          | 0/500 [00:00<?, ?tasks/s]"
      ]
     },
     "metadata": {},
     "output_type": "display_data"
    },
    {
     "name": "stdout",
     "output_type": "stream",
     "text": [
      "Simulating Model NGPML_Model_v3.xml\n"
     ]
    },
    {
     "data": {
      "application/vnd.jupyter.widget-view+json": {
       "model_id": "ea8a15a8ffa749cc897cfcbb0e41c062",
       "version_major": 2,
       "version_minor": 0
      },
      "text/plain": [
       "sim_data:   0%|          | 0/500 [00:00<?, ?tasks/s]"
      ]
     },
     "metadata": {},
     "output_type": "display_data"
    },
    {
     "name": "stdout",
     "output_type": "stream",
     "text": [
      "Simulating Model NGMPL_Model_v3.xml\n"
     ]
    },
    {
     "data": {
      "application/vnd.jupyter.widget-view+json": {
       "model_id": "97f18870ca614df78ce1569606e3fdff",
       "version_major": 2,
       "version_minor": 0
      },
      "text/plain": [
       "sim_data:   0%|          | 0/500 [00:00<?, ?tasks/s]"
      ]
     },
     "metadata": {},
     "output_type": "display_data"
    },
    {
     "name": "stdout",
     "output_type": "stream",
     "text": [
      "------------------------------------------------------------------\n",
      "\n",
      "evaluation:14\n",
      "Time Since Starting (s):689.7890613079071\n",
      "predictions: [4970.3766 2113.3104 2918.3396 1423.3652 4499.8288]\n",
      "test statistic: 204697.8077968719\n",
      "\n",
      "------------------------------------------------------------------\n",
      "Simulating Model NMGPL_Model_v3.xml\n"
     ]
    },
    {
     "data": {
      "application/vnd.jupyter.widget-view+json": {
       "model_id": "0167047dc1854029b6f4c41ff05a65e6",
       "version_major": 2,
       "version_minor": 0
      },
      "text/plain": [
       "sim_data:   0%|          | 0/500 [00:00<?, ?tasks/s]"
      ]
     },
     "metadata": {},
     "output_type": "display_data"
    },
    {
     "name": "stdout",
     "output_type": "stream",
     "text": [
      "Simulating Model NPMGL_Model_v3.xml\n"
     ]
    },
    {
     "data": {
      "application/vnd.jupyter.widget-view+json": {
       "model_id": "0a342e41eddf46abb681a74dd5f7963c",
       "version_major": 2,
       "version_minor": 0
      },
      "text/plain": [
       "sim_data:   0%|          | 0/500 [00:00<?, ?tasks/s]"
      ]
     },
     "metadata": {},
     "output_type": "display_data"
    },
    {
     "name": "stdout",
     "output_type": "stream",
     "text": [
      "Simulating Model NMPGL_Model_v3.xml\n"
     ]
    },
    {
     "data": {
      "application/vnd.jupyter.widget-view+json": {
       "model_id": "677fe6c974e441579af8d57354d7c382",
       "version_major": 2,
       "version_minor": 0
      },
      "text/plain": [
       "sim_data:   0%|          | 0/500 [00:00<?, ?tasks/s]"
      ]
     },
     "metadata": {},
     "output_type": "display_data"
    },
    {
     "name": "stdout",
     "output_type": "stream",
     "text": [
      "Simulating Model NGPML_Model_v3.xml\n"
     ]
    },
    {
     "data": {
      "application/vnd.jupyter.widget-view+json": {
       "model_id": "a2068bf7c3644a90a2e5384678b5eb17",
       "version_major": 2,
       "version_minor": 0
      },
      "text/plain": [
       "sim_data:   0%|          | 0/500 [00:00<?, ?tasks/s]"
      ]
     },
     "metadata": {},
     "output_type": "display_data"
    },
    {
     "name": "stdout",
     "output_type": "stream",
     "text": [
      "Simulating Model NGMPL_Model_v3.xml\n"
     ]
    },
    {
     "data": {
      "application/vnd.jupyter.widget-view+json": {
       "model_id": "273049fa92ef4434aeb48ac48090ec62",
       "version_major": 2,
       "version_minor": 0
      },
      "text/plain": [
       "sim_data:   0%|          | 0/500 [00:00<?, ?tasks/s]"
      ]
     },
     "metadata": {},
     "output_type": "display_data"
    },
    {
     "name": "stdout",
     "output_type": "stream",
     "text": [
      "------------------------------------------------------------------\n",
      "\n",
      "evaluation:15\n",
      "Time Since Starting (s):739.4904012680054\n",
      "predictions: [4497.5852 1942.041  2647.3098 1329.9602 4102.3174]\n",
      "test statistic: 31013.289848576027\n",
      "\n",
      "------------------------------------------------------------------\n",
      "Simulating Model NMGPL_Model_v3.xml\n"
     ]
    },
    {
     "data": {
      "application/vnd.jupyter.widget-view+json": {
       "model_id": "7e507a4b8f6f4871b6c9b8c04093d0b2",
       "version_major": 2,
       "version_minor": 0
      },
      "text/plain": [
       "sim_data:   0%|          | 0/500 [00:00<?, ?tasks/s]"
      ]
     },
     "metadata": {},
     "output_type": "display_data"
    },
    {
     "name": "stdout",
     "output_type": "stream",
     "text": [
      "Simulating Model NPMGL_Model_v3.xml\n"
     ]
    },
    {
     "data": {
      "application/vnd.jupyter.widget-view+json": {
       "model_id": "05f9af19efe5462e8f75b32e86136e28",
       "version_major": 2,
       "version_minor": 0
      },
      "text/plain": [
       "sim_data:   0%|          | 0/500 [00:00<?, ?tasks/s]"
      ]
     },
     "metadata": {},
     "output_type": "display_data"
    },
    {
     "name": "stdout",
     "output_type": "stream",
     "text": [
      "Simulating Model NMPGL_Model_v3.xml\n"
     ]
    },
    {
     "data": {
      "application/vnd.jupyter.widget-view+json": {
       "model_id": "b3477a141306468689c74f35a562c0f4",
       "version_major": 2,
       "version_minor": 0
      },
      "text/plain": [
       "sim_data:   0%|          | 0/500 [00:00<?, ?tasks/s]"
      ]
     },
     "metadata": {},
     "output_type": "display_data"
    },
    {
     "name": "stdout",
     "output_type": "stream",
     "text": [
      "Simulating Model NGPML_Model_v3.xml\n"
     ]
    },
    {
     "data": {
      "application/vnd.jupyter.widget-view+json": {
       "model_id": "da24f82474894d28a9360f84d4c537bc",
       "version_major": 2,
       "version_minor": 0
      },
      "text/plain": [
       "sim_data:   0%|          | 0/500 [00:00<?, ?tasks/s]"
      ]
     },
     "metadata": {},
     "output_type": "display_data"
    },
    {
     "name": "stdout",
     "output_type": "stream",
     "text": [
      "Simulating Model NGMPL_Model_v3.xml\n"
     ]
    },
    {
     "data": {
      "application/vnd.jupyter.widget-view+json": {
       "model_id": "b8a02297cb1746f081203a022f8eb983",
       "version_major": 2,
       "version_minor": 0
      },
      "text/plain": [
       "sim_data:   0%|          | 0/500 [00:00<?, ?tasks/s]"
      ]
     },
     "metadata": {},
     "output_type": "display_data"
    },
    {
     "name": "stdout",
     "output_type": "stream",
     "text": [
      "------------------------------------------------------------------\n",
      "\n",
      "evaluation:16\n",
      "Time Since Starting (s):788.4527885913849\n",
      "predictions: [4307.8834 1891.7268 2501.5558 1318.4476 3883.1112]\n",
      "test statistic: 13781.880531728024\n",
      "\n",
      "------------------------------------------------------------------\n",
      "Simulating Model NMGPL_Model_v3.xml\n"
     ]
    },
    {
     "data": {
      "application/vnd.jupyter.widget-view+json": {
       "model_id": "88cecbeadd04471da5596341b1ffe163",
       "version_major": 2,
       "version_minor": 0
      },
      "text/plain": [
       "sim_data:   0%|          | 0/500 [00:00<?, ?tasks/s]"
      ]
     },
     "metadata": {},
     "output_type": "display_data"
    },
    {
     "name": "stdout",
     "output_type": "stream",
     "text": [
      "Simulating Model NPMGL_Model_v3.xml\n"
     ]
    },
    {
     "data": {
      "application/vnd.jupyter.widget-view+json": {
       "model_id": "e9611e9af7d7456da9ccc296ee8db0bc",
       "version_major": 2,
       "version_minor": 0
      },
      "text/plain": [
       "sim_data:   0%|          | 0/500 [00:00<?, ?tasks/s]"
      ]
     },
     "metadata": {},
     "output_type": "display_data"
    },
    {
     "name": "stdout",
     "output_type": "stream",
     "text": [
      "Simulating Model NMPGL_Model_v3.xml\n"
     ]
    },
    {
     "data": {
      "application/vnd.jupyter.widget-view+json": {
       "model_id": "3d1e590f9c7945579a1058282f57709b",
       "version_major": 2,
       "version_minor": 0
      },
      "text/plain": [
       "sim_data:   0%|          | 0/500 [00:00<?, ?tasks/s]"
      ]
     },
     "metadata": {},
     "output_type": "display_data"
    },
    {
     "name": "stdout",
     "output_type": "stream",
     "text": [
      "Simulating Model NGPML_Model_v3.xml\n"
     ]
    },
    {
     "data": {
      "application/vnd.jupyter.widget-view+json": {
       "model_id": "ca23584ce0374f14bdc7348d32211f50",
       "version_major": 2,
       "version_minor": 0
      },
      "text/plain": [
       "sim_data:   0%|          | 0/500 [00:00<?, ?tasks/s]"
      ]
     },
     "metadata": {},
     "output_type": "display_data"
    },
    {
     "name": "stdout",
     "output_type": "stream",
     "text": [
      "Simulating Model NGMPL_Model_v3.xml\n"
     ]
    },
    {
     "data": {
      "application/vnd.jupyter.widget-view+json": {
       "model_id": "1a80dfed121045ae9fd2405fe108b096",
       "version_major": 2,
       "version_minor": 0
      },
      "text/plain": [
       "sim_data:   0%|          | 0/500 [00:00<?, ?tasks/s]"
      ]
     },
     "metadata": {},
     "output_type": "display_data"
    },
    {
     "name": "stdout",
     "output_type": "stream",
     "text": [
      "------------------------------------------------------------------\n",
      "\n",
      "evaluation:17\n",
      "Time Since Starting (s):843.1348693370819\n",
      "predictions: [4420.595  1973.4694 2667.0958 1375.29   4140.8828]\n",
      "test statistic: 31804.53979496804\n",
      "\n",
      "------------------------------------------------------------------\n",
      "Simulating Model NMGPL_Model_v3.xml\n"
     ]
    },
    {
     "data": {
      "application/vnd.jupyter.widget-view+json": {
       "model_id": "eab7b58b6dbb4762aa030d77f3634767",
       "version_major": 2,
       "version_minor": 0
      },
      "text/plain": [
       "sim_data:   0%|          | 0/500 [00:00<?, ?tasks/s]"
      ]
     },
     "metadata": {},
     "output_type": "display_data"
    },
    {
     "name": "stdout",
     "output_type": "stream",
     "text": [
      "Simulating Model NPMGL_Model_v3.xml\n"
     ]
    },
    {
     "data": {
      "application/vnd.jupyter.widget-view+json": {
       "model_id": "c409ee5e653c437b98e3a2e7ba19f714",
       "version_major": 2,
       "version_minor": 0
      },
      "text/plain": [
       "sim_data:   0%|          | 0/500 [00:00<?, ?tasks/s]"
      ]
     },
     "metadata": {},
     "output_type": "display_data"
    },
    {
     "name": "stdout",
     "output_type": "stream",
     "text": [
      "Simulating Model NMPGL_Model_v3.xml\n"
     ]
    },
    {
     "data": {
      "application/vnd.jupyter.widget-view+json": {
       "model_id": "207cb88a52a642b39e89a53e97cc417e",
       "version_major": 2,
       "version_minor": 0
      },
      "text/plain": [
       "sim_data:   0%|          | 0/500 [00:00<?, ?tasks/s]"
      ]
     },
     "metadata": {},
     "output_type": "display_data"
    },
    {
     "name": "stdout",
     "output_type": "stream",
     "text": [
      "Simulating Model NGPML_Model_v3.xml\n"
     ]
    },
    {
     "data": {
      "application/vnd.jupyter.widget-view+json": {
       "model_id": "61eae55007ae4ae18dbf6300f4336715",
       "version_major": 2,
       "version_minor": 0
      },
      "text/plain": [
       "sim_data:   0%|          | 0/500 [00:00<?, ?tasks/s]"
      ]
     },
     "metadata": {},
     "output_type": "display_data"
    },
    {
     "name": "stdout",
     "output_type": "stream",
     "text": [
      "Simulating Model NGMPL_Model_v3.xml\n"
     ]
    },
    {
     "data": {
      "application/vnd.jupyter.widget-view+json": {
       "model_id": "d5ec2611aa704f8ab56eb2cbeb1b0da6",
       "version_major": 2,
       "version_minor": 0
      },
      "text/plain": [
       "sim_data:   0%|          | 0/500 [00:00<?, ?tasks/s]"
      ]
     },
     "metadata": {},
     "output_type": "display_data"
    },
    {
     "name": "stdout",
     "output_type": "stream",
     "text": [
      "------------------------------------------------------------------\n",
      "\n",
      "evaluation:18\n",
      "Time Since Starting (s):891.7895987033844\n",
      "predictions: [4323.9722 1883.4166 2551.932  1309.6788 3906.7114]\n",
      "test statistic: 17225.18660235998\n",
      "\n",
      "------------------------------------------------------------------\n",
      "Simulating Model NMGPL_Model_v3.xml\n"
     ]
    },
    {
     "data": {
      "application/vnd.jupyter.widget-view+json": {
       "model_id": "91e6119db2af479fabf946398931b997",
       "version_major": 2,
       "version_minor": 0
      },
      "text/plain": [
       "sim_data:   0%|          | 0/500 [00:00<?, ?tasks/s]"
      ]
     },
     "metadata": {},
     "output_type": "display_data"
    },
    {
     "name": "stdout",
     "output_type": "stream",
     "text": [
      "Simulating Model NPMGL_Model_v3.xml\n"
     ]
    },
    {
     "data": {
      "application/vnd.jupyter.widget-view+json": {
       "model_id": "d85c22f2f024489f85f479b8487c9c47",
       "version_major": 2,
       "version_minor": 0
      },
      "text/plain": [
       "sim_data:   0%|          | 0/500 [00:00<?, ?tasks/s]"
      ]
     },
     "metadata": {},
     "output_type": "display_data"
    },
    {
     "name": "stdout",
     "output_type": "stream",
     "text": [
      "Simulating Model NMPGL_Model_v3.xml\n"
     ]
    },
    {
     "data": {
      "application/vnd.jupyter.widget-view+json": {
       "model_id": "07add466b3a84b018dc0fad061ff2f9c",
       "version_major": 2,
       "version_minor": 0
      },
      "text/plain": [
       "sim_data:   0%|          | 0/500 [00:00<?, ?tasks/s]"
      ]
     },
     "metadata": {},
     "output_type": "display_data"
    },
    {
     "name": "stdout",
     "output_type": "stream",
     "text": [
      "Simulating Model NGPML_Model_v3.xml\n"
     ]
    },
    {
     "data": {
      "application/vnd.jupyter.widget-view+json": {
       "model_id": "2d9015c484824965b8ae4877119efe48",
       "version_major": 2,
       "version_minor": 0
      },
      "text/plain": [
       "sim_data:   0%|          | 0/500 [00:00<?, ?tasks/s]"
      ]
     },
     "metadata": {},
     "output_type": "display_data"
    },
    {
     "name": "stdout",
     "output_type": "stream",
     "text": [
      "Simulating Model NGMPL_Model_v3.xml\n"
     ]
    },
    {
     "data": {
      "application/vnd.jupyter.widget-view+json": {
       "model_id": "f780244a82404d059f61ee9381ad3401",
       "version_major": 2,
       "version_minor": 0
      },
      "text/plain": [
       "sim_data:   0%|          | 0/500 [00:00<?, ?tasks/s]"
      ]
     },
     "metadata": {},
     "output_type": "display_data"
    },
    {
     "name": "stdout",
     "output_type": "stream",
     "text": [
      "------------------------------------------------------------------\n",
      "\n",
      "evaluation:19\n",
      "Time Since Starting (s):940.4443430900574\n",
      "predictions: [4277.5832 1857.785  2534.4264 1303.6778 3879.5642]\n",
      "test statistic: 19621.883579735986\n",
      "\n",
      "------------------------------------------------------------------\n",
      "Simulating Model NMGPL_Model_v3.xml\n"
     ]
    },
    {
     "data": {
      "application/vnd.jupyter.widget-view+json": {
       "model_id": "bf231ffb65fb4117baf1cfee58f5a59a",
       "version_major": 2,
       "version_minor": 0
      },
      "text/plain": [
       "sim_data:   0%|          | 0/500 [00:00<?, ?tasks/s]"
      ]
     },
     "metadata": {},
     "output_type": "display_data"
    },
    {
     "name": "stdout",
     "output_type": "stream",
     "text": [
      "Simulating Model NPMGL_Model_v3.xml\n"
     ]
    },
    {
     "data": {
      "application/vnd.jupyter.widget-view+json": {
       "model_id": "509882769ecb48eb9fbcd94127b676cf",
       "version_major": 2,
       "version_minor": 0
      },
      "text/plain": [
       "sim_data:   0%|          | 0/500 [00:00<?, ?tasks/s]"
      ]
     },
     "metadata": {},
     "output_type": "display_data"
    },
    {
     "name": "stdout",
     "output_type": "stream",
     "text": [
      "Simulating Model NMPGL_Model_v3.xml\n"
     ]
    },
    {
     "data": {
      "application/vnd.jupyter.widget-view+json": {
       "model_id": "e5c066ff4cce4639a7cb5f5a91d8c7f2",
       "version_major": 2,
       "version_minor": 0
      },
      "text/plain": [
       "sim_data:   0%|          | 0/500 [00:00<?, ?tasks/s]"
      ]
     },
     "metadata": {},
     "output_type": "display_data"
    },
    {
     "name": "stdout",
     "output_type": "stream",
     "text": [
      "Simulating Model NGPML_Model_v3.xml\n"
     ]
    },
    {
     "data": {
      "application/vnd.jupyter.widget-view+json": {
       "model_id": "f1eae0232d714ef999f43ce66d4868d7",
       "version_major": 2,
       "version_minor": 0
      },
      "text/plain": [
       "sim_data:   0%|          | 0/500 [00:00<?, ?tasks/s]"
      ]
     },
     "metadata": {},
     "output_type": "display_data"
    },
    {
     "name": "stdout",
     "output_type": "stream",
     "text": [
      "Simulating Model NGMPL_Model_v3.xml\n"
     ]
    },
    {
     "data": {
      "application/vnd.jupyter.widget-view+json": {
       "model_id": "99c555a3fccd402c8c3f64973f6e66a9",
       "version_major": 2,
       "version_minor": 0
      },
      "text/plain": [
       "sim_data:   0%|          | 0/500 [00:00<?, ?tasks/s]"
      ]
     },
     "metadata": {},
     "output_type": "display_data"
    },
    {
     "name": "stdout",
     "output_type": "stream",
     "text": [
      "------------------------------------------------------------------\n",
      "\n",
      "evaluation:20\n",
      "Time Since Starting (s):988.945903301239\n",
      "predictions: [4227.223  1856.8538 2481.2444 1297.3738 3930.1672]\n",
      "test statistic: 17166.355783416\n",
      "\n",
      "------------------------------------------------------------------\n",
      "Simulating Model NMGPL_Model_v3.xml\n"
     ]
    },
    {
     "data": {
      "application/vnd.jupyter.widget-view+json": {
       "model_id": "7115f8c9624c4da58899fbff3e1f8283",
       "version_major": 2,
       "version_minor": 0
      },
      "text/plain": [
       "sim_data:   0%|          | 0/500 [00:00<?, ?tasks/s]"
      ]
     },
     "metadata": {},
     "output_type": "display_data"
    },
    {
     "name": "stdout",
     "output_type": "stream",
     "text": [
      "Simulating Model NPMGL_Model_v3.xml\n"
     ]
    },
    {
     "data": {
      "application/vnd.jupyter.widget-view+json": {
       "model_id": "210c6cb824f3422aac10c3975f9c5496",
       "version_major": 2,
       "version_minor": 0
      },
      "text/plain": [
       "sim_data:   0%|          | 0/500 [00:00<?, ?tasks/s]"
      ]
     },
     "metadata": {},
     "output_type": "display_data"
    },
    {
     "name": "stdout",
     "output_type": "stream",
     "text": [
      "Simulating Model NMPGL_Model_v3.xml\n"
     ]
    },
    {
     "data": {
      "application/vnd.jupyter.widget-view+json": {
       "model_id": "4e0843e900df4b4cae9a6fa06ef7e45b",
       "version_major": 2,
       "version_minor": 0
      },
      "text/plain": [
       "sim_data:   0%|          | 0/500 [00:00<?, ?tasks/s]"
      ]
     },
     "metadata": {},
     "output_type": "display_data"
    },
    {
     "name": "stdout",
     "output_type": "stream",
     "text": [
      "Simulating Model NGPML_Model_v3.xml\n"
     ]
    },
    {
     "data": {
      "application/vnd.jupyter.widget-view+json": {
       "model_id": "2c3b55d75054499f8c2b828deeb521bc",
       "version_major": 2,
       "version_minor": 0
      },
      "text/plain": [
       "sim_data:   0%|          | 0/500 [00:00<?, ?tasks/s]"
      ]
     },
     "metadata": {},
     "output_type": "display_data"
    },
    {
     "name": "stdout",
     "output_type": "stream",
     "text": [
      "Simulating Model NGMPL_Model_v3.xml\n"
     ]
    },
    {
     "data": {
      "application/vnd.jupyter.widget-view+json": {
       "model_id": "8b6f3376ac4f408ca505e39a75e79ee4",
       "version_major": 2,
       "version_minor": 0
      },
      "text/plain": [
       "sim_data:   0%|          | 0/500 [00:00<?, ?tasks/s]"
      ]
     },
     "metadata": {},
     "output_type": "display_data"
    },
    {
     "name": "stdout",
     "output_type": "stream",
     "text": [
      "------------------------------------------------------------------\n",
      "\n",
      "evaluation:21\n",
      "Time Since Starting (s):1043.7679846286774\n",
      "predictions: [4265.2402 1864.2826 2501.1166 1307.1492 4011.733 ]\n",
      "test statistic: 16547.603420799987\n",
      "\n",
      "------------------------------------------------------------------\n",
      "Simulating Model NMGPL_Model_v3.xml\n"
     ]
    },
    {
     "data": {
      "application/vnd.jupyter.widget-view+json": {
       "model_id": "1a8028eca8c34efbb1297ef211645183",
       "version_major": 2,
       "version_minor": 0
      },
      "text/plain": [
       "sim_data:   0%|          | 0/500 [00:00<?, ?tasks/s]"
      ]
     },
     "metadata": {},
     "output_type": "display_data"
    },
    {
     "name": "stdout",
     "output_type": "stream",
     "text": [
      "Simulating Model NPMGL_Model_v3.xml\n"
     ]
    },
    {
     "data": {
      "application/vnd.jupyter.widget-view+json": {
       "model_id": "a404a9c2906c4629b2bbfe3d3900371c",
       "version_major": 2,
       "version_minor": 0
      },
      "text/plain": [
       "sim_data:   0%|          | 0/500 [00:00<?, ?tasks/s]"
      ]
     },
     "metadata": {},
     "output_type": "display_data"
    },
    {
     "name": "stdout",
     "output_type": "stream",
     "text": [
      "Simulating Model NMPGL_Model_v3.xml\n"
     ]
    },
    {
     "data": {
      "application/vnd.jupyter.widget-view+json": {
       "model_id": "27b7e1c6594e4e9b8325dd12f9462924",
       "version_major": 2,
       "version_minor": 0
      },
      "text/plain": [
       "sim_data:   0%|          | 0/500 [00:00<?, ?tasks/s]"
      ]
     },
     "metadata": {},
     "output_type": "display_data"
    },
    {
     "name": "stdout",
     "output_type": "stream",
     "text": [
      "Simulating Model NGPML_Model_v3.xml\n"
     ]
    },
    {
     "data": {
      "application/vnd.jupyter.widget-view+json": {
       "model_id": "d21fe86619a847c49865ee083ef411fa",
       "version_major": 2,
       "version_minor": 0
      },
      "text/plain": [
       "sim_data:   0%|          | 0/500 [00:00<?, ?tasks/s]"
      ]
     },
     "metadata": {},
     "output_type": "display_data"
    },
    {
     "name": "stdout",
     "output_type": "stream",
     "text": [
      "Simulating Model NGMPL_Model_v3.xml\n"
     ]
    },
    {
     "data": {
      "application/vnd.jupyter.widget-view+json": {
       "model_id": "64f836bb29064f71996b30afef3d91fc",
       "version_major": 2,
       "version_minor": 0
      },
      "text/plain": [
       "sim_data:   0%|          | 0/500 [00:00<?, ?tasks/s]"
      ]
     },
     "metadata": {},
     "output_type": "display_data"
    },
    {
     "name": "stdout",
     "output_type": "stream",
     "text": [
      "------------------------------------------------------------------\n",
      "\n",
      "evaluation:22\n",
      "Time Since Starting (s):1093.1979422569275\n",
      "predictions: [4332.8184 1941.204  2599.9968 1329.8486 4028.337 ]\n",
      "test statistic: 18143.41925915199\n",
      "\n",
      "------------------------------------------------------------------\n",
      "Simulating Model NMGPL_Model_v3.xml\n"
     ]
    },
    {
     "data": {
      "application/vnd.jupyter.widget-view+json": {
       "model_id": "06cb27b5efc34f419bb3426b620a770a",
       "version_major": 2,
       "version_minor": 0
      },
      "text/plain": [
       "sim_data:   0%|          | 0/500 [00:00<?, ?tasks/s]"
      ]
     },
     "metadata": {},
     "output_type": "display_data"
    },
    {
     "name": "stdout",
     "output_type": "stream",
     "text": [
      "Simulating Model NPMGL_Model_v3.xml\n"
     ]
    },
    {
     "data": {
      "application/vnd.jupyter.widget-view+json": {
       "model_id": "240f412e69ac4546b1b3e1ee7177fc08",
       "version_major": 2,
       "version_minor": 0
      },
      "text/plain": [
       "sim_data:   0%|          | 0/500 [00:00<?, ?tasks/s]"
      ]
     },
     "metadata": {},
     "output_type": "display_data"
    },
    {
     "name": "stdout",
     "output_type": "stream",
     "text": [
      "Simulating Model NMPGL_Model_v3.xml\n"
     ]
    },
    {
     "data": {
      "application/vnd.jupyter.widget-view+json": {
       "model_id": "c3368d8cfb9342ae969d1434079b67db",
       "version_major": 2,
       "version_minor": 0
      },
      "text/plain": [
       "sim_data:   0%|          | 0/500 [00:00<?, ?tasks/s]"
      ]
     },
     "metadata": {},
     "output_type": "display_data"
    },
    {
     "name": "stdout",
     "output_type": "stream",
     "text": [
      "Simulating Model NGPML_Model_v3.xml\n"
     ]
    },
    {
     "data": {
      "application/vnd.jupyter.widget-view+json": {
       "model_id": "c92f86393dd84b54b3dc2b6b49be9f9d",
       "version_major": 2,
       "version_minor": 0
      },
      "text/plain": [
       "sim_data:   0%|          | 0/500 [00:00<?, ?tasks/s]"
      ]
     },
     "metadata": {},
     "output_type": "display_data"
    },
    {
     "name": "stdout",
     "output_type": "stream",
     "text": [
      "Simulating Model NGMPL_Model_v3.xml\n"
     ]
    },
    {
     "data": {
      "application/vnd.jupyter.widget-view+json": {
       "model_id": "c70aa631e965404ebde6721586b2a797",
       "version_major": 2,
       "version_minor": 0
      },
      "text/plain": [
       "sim_data:   0%|          | 0/500 [00:00<?, ?tasks/s]"
      ]
     },
     "metadata": {},
     "output_type": "display_data"
    },
    {
     "name": "stdout",
     "output_type": "stream",
     "text": [
      "------------------------------------------------------------------\n",
      "\n",
      "evaluation:23\n",
      "Time Since Starting (s):1142.4249365329742\n",
      "predictions: [4333.3844 1944.3844 2585.7722 1363.703  4073.339 ]\n",
      "test statistic: 18831.884829911993\n",
      "\n",
      "------------------------------------------------------------------\n",
      "Simulating Model NMGPL_Model_v3.xml\n"
     ]
    },
    {
     "data": {
      "application/vnd.jupyter.widget-view+json": {
       "model_id": "8a0d969238b841599085f398d017cdc7",
       "version_major": 2,
       "version_minor": 0
      },
      "text/plain": [
       "sim_data:   0%|          | 0/500 [00:00<?, ?tasks/s]"
      ]
     },
     "metadata": {},
     "output_type": "display_data"
    },
    {
     "name": "stdout",
     "output_type": "stream",
     "text": [
      "Simulating Model NPMGL_Model_v3.xml\n"
     ]
    },
    {
     "data": {
      "application/vnd.jupyter.widget-view+json": {
       "model_id": "d751973991924adc8cd5ced1081f0ae8",
       "version_major": 2,
       "version_minor": 0
      },
      "text/plain": [
       "sim_data:   0%|          | 0/500 [00:00<?, ?tasks/s]"
      ]
     },
     "metadata": {},
     "output_type": "display_data"
    },
    {
     "name": "stdout",
     "output_type": "stream",
     "text": [
      "Simulating Model NMPGL_Model_v3.xml\n"
     ]
    },
    {
     "data": {
      "application/vnd.jupyter.widget-view+json": {
       "model_id": "fd71ada4ac6e45e691213109496c8b95",
       "version_major": 2,
       "version_minor": 0
      },
      "text/plain": [
       "sim_data:   0%|          | 0/500 [00:00<?, ?tasks/s]"
      ]
     },
     "metadata": {},
     "output_type": "display_data"
    },
    {
     "name": "stdout",
     "output_type": "stream",
     "text": [
      "Simulating Model NGPML_Model_v3.xml\n"
     ]
    },
    {
     "data": {
      "application/vnd.jupyter.widget-view+json": {
       "model_id": "a4b19b2016f345da9abd7d70d5b68dff",
       "version_major": 2,
       "version_minor": 0
      },
      "text/plain": [
       "sim_data:   0%|          | 0/500 [00:00<?, ?tasks/s]"
      ]
     },
     "metadata": {},
     "output_type": "display_data"
    },
    {
     "name": "stdout",
     "output_type": "stream",
     "text": [
      "Simulating Model NGMPL_Model_v3.xml\n"
     ]
    },
    {
     "data": {
      "application/vnd.jupyter.widget-view+json": {
       "model_id": "6ad12c269f3f4caebfab4b3727c351c4",
       "version_major": 2,
       "version_minor": 0
      },
      "text/plain": [
       "sim_data:   0%|          | 0/500 [00:00<?, ?tasks/s]"
      ]
     },
     "metadata": {},
     "output_type": "display_data"
    },
    {
     "name": "stdout",
     "output_type": "stream",
     "text": [
      "------------------------------------------------------------------\n",
      "\n",
      "evaluation:24\n",
      "Time Since Starting (s):1192.3818209171295\n",
      "predictions: [4446.6632 1968.4464 2659.8486 1366.9156 4149.1086]\n",
      "test statistic: 32420.26914929594\n",
      "\n",
      "------------------------------------------------------------------\n",
      "Simulating Model NMGPL_Model_v3.xml\n"
     ]
    },
    {
     "data": {
      "application/vnd.jupyter.widget-view+json": {
       "model_id": "483da12faa6445bb84c38ff81ab3b43a",
       "version_major": 2,
       "version_minor": 0
      },
      "text/plain": [
       "sim_data:   0%|          | 0/500 [00:00<?, ?tasks/s]"
      ]
     },
     "metadata": {},
     "output_type": "display_data"
    },
    {
     "name": "stdout",
     "output_type": "stream",
     "text": [
      "Simulating Model NPMGL_Model_v3.xml\n"
     ]
    },
    {
     "data": {
      "application/vnd.jupyter.widget-view+json": {
       "model_id": "ea189c93f01c4b71a3c3720a03bd2d65",
       "version_major": 2,
       "version_minor": 0
      },
      "text/plain": [
       "sim_data:   0%|          | 0/500 [00:00<?, ?tasks/s]"
      ]
     },
     "metadata": {},
     "output_type": "display_data"
    },
    {
     "name": "stdout",
     "output_type": "stream",
     "text": [
      "Simulating Model NMPGL_Model_v3.xml\n"
     ]
    },
    {
     "data": {
      "application/vnd.jupyter.widget-view+json": {
       "model_id": "5498ee4fdbd4423a93df0a482e2dbe37",
       "version_major": 2,
       "version_minor": 0
      },
      "text/plain": [
       "sim_data:   0%|          | 0/500 [00:00<?, ?tasks/s]"
      ]
     },
     "metadata": {},
     "output_type": "display_data"
    },
    {
     "name": "stdout",
     "output_type": "stream",
     "text": [
      "Simulating Model NGPML_Model_v3.xml\n"
     ]
    },
    {
     "data": {
      "application/vnd.jupyter.widget-view+json": {
       "model_id": "1537c54e2faa49f8afa398419a70c494",
       "version_major": 2,
       "version_minor": 0
      },
      "text/plain": [
       "sim_data:   0%|          | 0/500 [00:00<?, ?tasks/s]"
      ]
     },
     "metadata": {},
     "output_type": "display_data"
    },
    {
     "name": "stdout",
     "output_type": "stream",
     "text": [
      "Simulating Model NGMPL_Model_v3.xml\n"
     ]
    },
    {
     "data": {
      "application/vnd.jupyter.widget-view+json": {
       "model_id": "eb7246f9f307480ea941d62b752655de",
       "version_major": 2,
       "version_minor": 0
      },
      "text/plain": [
       "sim_data:   0%|          | 0/500 [00:00<?, ?tasks/s]"
      ]
     },
     "metadata": {},
     "output_type": "display_data"
    },
    {
     "name": "stdout",
     "output_type": "stream",
     "text": [
      "------------------------------------------------------------------\n",
      "\n",
      "evaluation:25\n",
      "Time Since Starting (s):1242.5936331748962\n",
      "predictions: [4514.441  1964.7274 2666.7912 1390.0884 4183.0312]\n",
      "test statistic: 40623.244475440035\n",
      "\n",
      "------------------------------------------------------------------\n",
      "Simulating Model NMGPL_Model_v3.xml\n"
     ]
    },
    {
     "data": {
      "application/vnd.jupyter.widget-view+json": {
       "model_id": "4d866f4058104068ba32e31f2bff3862",
       "version_major": 2,
       "version_minor": 0
      },
      "text/plain": [
       "sim_data:   0%|          | 0/500 [00:00<?, ?tasks/s]"
      ]
     },
     "metadata": {},
     "output_type": "display_data"
    },
    {
     "name": "stdout",
     "output_type": "stream",
     "text": [
      "Simulating Model NPMGL_Model_v3.xml\n"
     ]
    },
    {
     "data": {
      "application/vnd.jupyter.widget-view+json": {
       "model_id": "338cd9b5ac36439b84659a13959a8d09",
       "version_major": 2,
       "version_minor": 0
      },
      "text/plain": [
       "sim_data:   0%|          | 0/500 [00:00<?, ?tasks/s]"
      ]
     },
     "metadata": {},
     "output_type": "display_data"
    },
    {
     "name": "stdout",
     "output_type": "stream",
     "text": [
      "Simulating Model NMPGL_Model_v3.xml\n"
     ]
    },
    {
     "data": {
      "application/vnd.jupyter.widget-view+json": {
       "model_id": "db13a0a3d3ca4dcf8bcd99948ed9c24e",
       "version_major": 2,
       "version_minor": 0
      },
      "text/plain": [
       "sim_data:   0%|          | 0/500 [00:00<?, ?tasks/s]"
      ]
     },
     "metadata": {},
     "output_type": "display_data"
    },
    {
     "name": "stdout",
     "output_type": "stream",
     "text": [
      "Simulating Model NGPML_Model_v3.xml\n"
     ]
    },
    {
     "data": {
      "application/vnd.jupyter.widget-view+json": {
       "model_id": "04be5a1e3a374b3a95d143af07ffa552",
       "version_major": 2,
       "version_minor": 0
      },
      "text/plain": [
       "sim_data:   0%|          | 0/500 [00:00<?, ?tasks/s]"
      ]
     },
     "metadata": {},
     "output_type": "display_data"
    },
    {
     "name": "stdout",
     "output_type": "stream",
     "text": [
      "Simulating Model NGMPL_Model_v3.xml\n"
     ]
    },
    {
     "data": {
      "application/vnd.jupyter.widget-view+json": {
       "model_id": "85851a3056824b57af959b1f3269f1dc",
       "version_major": 2,
       "version_minor": 0
      },
      "text/plain": [
       "sim_data:   0%|          | 0/500 [00:00<?, ?tasks/s]"
      ]
     },
     "metadata": {},
     "output_type": "display_data"
    },
    {
     "name": "stdout",
     "output_type": "stream",
     "text": [
      "------------------------------------------------------------------\n",
      "\n",
      "evaluation:26\n",
      "Time Since Starting (s):1297.7912266254425\n",
      "predictions: [4186.8432 1839.986  2460.945  1268.8408 3890.1308]\n",
      "test statistic: 21026.069812103982\n",
      "\n",
      "------------------------------------------------------------------\n",
      "Simulating Model NMGPL_Model_v3.xml\n"
     ]
    },
    {
     "data": {
      "application/vnd.jupyter.widget-view+json": {
       "model_id": "35de6e4a5916477b844d9a9a14d270b4",
       "version_major": 2,
       "version_minor": 0
      },
      "text/plain": [
       "sim_data:   0%|          | 0/500 [00:00<?, ?tasks/s]"
      ]
     },
     "metadata": {},
     "output_type": "display_data"
    },
    {
     "name": "stdout",
     "output_type": "stream",
     "text": [
      "Simulating Model NPMGL_Model_v3.xml\n"
     ]
    },
    {
     "data": {
      "application/vnd.jupyter.widget-view+json": {
       "model_id": "7468bb96209b486cb5b43825b3a2f94d",
       "version_major": 2,
       "version_minor": 0
      },
      "text/plain": [
       "sim_data:   0%|          | 0/500 [00:00<?, ?tasks/s]"
      ]
     },
     "metadata": {},
     "output_type": "display_data"
    },
    {
     "name": "stdout",
     "output_type": "stream",
     "text": [
      "Simulating Model NMPGL_Model_v3.xml\n"
     ]
    },
    {
     "data": {
      "application/vnd.jupyter.widget-view+json": {
       "model_id": "78fda2cb52e5462da247f357221d4035",
       "version_major": 2,
       "version_minor": 0
      },
      "text/plain": [
       "sim_data:   0%|          | 0/500 [00:00<?, ?tasks/s]"
      ]
     },
     "metadata": {},
     "output_type": "display_data"
    },
    {
     "name": "stdout",
     "output_type": "stream",
     "text": [
      "Simulating Model NGPML_Model_v3.xml\n"
     ]
    },
    {
     "data": {
      "application/vnd.jupyter.widget-view+json": {
       "model_id": "d95cfa52655b4b80b91261c3ec3c5aaf",
       "version_major": 2,
       "version_minor": 0
      },
      "text/plain": [
       "sim_data:   0%|          | 0/500 [00:00<?, ?tasks/s]"
      ]
     },
     "metadata": {},
     "output_type": "display_data"
    },
    {
     "name": "stdout",
     "output_type": "stream",
     "text": [
      "Simulating Model NGMPL_Model_v3.xml\n"
     ]
    },
    {
     "data": {
      "application/vnd.jupyter.widget-view+json": {
       "model_id": "bbd8a486105348c989a2362df752e930",
       "version_major": 2,
       "version_minor": 0
      },
      "text/plain": [
       "sim_data:   0%|          | 0/500 [00:00<?, ?tasks/s]"
      ]
     },
     "metadata": {},
     "output_type": "display_data"
    },
    {
     "name": "stdout",
     "output_type": "stream",
     "text": [
      "------------------------------------------------------------------\n",
      "\n",
      "evaluation:27\n",
      "Time Since Starting (s):1348.3952131271362\n",
      "predictions: [4550.1842 2006.4014 2692.1116 1378.6968 4268.2974]\n",
      "test statistic: 53735.685976632056\n",
      "\n",
      "------------------------------------------------------------------\n",
      "Simulating Model NMGPL_Model_v3.xml\n"
     ]
    },
    {
     "data": {
      "application/vnd.jupyter.widget-view+json": {
       "model_id": "adf90035343a4e08a1dd68039c82d537",
       "version_major": 2,
       "version_minor": 0
      },
      "text/plain": [
       "sim_data:   0%|          | 0/500 [00:00<?, ?tasks/s]"
      ]
     },
     "metadata": {},
     "output_type": "display_data"
    },
    {
     "name": "stdout",
     "output_type": "stream",
     "text": [
      "Simulating Model NPMGL_Model_v3.xml\n"
     ]
    },
    {
     "data": {
      "application/vnd.jupyter.widget-view+json": {
       "model_id": "fccfb85245c549b2a5db32ab8b5da08f",
       "version_major": 2,
       "version_minor": 0
      },
      "text/plain": [
       "sim_data:   0%|          | 0/500 [00:00<?, ?tasks/s]"
      ]
     },
     "metadata": {},
     "output_type": "display_data"
    },
    {
     "name": "stdout",
     "output_type": "stream",
     "text": [
      "Simulating Model NMPGL_Model_v3.xml\n"
     ]
    },
    {
     "data": {
      "application/vnd.jupyter.widget-view+json": {
       "model_id": "663bb0f2ded1423eb12cd5818281e772",
       "version_major": 2,
       "version_minor": 0
      },
      "text/plain": [
       "sim_data:   0%|          | 0/500 [00:00<?, ?tasks/s]"
      ]
     },
     "metadata": {},
     "output_type": "display_data"
    },
    {
     "name": "stdout",
     "output_type": "stream",
     "text": [
      "Simulating Model NGPML_Model_v3.xml\n"
     ]
    },
    {
     "data": {
      "application/vnd.jupyter.widget-view+json": {
       "model_id": "06551d9325dc4fe48979365635a1f0bb",
       "version_major": 2,
       "version_minor": 0
      },
      "text/plain": [
       "sim_data:   0%|          | 0/500 [00:00<?, ?tasks/s]"
      ]
     },
     "metadata": {},
     "output_type": "display_data"
    },
    {
     "name": "stdout",
     "output_type": "stream",
     "text": [
      "Simulating Model NGMPL_Model_v3.xml\n"
     ]
    },
    {
     "data": {
      "application/vnd.jupyter.widget-view+json": {
       "model_id": "28745887c574440696aa05228c7c93d0",
       "version_major": 2,
       "version_minor": 0
      },
      "text/plain": [
       "sim_data:   0%|          | 0/500 [00:00<?, ?tasks/s]"
      ]
     },
     "metadata": {},
     "output_type": "display_data"
    },
    {
     "name": "stdout",
     "output_type": "stream",
     "text": [
      "------------------------------------------------------------------\n",
      "\n",
      "evaluation:28\n",
      "Time Since Starting (s):1396.6243884563446\n",
      "predictions: [4241.9796 1829.7994 2462.7624 1281.891  3868.5924]\n",
      "test statistic: 19731.310625808004\n",
      "\n",
      "------------------------------------------------------------------\n",
      "Simulating Model NMGPL_Model_v3.xml\n"
     ]
    },
    {
     "data": {
      "application/vnd.jupyter.widget-view+json": {
       "model_id": "78c231ec93dd4f0e8ac2ee5230b8f926",
       "version_major": 2,
       "version_minor": 0
      },
      "text/plain": [
       "sim_data:   0%|          | 0/500 [00:00<?, ?tasks/s]"
      ]
     },
     "metadata": {},
     "output_type": "display_data"
    },
    {
     "name": "stdout",
     "output_type": "stream",
     "text": [
      "Simulating Model NPMGL_Model_v3.xml\n"
     ]
    },
    {
     "data": {
      "application/vnd.jupyter.widget-view+json": {
       "model_id": "8188edcbe8bd495a93523ef3b618f426",
       "version_major": 2,
       "version_minor": 0
      },
      "text/plain": [
       "sim_data:   0%|          | 0/500 [00:00<?, ?tasks/s]"
      ]
     },
     "metadata": {},
     "output_type": "display_data"
    },
    {
     "name": "stdout",
     "output_type": "stream",
     "text": [
      "Simulating Model NMPGL_Model_v3.xml\n"
     ]
    },
    {
     "data": {
      "application/vnd.jupyter.widget-view+json": {
       "model_id": "a1fb5d7bcf1a4597a21fb564e899ca9e",
       "version_major": 2,
       "version_minor": 0
      },
      "text/plain": [
       "sim_data:   0%|          | 0/500 [00:00<?, ?tasks/s]"
      ]
     },
     "metadata": {},
     "output_type": "display_data"
    },
    {
     "name": "stdout",
     "output_type": "stream",
     "text": [
      "Simulating Model NGPML_Model_v3.xml\n"
     ]
    },
    {
     "data": {
      "application/vnd.jupyter.widget-view+json": {
       "model_id": "482dfc4ca2fc45d38346619ac6464ba3",
       "version_major": 2,
       "version_minor": 0
      },
      "text/plain": [
       "sim_data:   0%|          | 0/500 [00:00<?, ?tasks/s]"
      ]
     },
     "metadata": {},
     "output_type": "display_data"
    },
    {
     "name": "stdout",
     "output_type": "stream",
     "text": [
      "Simulating Model NGMPL_Model_v3.xml\n"
     ]
    },
    {
     "data": {
      "application/vnd.jupyter.widget-view+json": {
       "model_id": "05a78b249dba488dab453fc81b26d2b1",
       "version_major": 2,
       "version_minor": 0
      },
      "text/plain": [
       "sim_data:   0%|          | 0/500 [00:00<?, ?tasks/s]"
      ]
     },
     "metadata": {},
     "output_type": "display_data"
    },
    {
     "name": "stdout",
     "output_type": "stream",
     "text": [
      "------------------------------------------------------------------\n",
      "\n",
      "evaluation:29\n",
      "Time Since Starting (s):1447.2774877548218\n",
      "predictions: [4570.5506 2013.759  2677.7738 1398.0288 4288.8894]\n",
      "test statistic: 56616.37261391994\n",
      "\n",
      "------------------------------------------------------------------\n",
      "Simulating Model NMGPL_Model_v3.xml\n"
     ]
    },
    {
     "data": {
      "application/vnd.jupyter.widget-view+json": {
       "model_id": "a07e8e54528c49e3acfcee4ae830fd5b",
       "version_major": 2,
       "version_minor": 0
      },
      "text/plain": [
       "sim_data:   0%|          | 0/500 [00:00<?, ?tasks/s]"
      ]
     },
     "metadata": {},
     "output_type": "display_data"
    },
    {
     "name": "stdout",
     "output_type": "stream",
     "text": [
      "Simulating Model NPMGL_Model_v3.xml\n"
     ]
    },
    {
     "data": {
      "application/vnd.jupyter.widget-view+json": {
       "model_id": "df9553687b2f43d4a125a355bc54ba7e",
       "version_major": 2,
       "version_minor": 0
      },
      "text/plain": [
       "sim_data:   0%|          | 0/500 [00:00<?, ?tasks/s]"
      ]
     },
     "metadata": {},
     "output_type": "display_data"
    },
    {
     "name": "stdout",
     "output_type": "stream",
     "text": [
      "Simulating Model NMPGL_Model_v3.xml\n"
     ]
    },
    {
     "data": {
      "application/vnd.jupyter.widget-view+json": {
       "model_id": "225ec3d5695e438ea89142d381eed100",
       "version_major": 2,
       "version_minor": 0
      },
      "text/plain": [
       "sim_data:   0%|          | 0/500 [00:00<?, ?tasks/s]"
      ]
     },
     "metadata": {},
     "output_type": "display_data"
    },
    {
     "name": "stdout",
     "output_type": "stream",
     "text": [
      "Simulating Model NGPML_Model_v3.xml\n"
     ]
    },
    {
     "data": {
      "application/vnd.jupyter.widget-view+json": {
       "model_id": "d4d4c1cc15cb4fa4948bd07669c1d23f",
       "version_major": 2,
       "version_minor": 0
      },
      "text/plain": [
       "sim_data:   0%|          | 0/500 [00:00<?, ?tasks/s]"
      ]
     },
     "metadata": {},
     "output_type": "display_data"
    },
    {
     "name": "stdout",
     "output_type": "stream",
     "text": [
      "Simulating Model NGMPL_Model_v3.xml\n"
     ]
    },
    {
     "data": {
      "application/vnd.jupyter.widget-view+json": {
       "model_id": "36bb304240414faaa039bc12d5393c96",
       "version_major": 2,
       "version_minor": 0
      },
      "text/plain": [
       "sim_data:   0%|          | 0/500 [00:00<?, ?tasks/s]"
      ]
     },
     "metadata": {},
     "output_type": "display_data"
    },
    {
     "name": "stdout",
     "output_type": "stream",
     "text": [
      "------------------------------------------------------------------\n",
      "\n",
      "evaluation:30\n",
      "Time Since Starting (s):1495.2142333984375\n",
      "predictions: [4200.7582 1797.7656 2488.8168 1279.7906 3857.32  ]\n",
      "test statistic: 27078.954164239993\n",
      "\n",
      "------------------------------------------------------------------\n",
      "Simulating Model NMGPL_Model_v3.xml\n"
     ]
    },
    {
     "data": {
      "application/vnd.jupyter.widget-view+json": {
       "model_id": "5204cfe5fd824ae49774aa2556167ad3",
       "version_major": 2,
       "version_minor": 0
      },
      "text/plain": [
       "sim_data:   0%|          | 0/500 [00:00<?, ?tasks/s]"
      ]
     },
     "metadata": {},
     "output_type": "display_data"
    },
    {
     "name": "stdout",
     "output_type": "stream",
     "text": [
      "Simulating Model NPMGL_Model_v3.xml\n"
     ]
    },
    {
     "data": {
      "application/vnd.jupyter.widget-view+json": {
       "model_id": "2c46d9945d9449e38e1a0021650be472",
       "version_major": 2,
       "version_minor": 0
      },
      "text/plain": [
       "sim_data:   0%|          | 0/500 [00:00<?, ?tasks/s]"
      ]
     },
     "metadata": {},
     "output_type": "display_data"
    },
    {
     "name": "stdout",
     "output_type": "stream",
     "text": [
      "Simulating Model NMPGL_Model_v3.xml\n"
     ]
    },
    {
     "data": {
      "application/vnd.jupyter.widget-view+json": {
       "model_id": "fdecb98283bb4858a3a89d87980f559b",
       "version_major": 2,
       "version_minor": 0
      },
      "text/plain": [
       "sim_data:   0%|          | 0/500 [00:00<?, ?tasks/s]"
      ]
     },
     "metadata": {},
     "output_type": "display_data"
    },
    {
     "name": "stdout",
     "output_type": "stream",
     "text": [
      "Simulating Model NGPML_Model_v3.xml\n"
     ]
    },
    {
     "data": {
      "application/vnd.jupyter.widget-view+json": {
       "model_id": "1fab38a96b394399aa862f0cfdb1155b",
       "version_major": 2,
       "version_minor": 0
      },
      "text/plain": [
       "sim_data:   0%|          | 0/500 [00:00<?, ?tasks/s]"
      ]
     },
     "metadata": {},
     "output_type": "display_data"
    },
    {
     "name": "stdout",
     "output_type": "stream",
     "text": [
      "Simulating Model NGMPL_Model_v3.xml\n"
     ]
    },
    {
     "data": {
      "application/vnd.jupyter.widget-view+json": {
       "model_id": "3537d74a8b7a43b1b3786eb1f3606a3a",
       "version_major": 2,
       "version_minor": 0
      },
      "text/plain": [
       "sim_data:   0%|          | 0/500 [00:00<?, ?tasks/s]"
      ]
     },
     "metadata": {},
     "output_type": "display_data"
    },
    {
     "name": "stdout",
     "output_type": "stream",
     "text": [
      "------------------------------------------------------------------\n",
      "\n",
      "evaluation:31\n",
      "Time Since Starting (s):1553.3697528839111\n",
      "predictions: [4101.2298 1806.6348 2426.163  1259.5594 3806.2912]\n",
      "test statistic: 33961.040094775984\n",
      "\n",
      "------------------------------------------------------------------\n",
      "Simulating Model NMGPL_Model_v3.xml\n"
     ]
    },
    {
     "data": {
      "application/vnd.jupyter.widget-view+json": {
       "model_id": "442d002391834d6fbf580fe86bf03277",
       "version_major": 2,
       "version_minor": 0
      },
      "text/plain": [
       "sim_data:   0%|          | 0/500 [00:00<?, ?tasks/s]"
      ]
     },
     "metadata": {},
     "output_type": "display_data"
    },
    {
     "name": "stdout",
     "output_type": "stream",
     "text": [
      "Simulating Model NPMGL_Model_v3.xml\n"
     ]
    },
    {
     "data": {
      "application/vnd.jupyter.widget-view+json": {
       "model_id": "d7fc02d39b0d4eab9a0df45305c99292",
       "version_major": 2,
       "version_minor": 0
      },
      "text/plain": [
       "sim_data:   0%|          | 0/500 [00:00<?, ?tasks/s]"
      ]
     },
     "metadata": {},
     "output_type": "display_data"
    },
    {
     "name": "stdout",
     "output_type": "stream",
     "text": [
      "Simulating Model NMPGL_Model_v3.xml\n"
     ]
    },
    {
     "data": {
      "application/vnd.jupyter.widget-view+json": {
       "model_id": "529a61e0754b4384a3419d7246695658",
       "version_major": 2,
       "version_minor": 0
      },
      "text/plain": [
       "sim_data:   0%|          | 0/500 [00:00<?, ?tasks/s]"
      ]
     },
     "metadata": {},
     "output_type": "display_data"
    },
    {
     "name": "stdout",
     "output_type": "stream",
     "text": [
      "Simulating Model NGPML_Model_v3.xml\n"
     ]
    },
    {
     "data": {
      "application/vnd.jupyter.widget-view+json": {
       "model_id": "0e740ed58525421b922d7b1412c811ec",
       "version_major": 2,
       "version_minor": 0
      },
      "text/plain": [
       "sim_data:   0%|          | 0/500 [00:00<?, ?tasks/s]"
      ]
     },
     "metadata": {},
     "output_type": "display_data"
    },
    {
     "name": "stdout",
     "output_type": "stream",
     "text": [
      "Simulating Model NGMPL_Model_v3.xml\n"
     ]
    },
    {
     "data": {
      "application/vnd.jupyter.widget-view+json": {
       "model_id": "11e0d3d92f824861bf6ac779b9820f69",
       "version_major": 2,
       "version_minor": 0
      },
      "text/plain": [
       "sim_data:   0%|          | 0/500 [00:00<?, ?tasks/s]"
      ]
     },
     "metadata": {},
     "output_type": "display_data"
    },
    {
     "name": "stdout",
     "output_type": "stream",
     "text": [
      "------------------------------------------------------------------\n",
      "\n",
      "evaluation:32\n",
      "Time Since Starting (s):1602.8157999515533\n",
      "predictions: [4391.0462 1910.1974 2596.8978 1332.6524 4083.0068]\n",
      "test statistic: 22369.60312360802\n",
      "\n",
      "------------------------------------------------------------------\n",
      "Simulating Model NMGPL_Model_v3.xml\n"
     ]
    },
    {
     "data": {
      "application/vnd.jupyter.widget-view+json": {
       "model_id": "7025515ec4034825bcf134ca7f95041d",
       "version_major": 2,
       "version_minor": 0
      },
      "text/plain": [
       "sim_data:   0%|          | 0/500 [00:00<?, ?tasks/s]"
      ]
     },
     "metadata": {},
     "output_type": "display_data"
    },
    {
     "name": "stdout",
     "output_type": "stream",
     "text": [
      "Simulating Model NPMGL_Model_v3.xml\n"
     ]
    },
    {
     "data": {
      "application/vnd.jupyter.widget-view+json": {
       "model_id": "45c0952da4da4aa685a4604a0a754646",
       "version_major": 2,
       "version_minor": 0
      },
      "text/plain": [
       "sim_data:   0%|          | 0/500 [00:00<?, ?tasks/s]"
      ]
     },
     "metadata": {},
     "output_type": "display_data"
    },
    {
     "name": "stdout",
     "output_type": "stream",
     "text": [
      "Simulating Model NMPGL_Model_v3.xml\n"
     ]
    },
    {
     "data": {
      "application/vnd.jupyter.widget-view+json": {
       "model_id": "084bb1aedad44bd098857b7c5c279e74",
       "version_major": 2,
       "version_minor": 0
      },
      "text/plain": [
       "sim_data:   0%|          | 0/500 [00:00<?, ?tasks/s]"
      ]
     },
     "metadata": {},
     "output_type": "display_data"
    },
    {
     "name": "stdout",
     "output_type": "stream",
     "text": [
      "Simulating Model NGPML_Model_v3.xml\n"
     ]
    },
    {
     "data": {
      "application/vnd.jupyter.widget-view+json": {
       "model_id": "41528cf47359477abd2fc6a34769da98",
       "version_major": 2,
       "version_minor": 0
      },
      "text/plain": [
       "sim_data:   0%|          | 0/500 [00:00<?, ?tasks/s]"
      ]
     },
     "metadata": {},
     "output_type": "display_data"
    },
    {
     "name": "stdout",
     "output_type": "stream",
     "text": [
      "Simulating Model NGMPL_Model_v3.xml\n"
     ]
    },
    {
     "data": {
      "application/vnd.jupyter.widget-view+json": {
       "model_id": "c417fa6367ab4e44956d4f791ab5f7b7",
       "version_major": 2,
       "version_minor": 0
      },
      "text/plain": [
       "sim_data:   0%|          | 0/500 [00:00<?, ?tasks/s]"
      ]
     },
     "metadata": {},
     "output_type": "display_data"
    },
    {
     "name": "stdout",
     "output_type": "stream",
     "text": [
      "------------------------------------------------------------------\n",
      "\n",
      "evaluation:33\n",
      "Time Since Starting (s):1650.5717554092407\n",
      "predictions: [4108.5196 1798.5076 2444.4088 1294.1208 3782.6202]\n",
      "test statistic: 35980.26720000806\n",
      "\n",
      "------------------------------------------------------------------\n",
      "Simulating Model NMGPL_Model_v3.xml\n"
     ]
    },
    {
     "data": {
      "application/vnd.jupyter.widget-view+json": {
       "model_id": "ccd4e4948c40492280e2b5a1f78a70a1",
       "version_major": 2,
       "version_minor": 0
      },
      "text/plain": [
       "sim_data:   0%|          | 0/500 [00:00<?, ?tasks/s]"
      ]
     },
     "metadata": {},
     "output_type": "display_data"
    },
    {
     "name": "stdout",
     "output_type": "stream",
     "text": [
      "Simulating Model NPMGL_Model_v3.xml\n"
     ]
    },
    {
     "data": {
      "application/vnd.jupyter.widget-view+json": {
       "model_id": "fbff6ba867134e8ab361e9a66f5c25da",
       "version_major": 2,
       "version_minor": 0
      },
      "text/plain": [
       "sim_data:   0%|          | 0/500 [00:00<?, ?tasks/s]"
      ]
     },
     "metadata": {},
     "output_type": "display_data"
    },
    {
     "name": "stdout",
     "output_type": "stream",
     "text": [
      "Simulating Model NMPGL_Model_v3.xml\n"
     ]
    },
    {
     "data": {
      "application/vnd.jupyter.widget-view+json": {
       "model_id": "833b171468fb45afb67451ad88f3584f",
       "version_major": 2,
       "version_minor": 0
      },
      "text/plain": [
       "sim_data:   0%|          | 0/500 [00:00<?, ?tasks/s]"
      ]
     },
     "metadata": {},
     "output_type": "display_data"
    },
    {
     "name": "stdout",
     "output_type": "stream",
     "text": [
      "Simulating Model NGPML_Model_v3.xml\n"
     ]
    },
    {
     "data": {
      "application/vnd.jupyter.widget-view+json": {
       "model_id": "b2a5a272f2d44bf49be2eda950e33cac",
       "version_major": 2,
       "version_minor": 0
      },
      "text/plain": [
       "sim_data:   0%|          | 0/500 [00:00<?, ?tasks/s]"
      ]
     },
     "metadata": {},
     "output_type": "display_data"
    },
    {
     "name": "stdout",
     "output_type": "stream",
     "text": [
      "Simulating Model NGMPL_Model_v3.xml\n"
     ]
    },
    {
     "data": {
      "application/vnd.jupyter.widget-view+json": {
       "model_id": "0edc6c763eeb4fbb84ed1bca43edf460",
       "version_major": 2,
       "version_minor": 0
      },
      "text/plain": [
       "sim_data:   0%|          | 0/500 [00:00<?, ?tasks/s]"
      ]
     },
     "metadata": {},
     "output_type": "display_data"
    },
    {
     "name": "stdout",
     "output_type": "stream",
     "text": [
      "------------------------------------------------------------------\n",
      "\n",
      "evaluation:34\n",
      "Time Since Starting (s):1700.073930978775\n",
      "predictions: [4344.1106 1926.877  2635.7828 1314.7832 4062.3486]\n",
      "test statistic: 23936.253732279987\n",
      "\n",
      "------------------------------------------------------------------\n",
      "Simulating Model NMGPL_Model_v3.xml\n"
     ]
    },
    {
     "data": {
      "application/vnd.jupyter.widget-view+json": {
       "model_id": "12ef08e6cd7b41029a0a154ac3ec448b",
       "version_major": 2,
       "version_minor": 0
      },
      "text/plain": [
       "sim_data:   0%|          | 0/500 [00:00<?, ?tasks/s]"
      ]
     },
     "metadata": {},
     "output_type": "display_data"
    },
    {
     "name": "stdout",
     "output_type": "stream",
     "text": [
      "Simulating Model NPMGL_Model_v3.xml\n"
     ]
    },
    {
     "data": {
      "application/vnd.jupyter.widget-view+json": {
       "model_id": "24521c0a5d9a4594a4e3bedae2c2c3ff",
       "version_major": 2,
       "version_minor": 0
      },
      "text/plain": [
       "sim_data:   0%|          | 0/500 [00:00<?, ?tasks/s]"
      ]
     },
     "metadata": {},
     "output_type": "display_data"
    },
    {
     "name": "stdout",
     "output_type": "stream",
     "text": [
      "Simulating Model NMPGL_Model_v3.xml\n"
     ]
    },
    {
     "data": {
      "application/vnd.jupyter.widget-view+json": {
       "model_id": "b2c5c0139e0544eba677323accf24ab1",
       "version_major": 2,
       "version_minor": 0
      },
      "text/plain": [
       "sim_data:   0%|          | 0/500 [00:00<?, ?tasks/s]"
      ]
     },
     "metadata": {},
     "output_type": "display_data"
    },
    {
     "name": "stdout",
     "output_type": "stream",
     "text": [
      "Simulating Model NGPML_Model_v3.xml\n"
     ]
    },
    {
     "data": {
      "application/vnd.jupyter.widget-view+json": {
       "model_id": "2b111e4c0f5045239cfaa84f670baa6d",
       "version_major": 2,
       "version_minor": 0
      },
      "text/plain": [
       "sim_data:   0%|          | 0/500 [00:00<?, ?tasks/s]"
      ]
     },
     "metadata": {},
     "output_type": "display_data"
    },
    {
     "name": "stdout",
     "output_type": "stream",
     "text": [
      "Simulating Model NGMPL_Model_v3.xml\n"
     ]
    },
    {
     "data": {
      "application/vnd.jupyter.widget-view+json": {
       "model_id": "846caf0bbd374a9c8864d8db872b2184",
       "version_major": 2,
       "version_minor": 0
      },
      "text/plain": [
       "sim_data:   0%|          | 0/500 [00:00<?, ?tasks/s]"
      ]
     },
     "metadata": {},
     "output_type": "display_data"
    },
    {
     "name": "stdout",
     "output_type": "stream",
     "text": [
      "------------------------------------------------------------------\n",
      "\n",
      "evaluation:35\n",
      "Time Since Starting (s):1749.8774535655975\n",
      "predictions: [4377.47   1946.5954 2608.7324 1349.2316 4061.2846]\n",
      "test statistic: 20308.886489327993\n",
      "\n",
      "------------------------------------------------------------------\n",
      "Simulating Model NMGPL_Model_v3.xml\n"
     ]
    },
    {
     "data": {
      "application/vnd.jupyter.widget-view+json": {
       "model_id": "e0271affd93844ddbc44a016bdfcace0",
       "version_major": 2,
       "version_minor": 0
      },
      "text/plain": [
       "sim_data:   0%|          | 0/500 [00:00<?, ?tasks/s]"
      ]
     },
     "metadata": {},
     "output_type": "display_data"
    },
    {
     "name": "stdout",
     "output_type": "stream",
     "text": [
      "Simulating Model NPMGL_Model_v3.xml\n"
     ]
    },
    {
     "data": {
      "application/vnd.jupyter.widget-view+json": {
       "model_id": "eff9e4a0dd1e4d7a805ad7494dcddc9f",
       "version_major": 2,
       "version_minor": 0
      },
      "text/plain": [
       "sim_data:   0%|          | 0/500 [00:00<?, ?tasks/s]"
      ]
     },
     "metadata": {},
     "output_type": "display_data"
    },
    {
     "name": "stdout",
     "output_type": "stream",
     "text": [
      "Simulating Model NMPGL_Model_v3.xml\n"
     ]
    },
    {
     "data": {
      "application/vnd.jupyter.widget-view+json": {
       "model_id": "232b5b55473c4042be103ee2006c246b",
       "version_major": 2,
       "version_minor": 0
      },
      "text/plain": [
       "sim_data:   0%|          | 0/500 [00:00<?, ?tasks/s]"
      ]
     },
     "metadata": {},
     "output_type": "display_data"
    },
    {
     "name": "stdout",
     "output_type": "stream",
     "text": [
      "Simulating Model NGPML_Model_v3.xml\n"
     ]
    },
    {
     "data": {
      "application/vnd.jupyter.widget-view+json": {
       "model_id": "a085f02282f24b628bb3f7a460c49804",
       "version_major": 2,
       "version_minor": 0
      },
      "text/plain": [
       "sim_data:   0%|          | 0/500 [00:00<?, ?tasks/s]"
      ]
     },
     "metadata": {},
     "output_type": "display_data"
    },
    {
     "name": "stdout",
     "output_type": "stream",
     "text": [
      "Simulating Model NGMPL_Model_v3.xml\n"
     ]
    },
    {
     "data": {
      "application/vnd.jupyter.widget-view+json": {
       "model_id": "702dc50d437749f7aad0d2f8370e7abb",
       "version_major": 2,
       "version_minor": 0
      },
      "text/plain": [
       "sim_data:   0%|          | 0/500 [00:00<?, ?tasks/s]"
      ]
     },
     "metadata": {},
     "output_type": "display_data"
    },
    {
     "name": "stdout",
     "output_type": "stream",
     "text": [
      "------------------------------------------------------------------\n",
      "\n",
      "evaluation:36\n",
      "Time Since Starting (s):1798.9105007648468\n",
      "predictions: [4225.423  1861.5054 2495.9776 1305.5854 3872.9924]\n",
      "test statistic: 18917.188402168023\n",
      "\n",
      "------------------------------------------------------------------\n"
     ]
    }
   ],
   "source": [
    "# perform the optimization\n",
    "tol = 10000\n",
    "mi = 100\n",
    "start = time.time()\n",
    "res = minimize(obj_func, start_guess,method = 'Nelder-Mead', tol = tol, options = {\"maxiter\" : mi}) # perform optimization\n"
   ]
  },
  {
   "cell_type": "code",
   "execution_count": 26,
   "id": "7e664eeb",
   "metadata": {},
   "outputs": [],
   "source": [
    "# update the parameters to include the other parameters fit as a unit.\n",
    "pars_df = [\"Transcription Rates\", \"Genome/Antigenome Synthesis Rates\", \"Genome/Antigenome Degradation Rates\", \"mRNA Degradation Rates\", \"Protein Degradation Rates\"] + pars_to_fit"
   ]
  },
  {
   "cell_type": "code",
   "execution_count": 27,
   "id": "db1f8448",
   "metadata": {},
   "outputs": [],
   "source": [
    "# create and save the new dataframe\n",
    "functions_outputs = []\n",
    "parameter_values = []\n",
    "parameter_names = []\n",
    "tolerance = []\n",
    "maxiter = []\n",
    "num_iter = []\n",
    "functions_outputs.append(res.fun)\n",
    "num_iter.append(res.nit)\n",
    "parameter_values.append(res.x)\n",
    "parameter_names.append(pars_df)\n",
    "tolerance.append(tol)\n",
    "maxiter.append(mi)\n",
    "df = pd.DataFrame([functions_outputs, parameter_values, parameter_names, tolerance, maxiter, num_iter]).T\n",
    "df.columns = [\"obj function output\", \"parameter values\", \"parameter names\", \"tolerance\", \"maxiter\", \"number of iterations\"]\n"
   ]
  },
  {
   "cell_type": "code",
   "execution_count": 28,
   "id": "346bd1fc",
   "metadata": {},
   "outputs": [],
   "source": [
    "df.to_csv(\"vsv_fits_SSA_v1_2023_06_21.csv\")"
   ]
  },
  {
   "cell_type": "code",
   "execution_count": 41,
   "id": "80f6c655",
   "metadata": {},
   "outputs": [],
   "source": [
    "# read it back in and collect the pit parameters\n",
    "df = pd.read_csv(\"vsv_fits_SSA_v1_2023_06_21.csv\", index_col = 0)\n",
    "best_fit = df[df[\"obj function output\"] ==  np.min(df[\"obj function output\"])]\n",
    "best_fit = list(best_fit[\"parameter values\"])[0]\n",
    "best_fit = best_fit.replace(\"[\", \"\").replace(\"]\", \"\").replace(\"\\n\", \"\").replace(\" \", \",\").split(\",\")\n",
    "best_fit = [float(x) for x in best_fit]\n"
   ]
  },
  {
   "cell_type": "code",
   "execution_count": null,
   "id": "f8865334",
   "metadata": {},
   "outputs": [],
   "source": [
    "\n",
    "mod_path =path + \"/Models/\"\n",
    "files =  [\"NMGPL_Model_v3.xml\", \"NPMGL_Model_v3.xml\", \"NMPGL_Model_v3.xml\", \"NGPML_Model_v3.xml\", \"NGMPL_Model_v3.xml\"] # ,\"NMPGL_Model.xml\", \"NGMPL_Model.xml\", \"NGPML_Model.xml\"]\n",
    "models = [mod_path + m for m in files]"
   ]
  },
  {
   "cell_type": "code",
   "execution_count": null,
   "id": "94c47895",
   "metadata": {},
   "outputs": [],
   "source": [
    "# update parameters and save the models. Plot as well to see what is happening\n",
    "data = np.array([4347, 2087, 2348, 1304, 3957])\n",
    "preds = np.zeros(len(models_loaded))\n",
    "\n",
    "for i, model in enumerate(models_loaded):\n",
    "    basico.set_current_model(model)\n",
    "\n",
    "    tr = tran_rates[i]/best_fit[0]\n",
    "    rr = rep_rates[i]/best_fit[1]\n",
    "    gdr = genome_deg_rates[i]/best_fit[2]\n",
    "    mdr = mRNA_deg_rates[i]/best_fit[3]\n",
    "    pdr = prot_deg_rates[i]/best_fit[4]            \n",
    "\n",
    "    reactions = list(genome_deg_rs) + list(mRNA_deg_rs) + list(prot_deg_rs) + list(replication_reactions) + list(transcription_reactions) + pars_to_fit\n",
    "    params = list(gdr) + list(mdr) + list(pdr) + list(rr) + list(tr) + list(best_fit[5:])\n",
    "\n",
    "    for m, param_name in enumerate(reactions):\n",
    "        basico.set_reaction(param_name, mapping={\"k1\": params[m]})\n",
    "    save_model(model_temp[i])\n",
    "\n",
    "        \n",
    "    tc = []\n",
    "    ar_map = dview.map_async(sim_data, [model_temp[i]] * groups)\n",
    "    ar_map.wait_interactive()\n",
    "    res = ar_map.get()\n",
    "    tc += res\n",
    "    print(np.mean(tc))\n",
    "    preds[i] = np.mean(tc)\n",
    "    new_mod = models[i].split(\".\")[0][:-2] + \"SSA.xml\"\n",
    "    save_model(new_mod)\n",
    "    os.remove(model_temp[i])\n",
    "    \n",
    "plt.scatter(range(len(preds)),preds, color = \"blue\")\n",
    "\n",
    "plt.scatter(range(len(data)),data, color = \"red\")\n",
    "plt.ylim(0,4500)"
   ]
  },
  {
   "cell_type": "code",
   "execution_count": 44,
   "id": "87ba43f7",
   "metadata": {},
   "outputs": [
    {
     "data": {
      "text/plain": [
       "'/home/ubuntu/Paper_time/Fit_Parameter_Variants_SSA/stochastic_simulations/'"
      ]
     },
     "execution_count": 44,
     "metadata": {},
     "output_type": "execute_result"
    }
   ],
   "source": [
    "# make path for saving simulated dataset\n",
    "result_path = path + \"/stochastic_simulations/\"\n",
    "result_path"
   ]
  },
  {
   "cell_type": "code",
   "execution_count": 110,
   "id": "92f1b251",
   "metadata": {},
   "outputs": [],
   "source": [
    "# function to be parallelized to get the full trajectories from the simulations\n",
    "def get_full_data(y):\n",
    "    import basico\n",
    "    import pandas as pd\n",
    "    model, x = y\n",
    "    mod = basico.load_model(model)\n",
    "    basico.set_current_model(mod)\n",
    "    basico.set_model_unit(quantity_unit= \"#\")\n",
    "    res = []\n",
    "    for j in range(20):\n",
    "        tc = basico.run_time_course(duration=57000, start_time=0, stepsize=100, method=\"DirectMethod\")\n",
    "        tc[\"model\"] = model\n",
    "        tc[\"iteration\"] = (x * 20) + j + 1\n",
    "        res.append(tc)\n",
    "    basico.remove_datamodel(mod)\n",
    "    return pd.concat(res)"
   ]
  },
  {
   "cell_type": "code",
   "execution_count": 83,
   "id": "74b11a79",
   "metadata": {},
   "outputs": [],
   "source": [
    "# stochastic model names\n",
    "stoch_models = [m.split(\".\")[0][:-2] + \"SSA.xml\" for m in models]"
   ]
  },
  {
   "cell_type": "code",
   "execution_count": 123,
   "id": "0178986a",
   "metadata": {},
   "outputs": [
    {
     "data": {
      "application/vnd.jupyter.widget-view+json": {
       "model_id": "cd4e338f00da4a56947441ee5731fa0c",
       "version_major": 2,
       "version_minor": 0
      },
      "text/plain": [
       "get_full_data:   0%|          | 0/500 [00:00<?, ?tasks/s]"
      ]
     },
     "metadata": {},
     "output_type": "display_data"
    },
    {
     "data": {
      "application/vnd.jupyter.widget-view+json": {
       "model_id": "d456f4de21214a338ecfa11a248e7304",
       "version_major": 2,
       "version_minor": 0
      },
      "text/plain": [
       "get_full_data:   0%|          | 0/500 [00:00<?, ?tasks/s]"
      ]
     },
     "metadata": {},
     "output_type": "display_data"
    },
    {
     "data": {
      "application/vnd.jupyter.widget-view+json": {
       "model_id": "f0ccaef2ae3e409494bcced1f0cf54bc",
       "version_major": 2,
       "version_minor": 0
      },
      "text/plain": [
       "get_full_data:   0%|          | 0/500 [00:00<?, ?tasks/s]"
      ]
     },
     "metadata": {},
     "output_type": "display_data"
    },
    {
     "data": {
      "application/vnd.jupyter.widget-view+json": {
       "model_id": "403b2c92e10a4bf2ac556cd34a81c7a1",
       "version_major": 2,
       "version_minor": 0
      },
      "text/plain": [
       "get_full_data:   0%|          | 0/500 [00:00<?, ?tasks/s]"
      ]
     },
     "metadata": {},
     "output_type": "display_data"
    },
    {
     "data": {
      "application/vnd.jupyter.widget-view+json": {
       "model_id": "7f2a53deb5194b50889346293e7e15a2",
       "version_major": 2,
       "version_minor": 0
      },
      "text/plain": [
       "get_full_data:   0%|          | 0/500 [00:00<?, ?tasks/s]"
      ]
     },
     "metadata": {},
     "output_type": "display_data"
    }
   ],
   "source": [
    "# cycle through the stochastic models and simulate 10000 simulations. Then save the trajectories.\n",
    "for i, model in enumerate(stoch_models):\n",
    "    par_list = list(zip([stoch_models[i]] * groups, range(groups)))\n",
    "    par_list  = [list(x) for x in par_list]\n",
    "    ar_map = dview.map_async(get_full_data,par_list)\n",
    "    ar_map.wait_interactive()\n",
    "    res = ar_map.get()\n",
    "    res = pd.concat(res)\n",
    "    res.to_csv(result_path + stoch_models[i].split(\"/\")[-1].split(\".\")[0] + \"_10000sims.csv\")\n",
    "    "
   ]
  }
 ],
 "metadata": {
  "kernelspec": {
   "display_name": "Python 3",
   "language": "python",
   "name": "python3"
  },
  "language_info": {
   "codemirror_mode": {
    "name": "ipython",
    "version": 3
   },
   "file_extension": ".py",
   "mimetype": "text/x-python",
   "name": "python",
   "nbconvert_exporter": "python",
   "pygments_lexer": "ipython3",
   "version": "3.8.8"
  }
 },
 "nbformat": 4,
 "nbformat_minor": 5
}
