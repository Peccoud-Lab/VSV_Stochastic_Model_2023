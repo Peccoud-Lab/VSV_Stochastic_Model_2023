{
 "cells": [
  {
   "cell_type": "code",
   "execution_count": 1,
   "id": "dab3468b",
   "metadata": {},
   "outputs": [],
   "source": [
    "import pandas as pd #'version 1.2.4'\n",
    "import numpy as np #'version 1.21.0'\n",
    "from basico import * #'version 0.36'\n",
    "import time\n",
    "import matplotlib.pyplot as plt #'version 3.3.4'"
   ]
  },
  {
   "cell_type": "code",
   "execution_count": null,
   "id": "c83a48c2",
   "metadata": {},
   "outputs": [],
   "source": [
    "# define the number of molecules of each species to bind to the genome\n",
    "number_of_mols = [10, 20, 30, 50, 100, 200, 300, 500, 700] \n"
   ]
  },
  {
   "cell_type": "code",
   "execution_count": null,
   "id": "5e44cfbb",
   "metadata": {},
   "outputs": [],
   "source": [
    "files = [f\"{n}_Molecules.xml\" for n in number_of_mols] # define folder names"
   ]
  },
  {
   "cell_type": "code",
   "execution_count": null,
   "id": "8c6bfa7a",
   "metadata": {},
   "outputs": [],
   "source": [
    "# go through each model and record loading times, simulation times, and the number of reactions.\n",
    "load_times = []\n",
    "sim_times = []\n",
    "react_number = []\n",
    "for f in files[0:5]:\n",
    "    print(num)\n",
    "    start = time.time()\n",
    "    mod = load_model(f)\n",
    "    load_times.append(time.time() - start)\n",
    "    set_current_model(mod)\n",
    "    react_number.append(len(get_reactions()))\n",
    "    start = time.time()\n",
    "    tc = run_time_course(duration=57000, start_time=0, stepsize=1000, method=\"LSODA\")\n",
    "    sim_times.append(time.time() - start)\n",
    "    remove_datamodel(mod)\n",
    "    del tc"
   ]
  },
  {
   "cell_type": "code",
   "execution_count": null,
   "id": "d932d53c",
   "metadata": {},
   "outputs": [],
   "source": [
    "for f in files[5:7]: # do the same for the next set of models\n",
    "    print(num)\n",
    "    start = time.time()\n",
    "    mod = load_model(f)\n",
    "    load_times.append(time.time() - start)\n",
    "    set_current_model(mod)\n",
    "    react_number.append(len(get_reactions()))\n",
    "    start = time.time()\n",
    "    tc = run_time_course(duration=57000, start_time=0, stepsize=1000, method=\"LSODA\")\n",
    "    sim_times.append(time.time() - start)\n",
    "    del tc\n",
    "    remove_datamodel(mod)"
   ]
  },
  {
   "cell_type": "code",
   "execution_count": null,
   "id": "ae1c7667",
   "metadata": {},
   "outputs": [],
   "source": [
    "for f in files[7:]: # do the same for the final set of models\n",
    "    print(num)\n",
    "    start = time.time()\n",
    "    mod = load_model(f)\n",
    "    load_times.append(time.time() - start)\n",
    "    set_current_model(mod)\n",
    "    react_number.append(len(get_reactions()))\n",
    "    start = time.time()\n",
    "    tc = run_time_course(duration=57000, start_time=0, stepsize=1000, method=\"LSODA\")\n",
    "    sim_times.append(time.time() - start)\n",
    "    del tc\n",
    "    remove_datamodel(mod)"
   ]
  },
  {
   "cell_type": "code",
   "execution_count": null,
   "id": "dbf6c0e2",
   "metadata": {},
   "outputs": [],
   "source": [
    "# make a dataframe contianing the information about the models.\n",
    "df = pd.DataFrame([folders, react_number, load_times, sim_times]).T\n",
    "df.columns = [\"Number of Each Binding Molecule\", \"Number of Reactions\", \"Loading Time (s)\", \"Simulation Time (s)\"]\n",
    "df.to_csv(\"ODE_Timing_Results.csv\")"
   ]
  },
  {
   "cell_type": "code",
   "execution_count": null,
   "id": "66c62be5",
   "metadata": {},
   "outputs": [],
   "source": [
    "df = pd.read_csv(\"ODE_Timing_Results.csv\") # load in and distribute the data into objects\n",
    "reacts = df[\"Number of Reactions\"] \n",
    "load_time = list(df[\"Loading Time (s)\"])\n",
    "sim_time = list(df[\"Simulation Time (s)\"])"
   ]
  },
  {
   "cell_type": "code",
   "execution_count": null,
   "id": "ec52f1c5",
   "metadata": {},
   "outputs": [],
   "source": [
    "# plot and save the graph of loading times vs number of reactions\n",
    "plt.figure(figsize=(8, 6))\n",
    "\n",
    "plt.xlabel(\"Number of Reactions\")\n",
    "plt.ylabel(\"Loading Time (s)\")\n",
    "plt.grid(True, linestyle='--', alpha=0.5)\n",
    "title_font = {\n",
    "    'fontsize': 12,\n",
    "    'fontweight': 'bold',\n",
    "    'verticalalignment': 'baseline',\n",
    "    'horizontalalignment': 'center',\n",
    "    'verticalalignment': 'bottom',\n",
    "    'y': 10\n",
    "}\n",
    "\n",
    "plt.title(\"Loading Time vs Number of Reactions\", fontdict=title_font)\n",
    "\n",
    "plt.plot(reacts, load_time, color = \"blue\")\n",
    "plt.scatter(reacts, load_time, color = \"blue\")\n",
    "plt.ylim(0,600)\n",
    "plt.xlim(0,25000)\n",
    "\n",
    "plt.savefig('ODE_Loading_Time_vs_Reactions.svg', dpi=600)\n",
    "plt.show()"
   ]
  },
  {
   "cell_type": "code",
   "execution_count": null,
   "id": "6bc9d871",
   "metadata": {},
   "outputs": [],
   "source": [
    "# plot and save the graph of simulation times vs number of reactions\n",
    "plt.figure(figsize=(8, 6))\n",
    "\n",
    "plt.xlabel(\"Number of Reactions\")\n",
    "plt.ylabel(\"Simulation Time (s)\")\n",
    "plt.grid(True, linestyle='--', alpha=0.5)\n",
    "title_font = {\n",
    "    'fontsize': 12,\n",
    "    'fontweight': 'bold',\n",
    "    'verticalalignment': 'baseline',\n",
    "    'horizontalalignment': 'center',\n",
    "    'verticalalignment': 'bottom',\n",
    "    'y': 10\n",
    "}\n",
    "\n",
    "plt.title(\"Simulation Time vs Number of Reactions\", fontdict=title_font)\n",
    "\n",
    "plt.plot(reacts, sim_time, color = \"blue\")\n",
    "plt.scatter(reacts, sim_time, color = \"blue\")\n",
    "plt.ylim(0,8000)\n",
    "plt.xlim(0,25000)\n",
    "\n",
    "plt.savefig('ODE_Simulation_Time_vs_Reactions.svg', dpi=600)\n",
    "plt.show()"
   ]
  }
 ],
 "metadata": {
  "kernelspec": {
   "display_name": "Python 3",
   "language": "python",
   "name": "python3"
  },
  "language_info": {
   "codemirror_mode": {
    "name": "ipython",
    "version": 3
   },
   "file_extension": ".py",
   "mimetype": "text/x-python",
   "name": "python",
   "nbconvert_exporter": "python",
   "pygments_lexer": "ipython3",
   "version": "3.8.8"
  }
 },
 "nbformat": 4,
 "nbformat_minor": 5
}
